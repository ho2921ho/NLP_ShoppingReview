{
 "cells": [
  {
   "cell_type": "code",
   "execution_count": 4,
   "id": "43af2723",
   "metadata": {},
   "outputs": [],
   "source": [
    "from collections import Counter\n",
    "from datetime import datetime\n",
    "from dateutil.relativedelta import relativedelta\n",
    "import logging\n",
    "import re\n",
    "import numpy as np\n",
    "import pandas as pd\n",
    "import os\n",
    "import pickle"
   ]
  },
  {
   "cell_type": "code",
   "execution_count": 5,
   "id": "6589e2cc",
   "metadata": {},
   "outputs": [],
   "source": [
    "from_date = '20230323'\n",
    "to_date = '20230323'\n",
    "searching_word = 'economy'"
   ]
  },
  {
   "cell_type": "code",
   "execution_count": 6,
   "id": "609baa25",
   "metadata": {},
   "outputs": [],
   "source": [
    "def get_slop(df2,from_date,to_date):\n",
    "    datelist = pd.date_range(start=from_date, end=to_date, freq = 'M').tolist()\n",
    "    dtlst = []\n",
    "    df = df2.copy()\n",
    "    for d_t in datelist:\n",
    "        d_t = str(d_t)[0:-9]\n",
    "        d = datetime.strptime(d_t, '%Y-%m-%d')\n",
    "        d = d.strftime('%Y%m')\n",
    "        dtlst.append(d)\n",
    "    for dt in dtlst:\n",
    "        df[dt] = df[dt][:-1]*10000 / df[dt][-1]\n",
    "    from scipy import stats\n",
    "\n",
    "    x = [x + 1for x in range(0,len(dtlst))]\n",
    "\n",
    "    slopes = []\n",
    "    for i in list(df.values):\n",
    "        y = i[:-2]\n",
    "        slope, intercept, r, p, std_err = stats.linregress(x, y)\n",
    "        slopes.append(slope)\n",
    "    df['slope'] = slopes\n",
    "    return df"
   ]
  },
  {
   "cell_type": "code",
   "execution_count": 7,
   "id": "de1f3ac4",
   "metadata": {},
   "outputs": [],
   "source": [
    "def data_pro(data,from_date,to_date):\n",
    "\n",
    "    df = data[['일자','키워드']]\n",
    "    df['일자'] = [str(x)[0:6] for x in df['일자']] \n",
    "    # Input string\n",
    "    date_str = to_date\n",
    "\n",
    "    # Convert the string to a datetime object\n",
    "    date_obj = datetime.strptime(date_str, '%Y%m%d')\n",
    "\n",
    "    # Add one month to the datetime object\n",
    "    new_date_obj = date_obj + relativedelta(months=1)\n",
    "\n",
    "    # Convert the result back to a string\n",
    "    new_date_str = new_date_obj.strftime('%Y%m%d')\n",
    "    to_date = new_date_str\n",
    "    datelist = pd.date_range(start=from_date, end=to_date, freq = 'M').tolist()\n",
    "    dtlst = []\n",
    "\n",
    "    for d_t in datelist:\n",
    "        d_t = str(d_t)[0:-9]\n",
    "        d = datetime.strptime(d_t, '%Y-%m-%d')\n",
    "        d = d.strftime('%Y%m')\n",
    "        dtlst.append(d)\n",
    "\n",
    "    # 키워드 사전 \n",
    "    keyword_vocab = []\n",
    "    for i in df['키워드']:\n",
    "        keyword_vocab.extend(i)\n",
    "    keyword_vocab = list(set(keyword_vocab))\n",
    "\n",
    "    # 월별 카운팅 후 병합 # 병합하는 방식 수정해야함. 한달만 카운트는 현재 불가.\n",
    "\n",
    "    tmp_df_list = []\n",
    "    for dt in dtlst:\n",
    "        tmp = []\n",
    "        for i in df[df['일자']== dt]['키워드']:\n",
    "            tmp.extend(i)\n",
    "        tmp_df = pd.DataFrame(pd.Series(Counter(tmp)))\n",
    "        tmp_df = tmp_df.reset_index()\n",
    "        tmp_df = tmp_df.rename(columns = {0:'cnt','index':'keyword'})\n",
    "        tmp_df_list.append(tmp_df)\n",
    "\n",
    "    if len(tmp_df_list) > 1:\n",
    "        df = tmp_df_list[0].merge(tmp_df_list[1], on = 'keyword', how = 'outer')\n",
    "        for i in range(len(tmp_df_list)):\n",
    "            if i > 1:\n",
    "                df = df.merge(tmp_df_list[i], on = 'keyword', how = 'outer')\n",
    "        col = ['keyword'] + dtlst\n",
    "        df.columns = col\n",
    "    elif len(tmp_df_list) == 1:\n",
    "        df = tmp_df_list[0]\n",
    "        col = ['keyword'] + dtlst\n",
    "        df.columns = col\n",
    "\n",
    "    # 합산 값 만들기\n",
    "    df.index = df['keyword']\n",
    "    df = df.drop('keyword', axis = 1)\n",
    "    df['tot_cnt'] = df.sum(axis = 1)\n",
    "    df = df.T\n",
    "    df['year_cnt'] = df.sum(axis = 1)\n",
    "    df = df.T\n",
    "    df\n",
    "\n",
    "    # 결측치 처리\n",
    "    df =df.fillna(0)\n",
    "    return df"
   ]
  },
  {
   "cell_type": "code",
   "execution_count": 8,
   "id": "49f5b729",
   "metadata": {},
   "outputs": [],
   "source": [
    "def DataEn(topic,from_date,to_date,slope = True):\n",
    "    cwd = os.getcwd()\n",
    "    main_path = cwd + '/' + topic\n",
    "    name = \"Keyword{}-{}.pickle\".format(from_date,to_date)\n",
    "    name = name.replace('/','.')\n",
    "    with open(main_path + '/' + 'keyword/' + name, 'rb') as f:\n",
    "        data_e = pickle.load(f)\n",
    "      \n",
    "    result = data_e[['일자','키워드']].explode('키워드').reset_index(drop=True)\n",
    "    data_e = result\n",
    "    print(\"총 기사 건 수 : \" + str(len(data_e['키워드'])))\n",
    "    df_e = data_pro(data_e,from_date,to_date)\n",
    "    df_e.to_csv(cwd +'/' + topic + '/'+ 'Monthly_Count_Keyword {}-{}.csv'.format(from_date,to_date),encoding=\"utf-8-sig\")\n",
    "    \n",
    "    if slope == True:\n",
    "        df_es = get_slop(df_e,from_date,to_date)\n",
    "        df_es.to_csv(cwd +'/' + topic + '/'+ 'Efficient_OLS_Keyword {}-{}.csv'.format(from_date,to_date),encoding=\"utf-8-sig\")"
   ]
  },
  {
   "cell_type": "code",
   "execution_count": 9,
   "id": "a0939271",
   "metadata": {
    "scrolled": true
   },
   "outputs": [
    {
     "name": "stdout",
     "output_type": "stream",
     "text": [
      "총 기사 건 수 : 213\n"
     ]
    }
   ],
   "source": [
    "DataEn(searching_word,from_date,to_date,slope = False) # 한달이내는 기울기를 만들 수 없음."
   ]
  }
 ],
 "metadata": {
  "kernelspec": {
   "display_name": "Python 3 (ipykernel)",
   "language": "python",
   "name": "python3"
  },
  "language_info": {
   "codemirror_mode": {
    "name": "ipython",
    "version": 3
   },
   "file_extension": ".py",
   "mimetype": "text/x-python",
   "name": "python",
   "nbconvert_exporter": "python",
   "pygments_lexer": "ipython3",
   "version": "3.9.13"
  }
 },
 "nbformat": 4,
 "nbformat_minor": 5
}
