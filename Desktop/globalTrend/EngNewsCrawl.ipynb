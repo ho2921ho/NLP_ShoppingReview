{
 "cells": [
  {
   "cell_type": "code",
   "execution_count": 1,
   "id": "7c9b939c",
   "metadata": {},
   "outputs": [],
   "source": [
    "from_date = '20230320'\n",
    "to_date = '20230326'\n",
    "searching_word = 'finance OR banking OR investment OR economy'"
   ]
  },
  {
   "cell_type": "code",
   "execution_count": 2,
   "id": "764b4390",
   "metadata": {},
   "outputs": [],
   "source": [
    "import os\n",
    "import pickle\n",
    "import pandas as pd\n",
    "from datetime import datetime\n",
    "from tqdm import tqdm\n",
    "import time\n",
    "import numpy\n",
    "\n",
    "import re\n",
    "import requests \n",
    "from bs4 import BeautifulSoup\n",
    "import random\n",
    "from selenium import webdriver\n",
    "from selenium.webdriver.common.by import By\n",
    "from newspaper import Article\n",
    "\n",
    "import nltk\n",
    "from keybert import KeyBERT"
   ]
  },
  {
   "cell_type": "code",
   "execution_count": 23,
   "id": "c45d7d93",
   "metadata": {},
   "outputs": [
    {
     "name": "stderr",
     "output_type": "stream",
     "text": [
      "C:\\Users\\NH\\AppData\\Local\\Temp\\ipykernel_29084\\1447849451.py:19: DeprecationWarning: executable_path has been deprecated, please pass in a Service object\n",
      "  driver = webdriver.Chrome(f'./{chrome_ver}/chromedriver.exe', options=option)\n"
     ]
    }
   ],
   "source": [
    "from selenium.webdriver.chrome.options import Options\n",
    "import chromedriver_autoinstaller\n",
    "import subprocess\n",
    "import shutil\n",
    "\n",
    "try:\n",
    "    shutil.rmtree(r\"c:\\chrometemp\")  #쿠키 / 캐쉬파일 삭제\n",
    "except FileNotFoundError:\n",
    "    pass\n",
    "\n",
    "subprocess.Popen(r'C:\\Program Files\\Google\\Chrome\\Application\\chrome.exe --remote-debugging-port=9222 --user-data-dir=\"C:\\chrometemp\"') # 디버거 크롬 구동\n",
    "\n",
    "\n",
    "option = Options()\n",
    "option.add_experimental_option(\"debuggerAddress\", \"127.0.0.1:9222\")\n",
    "\n",
    "chrome_ver = chromedriver_autoinstaller.get_chrome_version().split('.')[0]\n",
    "try:\n",
    "    driver = webdriver.Chrome(f'./{chrome_ver}/chromedriver.exe', options=option)\n",
    "except:\n",
    "    chromedriver_autoinstaller.install(True)\n",
    "    driver = webdriver.Chrome(f'./{chrome_ver}/chromedriver.exe', options=option)\n",
    "driver.implicitly_wait(10)"
   ]
  },
  {
   "cell_type": "code",
   "execution_count": 4,
   "id": "6d642822",
   "metadata": {},
   "outputs": [],
   "source": [
    "cwd = os.getcwd()\n",
    "main_path = cwd + '/' + searching_word\n",
    "\n",
    "def createFolder(directory):\n",
    "    try:\n",
    "        if not os.path.exists(directory):\n",
    "            os.makedirs(directory)\n",
    "    except OSError:\n",
    "        print ('Error: Creating directory. ' +  directory)\n",
    "\n",
    "createFolder(main_path)\n",
    "createFolder(main_path + '/' + 'url')\n",
    "createFolder(main_path + '/' + 'news_backup')\n",
    "createFolder(main_path + '/' + 'news')\n",
    "createFolder(main_path + '/' + 'keyword')"
   ]
  },
  {
   "cell_type": "code",
   "execution_count": 25,
   "id": "9a3eb69e",
   "metadata": {
    "scrolled": true
   },
   "outputs": [
    {
     "name": "stderr",
     "output_type": "stream",
     "text": [
      "\r",
      "  0%|                                                                                            | 0/7 [00:00<?, ?it/s]"
     ]
    },
    {
     "name": "stdout",
     "output_type": "stream",
     "text": [
      "3/17/2023 Url 수집 시작\n"
     ]
    },
    {
     "name": "stderr",
     "output_type": "stream",
     "text": [
      "\r",
      " 14%|███████████▊                                                                       | 1/7 [02:44<16:29, 164.90s/it]"
     ]
    },
    {
     "name": "stdout",
     "output_type": "stream",
     "text": [
      "3/17/2023  Url 수집 완료\n",
      "3/18/2023 Url 수집 시작\n"
     ]
    },
    {
     "name": "stderr",
     "output_type": "stream",
     "text": [
      "\r",
      " 29%|███████████████████████▋                                                           | 2/7 [05:31<13:50, 166.15s/it]"
     ]
    },
    {
     "name": "stdout",
     "output_type": "stream",
     "text": [
      "3/18/2023  Url 수집 완료\n",
      "3/19/2023 Url 수집 시작\n"
     ]
    },
    {
     "name": "stderr",
     "output_type": "stream",
     "text": [
      "\r",
      " 43%|███████████████████████████████████▌                                               | 3/7 [08:17<11:03, 165.79s/it]"
     ]
    },
    {
     "name": "stdout",
     "output_type": "stream",
     "text": [
      "3/19/2023  Url 수집 완료\n",
      "3/20/2023 Url 수집 시작\n"
     ]
    },
    {
     "name": "stderr",
     "output_type": "stream",
     "text": [
      "\r",
      " 57%|███████████████████████████████████████████████▍                                   | 4/7 [11:12<08:28, 169.54s/it]"
     ]
    },
    {
     "name": "stdout",
     "output_type": "stream",
     "text": [
      "3/20/2023  Url 수집 완료\n",
      "3/21/2023 Url 수집 시작\n"
     ]
    },
    {
     "name": "stderr",
     "output_type": "stream",
     "text": [
      "\r",
      " 71%|███████████████████████████████████████████████████████████▎                       | 5/7 [14:11<05:45, 172.75s/it]"
     ]
    },
    {
     "name": "stdout",
     "output_type": "stream",
     "text": [
      "3/21/2023  Url 수집 완료\n",
      "3/22/2023 Url 수집 시작\n"
     ]
    },
    {
     "name": "stderr",
     "output_type": "stream",
     "text": [
      "\r",
      " 86%|███████████████████████████████████████████████████████████████████████▏           | 6/7 [17:38<03:04, 184.60s/it]"
     ]
    },
    {
     "name": "stdout",
     "output_type": "stream",
     "text": [
      "3/22/2023  Url 수집 완료\n",
      "3/23/2023 Url 수집 시작\n"
     ]
    },
    {
     "name": "stderr",
     "output_type": "stream",
     "text": [
      "100%|███████████████████████████████████████████████████████████████████████████████████| 7/7 [21:11<00:00, 181.68s/it]"
     ]
    },
    {
     "name": "stdout",
     "output_type": "stream",
     "text": [
      "3/23/2023  Url 수집 완료\n"
     ]
    },
    {
     "name": "stderr",
     "output_type": "stream",
     "text": [
      "\n"
     ]
    }
   ],
   "source": [
    "# 1 키워드 검색 뉴스 url 수집\n",
    "def page2url(searching_word,date):\n",
    "    searching_word = '{}'.format(searching_word)\n",
    "    urls = []\n",
    "    for start in range(0, 360, 10): ### 하루에 관련 기사를 최대 얼마나 뽑을지 설정.\n",
    "        main_url = 'https://www.google.co.kr/search?q={}&tbs=cdr:1,cd_min:{},cd_max:{}&tbm=nws&ei=dPP-Yu_eCJLL-Qb55bvQDA&start={}&sa=N&ved=2ahUKEwjv6Lvy69H5AhWSZd4KHfnyDso4ChDy0wN6BAgBEDk&biw=1536&bih=754&dpr=1.25'.format(searching_word,date,date,start)\n",
    "        driver.get(url=main_url)\n",
    "        elements = driver.find_elements(By.TAG_NAME, 'a')\n",
    "        lnks = []\n",
    "        for lnk in elements:\n",
    "            lnk = str(lnk.get_attribute('href'))\n",
    "            if 'google' not in lnk and lnk != 'None':\n",
    "                lnks.append(lnk)\n",
    "        if len(lnks) == 0:\n",
    "            print(date, ' Url 수집 완료')\n",
    "            break\n",
    "        urls.extend(lnks)\n",
    "        rand_value =random.uniform(4, 10)\n",
    "        time.sleep(rand_value)\n",
    "        \n",
    "    return urls\n",
    "\n",
    "datelist = pd.date_range(start=from_date, end=to_date).tolist()\n",
    "dtlst = []\n",
    "for d_t in datelist:\n",
    "    d_t = str(d_t)[0:-9]\n",
    "    d = datetime.strptime(d_t, '%Y-%m-%d')\n",
    "    d = d.strftime('%m/%d/%Y')\n",
    "    d = d[0].replace('0','') + d[1:]\n",
    "    d = d[:-7] + d[-7].replace('0','') + d[-6:]\n",
    "    dtlst.append(d)\n",
    "    \n",
    "    \n",
    "Urls = dict()\n",
    "for date in tqdm(dtlst):\n",
    "    print(date,'Url 수집 시작')\n",
    "    urls = page2url(searching_word,date)\n",
    "    Urls[date] = urls\n",
    "    \n",
    "name = \"Urls{}-{}.pickle\".format(from_date,to_date)\n",
    "name = name.replace('/','.')\n",
    "\n",
    "with open(main_path + '/' + 'url/' + name,'wb') as f:\n",
    "    pickle.dump(Urls,f)\n"
   ]
  },
  {
   "cell_type": "code",
   "execution_count": 6,
   "id": "4e592dd2",
   "metadata": {
    "scrolled": true
   },
   "outputs": [
    {
     "name": "stdout",
     "output_type": "stream",
     "text": [
      "3/20/2023 크롤링 시작\n"
     ]
    },
    {
     "name": "stderr",
     "output_type": "stream",
     "text": [
      "37it [00:35,  1.35it/s]"
     ]
    },
    {
     "name": "stdout",
     "output_type": "stream",
     "text": [
      "https://www.forbes.com/sites/forbesbusinesscouncil/2023/03/20/learning-from-the-evolution-of-open-banking/\n"
     ]
    },
    {
     "name": "stderr",
     "output_type": "stream",
     "text": [
      "42it [00:40,  1.08s/it]"
     ]
    },
    {
     "name": "stdout",
     "output_type": "stream",
     "text": [
      "https://www.forbes.com/sites/forbesbusinesscouncil/2023/03/20/the-future-of-ai-in-banking/\n"
     ]
    },
    {
     "name": "stderr",
     "output_type": "stream",
     "text": [
      "48it [00:47,  1.15s/it]"
     ]
    },
    {
     "name": "stdout",
     "output_type": "stream",
     "text": [
      "https://www.forbes.com/sites/devpatnaik/2023/03/20/banking-turmoil-cost-cuts-layoffs-and-more-how-to-manage-through-the-current-gloom-and-doom/\n"
     ]
    },
    {
     "name": "stderr",
     "output_type": "stream",
     "text": [
      "52it [00:57,  2.56s/it]"
     ]
    },
    {
     "name": "stdout",
     "output_type": "stream",
     "text": [
      "https://water.utah.gov/water-marketing/\n"
     ]
    },
    {
     "name": "stderr",
     "output_type": "stream",
     "text": [
      "54it [00:59,  1.75s/it]"
     ]
    },
    {
     "name": "stdout",
     "output_type": "stream",
     "text": [
      "https://www.forbes.com/sites/allisondulinsalisbury/2023/03/20/even-a-sagging-economy-wont-slow-americas-talent-crunch-heres-how-companies-can-respond/\n"
     ]
    },
    {
     "name": "stderr",
     "output_type": "stream",
     "text": [
      "65it [01:19,  1.63s/it]"
     ]
    },
    {
     "name": "stdout",
     "output_type": "stream",
     "text": [
      "https://beincrypto.com/unilend-finance-v2-set-to-launch-on-polygon-zkevm/\n"
     ]
    },
    {
     "name": "stderr",
     "output_type": "stream",
     "text": [
      "72it [01:24,  1.27it/s]"
     ]
    },
    {
     "name": "stdout",
     "output_type": "stream",
     "text": [
      "https://www.forbes.com/sites/edgarsten/2023/03/20/disruption-and-innovation-shaking-up-auto-finance-industry/\n"
     ]
    },
    {
     "name": "stderr",
     "output_type": "stream",
     "text": [
      "81it [01:37,  1.10s/it]"
     ]
    },
    {
     "name": "stdout",
     "output_type": "stream",
     "text": [
      "https://www.fintechfutures.com/2023/03/al-busairi-bank-opts-for-ics-banks-core-banking-system/\n"
     ]
    },
    {
     "name": "stderr",
     "output_type": "stream",
     "text": [
      "84it [01:42,  1.42s/it]"
     ]
    },
    {
     "name": "stdout",
     "output_type": "stream",
     "text": [
      "https://simpleflying.com/air-india-plan-to-finance-aircraft-order/\n"
     ]
    },
    {
     "name": "stderr",
     "output_type": "stream",
     "text": [
      "114it [02:18,  1.28s/it]"
     ]
    },
    {
     "name": "stdout",
     "output_type": "stream",
     "text": [
      "https://www.fintechfutures.com/2023/03/rippling-raises-500m-following-collapse-of-banking-partner-svb/\n"
     ]
    },
    {
     "name": "stderr",
     "output_type": "stream",
     "text": [
      "129it [02:35,  1.17s/it]"
     ]
    },
    {
     "name": "stdout",
     "output_type": "stream",
     "text": [
      "https://www.thestreet.com/investing/elon-musk-warns-the-banking-crisis-may-lead-to-something-bigger\n"
     ]
    },
    {
     "name": "stderr",
     "output_type": "stream",
     "text": [
      "173it [03:32,  1.29s/it]"
     ]
    },
    {
     "name": "stdout",
     "output_type": "stream",
     "text": [
      "https://www.abc.net.au/radionational/programs/lifematters/what-the-current-banking-crisis-means-for-you/102121362\n"
     ]
    },
    {
     "name": "stderr",
     "output_type": "stream",
     "text": [
      "176it [03:34,  1.16it/s]"
     ]
    },
    {
     "name": "stdout",
     "output_type": "stream",
     "text": [
      "https://www.spokesman.com/stories/2023/mar/20/washingtons-revenue-projections-are-slowing-thanks/\n"
     ]
    },
    {
     "name": "stderr",
     "output_type": "stream",
     "text": [
      "181it [03:40,  1.06it/s]"
     ]
    },
    {
     "name": "stdout",
     "output_type": "stream",
     "text": [
      "https://dentistry.co.uk/2023/03/21/west-end-investment-hits-the-market/\n"
     ]
    },
    {
     "name": "stderr",
     "output_type": "stream",
     "text": [
      "192it [03:52,  1.32it/s]"
     ]
    },
    {
     "name": "stdout",
     "output_type": "stream",
     "text": [
      "https://www.forbes.com/sites/forbestechcouncil/2023/03/20/how-to-properly-navigate-the-gig-economy-and-the-large-pool-of-it-experts/\n"
     ]
    },
    {
     "name": "stderr",
     "output_type": "stream",
     "text": [
      "200it [04:01,  1.08s/it]"
     ]
    },
    {
     "name": "stdout",
     "output_type": "stream",
     "text": [
      "https://www.dailynewsegypt.com/2023/03/20/abe-expands-banking-services-in-south-sinai-opens-newest-branch-in-sharm-el-sheikh/\n"
     ]
    },
    {
     "name": "stderr",
     "output_type": "stream",
     "text": [
      "\r",
      "201it [04:02,  1.16s/it]"
     ]
    },
    {
     "name": "stdout",
     "output_type": "stream",
     "text": [
      "https://www.channelfutures.com/security/the-gately-report-huntress-to-double-down-on-msp-partner-investment-in-2023\n"
     ]
    },
    {
     "name": "stderr",
     "output_type": "stream",
     "text": [
      "213it [04:21,  1.36s/it]"
     ]
    },
    {
     "name": "stdout",
     "output_type": "stream",
     "text": [
      "https://www.barrons.com/articles/silicon-valley-bank-startups-female-founders-59b5a72f\n"
     ]
    },
    {
     "name": "stderr",
     "output_type": "stream",
     "text": [
      "215it [04:23,  1.22s/it]\n"
     ]
    },
    {
     "name": "stdout",
     "output_type": "stream",
     "text": [
      "총 215건 중 197 건 크롤링 성공\n",
      "3-20-2023  크롤링 완료\n",
      "3/21/2023 크롤링 시작\n"
     ]
    },
    {
     "name": "stderr",
     "output_type": "stream",
     "text": [
      "28it [00:28,  1.27it/s]"
     ]
    },
    {
     "name": "stdout",
     "output_type": "stream",
     "text": [
      "https://www.forbes.com/sites/forbestechcouncil/2023/03/21/the-economy-is-on-a-knifes-edge-what-do-independent-businesses-need-to-know/\n"
     ]
    },
    {
     "name": "stderr",
     "output_type": "stream",
     "text": [
      "36it [00:33,  1.83it/s]"
     ]
    },
    {
     "name": "stdout",
     "output_type": "stream",
     "text": [
      "https://www.forbes.com/sites/dereksaul/2023/03/21/yellen-testifies-banking-crisis-different-from-2008-but-fund-managers-worry-systemic-debt-risk-could-crash-market/\n"
     ]
    },
    {
     "name": "stderr",
     "output_type": "stream",
     "text": [
      "50it [00:51,  1.01it/s]"
     ]
    },
    {
     "name": "stdout",
     "output_type": "stream",
     "text": [
      "https://www.wsj.com/articles/banking-turmoil-tests-the-american-consumer-377d4c1b\n"
     ]
    },
    {
     "name": "stderr",
     "output_type": "stream",
     "text": [
      "52it [00:54,  1.28s/it]"
     ]
    },
    {
     "name": "stdout",
     "output_type": "stream",
     "text": [
      "https://www.forbes.com/sites/ericbrotman/2023/03/21/top-5-personal-finance-books-to-read-in-2023/\n"
     ]
    },
    {
     "name": "stderr",
     "output_type": "stream",
     "text": [
      "57it [00:56,  1.41it/s]"
     ]
    },
    {
     "name": "stdout",
     "output_type": "stream",
     "text": [
      "https://www.forbes.com/sites/brandonkochkodin/2023/03/21/playing-mind-games-with-the-economy-the-federal-reserves-reverse-psychology-gambit/\n"
     ]
    },
    {
     "name": "stderr",
     "output_type": "stream",
     "text": [
      "72it [01:09,  1.13it/s]"
     ]
    },
    {
     "name": "stdout",
     "output_type": "stream",
     "text": [
      "https://www.wsj.com/articles/bitcoin-booms-on-back-of-bank-crisis-6c388bd9\n"
     ]
    },
    {
     "name": "stderr",
     "output_type": "stream",
     "text": [
      "83it [01:22,  1.61s/it]"
     ]
    },
    {
     "name": "stdout",
     "output_type": "stream",
     "text": [
      "https://www.forbes.com/sites/robertsher/2023/03/21/agile-finance-teams-drive-healthy-growth-for-midsized-companies/\n"
     ]
    },
    {
     "name": "stderr",
     "output_type": "stream",
     "text": [
      "89it [01:28,  1.01it/s]"
     ]
    },
    {
     "name": "stdout",
     "output_type": "stream",
     "text": [
      "https://www.wsj.com/articles/the-joe-biden-banking-crisis-svb-jpmorgan-citibank-lenders-interest-rates-inflation-dollar-financial-system-deposits-bank-run-8bd36b0b\n"
     ]
    },
    {
     "name": "stderr",
     "output_type": "stream",
     "text": [
      "91it [01:30,  1.26it/s]"
     ]
    },
    {
     "name": "stdout",
     "output_type": "stream",
     "text": [
      "https://www.devex.com/news/devex-invested-the-investment-case-for-smelly-business-105167\n"
     ]
    },
    {
     "name": "stderr",
     "output_type": "stream",
     "text": [
      "95it [01:32,  1.84it/s]"
     ]
    },
    {
     "name": "stdout",
     "output_type": "stream",
     "text": [
      "https://www.wsj.com/articles/burford-capital-litigation-financing-sysco-lawsuit-boies-schiller-a4b593fb\n"
     ]
    },
    {
     "name": "stderr",
     "output_type": "stream",
     "text": [
      "107it [01:48,  1.55s/it]"
     ]
    },
    {
     "name": "stdout",
     "output_type": "stream",
     "text": [
      "https://www.thestreet.com/technology/elon-musk-has-a-bold-idea-to-end-the-banking-crisis\n"
     ]
    },
    {
     "name": "stderr",
     "output_type": "stream",
     "text": [
      "129it [02:21,  1.13it/s]"
     ]
    },
    {
     "name": "stdout",
     "output_type": "stream",
     "text": [
      "https://financialpost.com/fp-finance/banking/banking-crisis-uncertainty-td-bank-first-horizon\n"
     ]
    },
    {
     "name": "stderr",
     "output_type": "stream",
     "text": [
      "140it [02:35,  1.02it/s]"
     ]
    },
    {
     "name": "stdout",
     "output_type": "stream",
     "text": [
      "https://www.barrons.com/articles/these-high-yielding-mortgage-reits-could-benefit-from-the-banking-tumult-cdc01d55\n"
     ]
    },
    {
     "name": "stderr",
     "output_type": "stream",
     "text": [
      "147it [02:42,  1.03s/it]"
     ]
    },
    {
     "name": "stdout",
     "output_type": "stream",
     "text": [
      "https://www.forbes.com/sites/forbesfinancecouncil/2023/03/21/what-to-know-before-investing-in-multifamily-during-economy-uncertainty/\n"
     ]
    },
    {
     "name": "stderr",
     "output_type": "stream",
     "text": [
      "154it [03:02,  4.37s/it]"
     ]
    },
    {
     "name": "stdout",
     "output_type": "stream",
     "text": [
      "https://www.aa.com.tr/en/world/nato-chief-says-allies-need-more-ambitious-defense-investment-target/2851989\n"
     ]
    },
    {
     "name": "stderr",
     "output_type": "stream",
     "text": [
      "164it [03:17,  1.15s/it]"
     ]
    },
    {
     "name": "stdout",
     "output_type": "stream",
     "text": [
      "https://www.barrons.com/articles/banking-panic-earnings-entire-economy-a5f06644\n"
     ]
    },
    {
     "name": "stderr",
     "output_type": "stream",
     "text": [
      "186it [03:56,  1.07s/it]"
     ]
    },
    {
     "name": "stdout",
     "output_type": "stream",
     "text": [
      "https://africanfinancials.com/document/ug-cent-2023-pr-hy/\n"
     ]
    },
    {
     "name": "stderr",
     "output_type": "stream",
     "text": [
      "189it [04:07,  3.18s/it]"
     ]
    },
    {
     "name": "stdout",
     "output_type": "stream",
     "text": [
      "https://www.cbc.ca/news/canada/ottawa/construction-dwyer-hill-training-centre-1.6785199\n"
     ]
    },
    {
     "name": "stderr",
     "output_type": "stream",
     "text": [
      "195it [04:12,  1.03it/s]"
     ]
    },
    {
     "name": "stdout",
     "output_type": "stream",
     "text": [
      "http://www.hedgeweek.com/2023/03/21/319912/banking-crisis-have-limited-impact-commodities-says-citadel\n"
     ]
    },
    {
     "name": "stderr",
     "output_type": "stream",
     "text": [
      "213it [04:37,  1.21s/it]"
     ]
    },
    {
     "name": "stdout",
     "output_type": "stream",
     "text": [
      "https://www.unitetheunion.org/news-events/news/2023/march/derby-as-great-british-railways-hq-must-now-attract-further-investment/\n"
     ]
    },
    {
     "name": "stderr",
     "output_type": "stream",
     "text": [
      "218it [04:43,  1.30s/it]\n"
     ]
    },
    {
     "name": "stdout",
     "output_type": "stream",
     "text": [
      "총 218건 중 198 건 크롤링 성공\n",
      "3-21-2023  크롤링 완료\n",
      "3/22/2023 크롤링 시작\n"
     ]
    },
    {
     "name": "stderr",
     "output_type": "stream",
     "text": [
      "16it [00:17,  1.12it/s]"
     ]
    },
    {
     "name": "stdout",
     "output_type": "stream",
     "text": [
      "https://www.fintechfutures.com/2023/03/egypts-faisal-islamic-bank-taps-igcb-to-power-its-digital-banking-services/\n"
     ]
    },
    {
     "name": "stderr",
     "output_type": "stream",
     "text": [
      "32it [00:33,  1.24s/it]"
     ]
    },
    {
     "name": "stdout",
     "output_type": "stream",
     "text": [
      "https://www.forbes.com/sites/alexandralevine/2023/03/22/how-a-tiktok-ban-would-affect-creators-businesses-economy/\n"
     ]
    },
    {
     "name": "stderr",
     "output_type": "stream",
     "text": [
      "\r",
      "34it [00:42,  2.87s/it]"
     ]
    },
    {
     "name": "stdout",
     "output_type": "stream",
     "text": [
      "https://www.aa.com.tr/en/world/russian-wagner-chief-offers-to-finance-joint-security-project-with-us-in-africa/2853400\n"
     ]
    },
    {
     "name": "stderr",
     "output_type": "stream",
     "text": [
      "51it [01:10,  2.13s/it]"
     ]
    },
    {
     "name": "stdout",
     "output_type": "stream",
     "text": [
      "https://www.fiercetelecom.com/broadband/altafiber-ramps-ohio-fiber-deployments-100m-investment\n"
     ]
    },
    {
     "name": "stderr",
     "output_type": "stream",
     "text": [
      "62it [01:28,  1.58s/it]"
     ]
    },
    {
     "name": "stdout",
     "output_type": "stream",
     "text": [
      "https://www.forbes.com/sites/kenrapoza/2023/03/22/where-is-the-russian-banking-crisis/\n"
     ]
    },
    {
     "name": "stderr",
     "output_type": "stream",
     "text": [
      "102it [02:21,  1.03it/s]"
     ]
    },
    {
     "name": "stdout",
     "output_type": "stream",
     "text": [
      "https://calgaryherald.com/news/local-news/with-economy-on-the-rise-alberta-leads-country-in-interprovincial-migration\n"
     ]
    },
    {
     "name": "stderr",
     "output_type": "stream",
     "text": [
      "\r",
      "103it [02:22,  1.32it/s]"
     ]
    },
    {
     "name": "stdout",
     "output_type": "stream",
     "text": [
      "https://www.ercot.com/committees/tac/cfsg\n"
     ]
    },
    {
     "name": "stderr",
     "output_type": "stream",
     "text": [
      "116it [02:43,  1.57s/it]"
     ]
    },
    {
     "name": "stdout",
     "output_type": "stream",
     "text": [
      "https://financialpost.com/fp-finance/banking/canadian-banking-group-ottawa-review-deposit-insurance-limits\n"
     ]
    },
    {
     "name": "stderr",
     "output_type": "stream",
     "text": [
      "118it [02:45,  1.29s/it]"
     ]
    },
    {
     "name": "stdout",
     "output_type": "stream",
     "text": [
      "https://www.pymnts.com/news/b2b-payments/2023/sap-fioneer-launches-b2b-embedded-finance-platform-financial-institutions/\n"
     ]
    },
    {
     "name": "stderr",
     "output_type": "stream",
     "text": [
      "133it [03:06,  1.10s/it]"
     ]
    },
    {
     "name": "stdout",
     "output_type": "stream",
     "text": [
      "https://www.novoco.com/notes-from-novogradac/cardin-young-reintroduce-neighborhood-homes-investment-act-senate-finance-committee-considers\n"
     ]
    },
    {
     "name": "stderr",
     "output_type": "stream",
     "text": [
      "135it [03:07,  1.34it/s]"
     ]
    },
    {
     "name": "stdout",
     "output_type": "stream",
     "text": [
      "https://www.fintechfutures.com/2023/03/seilern-investment-management-taps-finbourne-for-lusid-data-platform/\n"
     ]
    },
    {
     "name": "stderr",
     "output_type": "stream",
     "text": [
      "141it [03:16,  1.38s/it]"
     ]
    },
    {
     "name": "stdout",
     "output_type": "stream",
     "text": [
      "https://impactalpha.com/credable-raises-2-5-million-to-accelerate-embedded-finance-in-emerging-markets/\n"
     ]
    },
    {
     "name": "stderr",
     "output_type": "stream",
     "text": [
      "162it [03:43,  1.18s/it]"
     ]
    },
    {
     "name": "stdout",
     "output_type": "stream",
     "text": [
      "https://www.forbes.com/sites/garydrenik/2023/03/22/for-subscription-businesses-customer-success-could-be-the-essential-investment-of-2023/\n"
     ]
    },
    {
     "name": "stderr",
     "output_type": "stream",
     "text": [
      "171it [03:57,  1.40s/it]"
     ]
    },
    {
     "name": "stdout",
     "output_type": "stream",
     "text": [
      "https://www.roi-nj.com/2023/03/22/opinion/op-ed/bracken-with-banking-crisis-potentially-deepening-lets-use-our-funds-wisely/\n"
     ]
    },
    {
     "name": "stderr",
     "output_type": "stream",
     "text": [
      "189it [04:32,  3.32s/it]"
     ]
    },
    {
     "name": "stdout",
     "output_type": "stream",
     "text": [
      "https://www.oedigital.com/news/503809-floating-wind-specialist-bw-ideol-secures-investment-from-ademe-investissement\n"
     ]
    },
    {
     "name": "stderr",
     "output_type": "stream",
     "text": [
      "194it [04:36,  1.19s/it]"
     ]
    },
    {
     "name": "stdout",
     "output_type": "stream",
     "text": [
      "https://www.morningjournalnews.com/opinion/editorials/2023/03/ohioans-deserve-good-return-on-investment/\n"
     ]
    },
    {
     "name": "stderr",
     "output_type": "stream",
     "text": [
      "224it [05:15,  1.05s/it]"
     ]
    },
    {
     "name": "stdout",
     "output_type": "stream",
     "text": [
      "https://www.novoco.com/news/eig-report-oz-investment-reached-nearly-half-zones-end-2020-creating-economic-boost\n"
     ]
    },
    {
     "name": "stderr",
     "output_type": "stream",
     "text": [
      "243it [05:38,  1.39s/it]\n"
     ]
    },
    {
     "name": "stdout",
     "output_type": "stream",
     "text": [
      "총 243건 중 226 건 크롤링 성공\n",
      "3-22-2023  크롤링 완료\n",
      "3/23/2023 크롤링 시작\n"
     ]
    },
    {
     "name": "stderr",
     "output_type": "stream",
     "text": [
      "\r",
      "0it [00:00, ?it/s]"
     ]
    },
    {
     "name": "stdout",
     "output_type": "stream",
     "text": [
      "https://en.yna.co.kr/view/AEN20230324002700320\n"
     ]
    },
    {
     "name": "stderr",
     "output_type": "stream",
     "text": [
      "23it [00:26,  1.01s/it]"
     ]
    },
    {
     "name": "stdout",
     "output_type": "stream",
     "text": [
      "https://simpleflying.com/cathay-pacific-regional-premium-economy-review/\n"
     ]
    },
    {
     "name": "stderr",
     "output_type": "stream",
     "text": [
      "31it [00:36,  1.71s/it]"
     ]
    },
    {
     "name": "stdout",
     "output_type": "stream",
     "text": [
      "https://www.fintechfutures.com/2023/03/the-future-of-banks-is-not-banking/\n"
     ]
    },
    {
     "name": "stderr",
     "output_type": "stream",
     "text": [
      "42it [00:47,  1.40s/it]"
     ]
    },
    {
     "name": "stdout",
     "output_type": "stream",
     "text": [
      "https://www.forbes.com/sites/siladityaray/2023/03/23/bidens-approval-rating-falls-again-amid-concerns-about-economy-poll-finds/\n"
     ]
    },
    {
     "name": "stderr",
     "output_type": "stream",
     "text": [
      "45it [00:50,  1.15s/it]"
     ]
    },
    {
     "name": "stdout",
     "output_type": "stream",
     "text": [
      "https://www.norfolk.gov.uk/news/2023/03/10-year-investment-blueprint-to-be-considered\n"
     ]
    },
    {
     "name": "stderr",
     "output_type": "stream",
     "text": [
      "70it [01:22,  1.18s/it]"
     ]
    },
    {
     "name": "stdout",
     "output_type": "stream",
     "text": [
      "https://www.fintechfutures.com/2023/03/spanish-fintech-id-finance-lands-e30m-equity-funding/\n"
     ]
    },
    {
     "name": "stderr",
     "output_type": "stream",
     "text": [
      "79it [01:29,  1.60it/s]"
     ]
    },
    {
     "name": "stdout",
     "output_type": "stream",
     "text": [
      "https://www.outlookindia.com/business-spotlight/renq-finance-renq-and-shiba-inu-shib-can-turn-your-1-into-25-in-2023-here-s-how--news-272473\n"
     ]
    },
    {
     "name": "stderr",
     "output_type": "stream",
     "text": [
      "86it [01:38,  1.03s/it]"
     ]
    },
    {
     "name": "stdout",
     "output_type": "stream",
     "text": [
      "https://www.wsj.com/articles/svb-silicon-valley-bank-collapse-chief-risk-officer-f6e1fcfd\n"
     ]
    },
    {
     "name": "stderr",
     "output_type": "stream",
     "text": [
      "88it [01:41,  1.13s/it]"
     ]
    },
    {
     "name": "stdout",
     "output_type": "stream",
     "text": [
      "https://www.ballarat.vic.gov.au/news/circular-economy-businesses-invited-early-involvement-major-ballarat-circular-economy\n"
     ]
    },
    {
     "name": "stderr",
     "output_type": "stream",
     "text": [
      "99it [01:58,  1.98s/it]"
     ]
    },
    {
     "name": "stdout",
     "output_type": "stream",
     "text": [
      "https://www.forbes.com/sites/catherinewang/2023/03/23/temaseks-sheares-healthcare-makes-first-mental-health-investment-with-singaporean-startups-4-million-funding-round/\n"
     ]
    },
    {
     "name": "stderr",
     "output_type": "stream",
     "text": [
      "118it [02:23,  1.20s/it]"
     ]
    },
    {
     "name": "stdout",
     "output_type": "stream",
     "text": [
      "https://www.barrons.com/articles/diesel-drops-its-an-economic-danger-sign-f86b683a\n"
     ]
    },
    {
     "name": "stderr",
     "output_type": "stream",
     "text": [
      "120it [02:36,  3.98s/it]"
     ]
    },
    {
     "name": "stdout",
     "output_type": "stream",
     "text": [
      "https://www.aa.com.tr/en/world/china-puts-us-on-notice-over-banking-crisis/2854035\n"
     ]
    },
    {
     "name": "stderr",
     "output_type": "stream",
     "text": [
      "135it [02:57,  1.46s/it]"
     ]
    },
    {
     "name": "stdout",
     "output_type": "stream",
     "text": [
      "https://www.forbes.com/sites/tomhager/2023/03/23/social-security-a-good-or-bad-investment/\n"
     ]
    },
    {
     "name": "stderr",
     "output_type": "stream",
     "text": [
      "144it [03:09,  1.55s/it]"
     ]
    },
    {
     "name": "stdout",
     "output_type": "stream",
     "text": [
      "https://www.forbes.com/sites/forbeseq/2023/03/23/why-diversity-in-finance--business-matter/\n"
     ]
    },
    {
     "name": "stderr",
     "output_type": "stream",
     "text": [
      "\r",
      "146it [03:11,  1.26s/it]"
     ]
    },
    {
     "name": "stdout",
     "output_type": "stream",
     "text": [
      "https://www.forbes.com/sites/forbesfinancecouncil/2023/03/23/personal-data-protection-in-the-open-finance-era-an-ever-changing-puzzle/\n"
     ]
    },
    {
     "name": "stderr",
     "output_type": "stream",
     "text": [
      "154it [03:21,  1.73s/it]"
     ]
    },
    {
     "name": "stdout",
     "output_type": "stream",
     "text": [
      "https://committees.parliament.uk/committee/365/business-energy-and-industrial-strategy-committee/news/194371/national-security-and-investment-act-scrutiny-deal-agreed-between-committee-and-government/\n"
     ]
    },
    {
     "name": "stderr",
     "output_type": "stream",
     "text": [
      "164it [03:36,  1.91s/it]"
     ]
    },
    {
     "name": "stdout",
     "output_type": "stream",
     "text": [
      "https://www.insidehousing.co.uk/news/investment-giant-agrees-226-home-deal-with-modular-specialist-80810\n"
     ]
    },
    {
     "name": "stderr",
     "output_type": "stream",
     "text": [
      "167it [03:40,  1.66s/it]"
     ]
    },
    {
     "name": "stdout",
     "output_type": "stream",
     "text": [
      "https://www.barrons.com/articles/financial-bank-stocks-short-sellers-silicon-signature-2b8a4a4d\n"
     ]
    },
    {
     "name": "stderr",
     "output_type": "stream",
     "text": [
      "174it [03:49,  1.15s/it]"
     ]
    },
    {
     "name": "stdout",
     "output_type": "stream",
     "text": [
      "https://renews.biz/84634/enbw-takes-final-investment-decision-on-he-dreiht/\n"
     ]
    },
    {
     "name": "stderr",
     "output_type": "stream",
     "text": [
      "195it [04:26,  1.61s/it]"
     ]
    },
    {
     "name": "stdout",
     "output_type": "stream",
     "text": [
      "https://www.channelfutures.com/new-changing-channel-programs/menlo-security-rolls-out-new-channel-initiatives-investment\n"
     ]
    },
    {
     "name": "stderr",
     "output_type": "stream",
     "text": [
      "198it [04:36,  3.11s/it]"
     ]
    },
    {
     "name": "stdout",
     "output_type": "stream",
     "text": [
      "https://www.aa.com.tr/en/economy/imf-official-says-continued-vigilance-warranted-in-wake-of-banking-crisis/2854358\n"
     ]
    },
    {
     "name": "stderr",
     "output_type": "stream",
     "text": [
      "218it [05:07,  1.31s/it]"
     ]
    },
    {
     "name": "stdout",
     "output_type": "stream",
     "text": [
      "https://gmauthority.com/blog/2023/03/2023-chevy-colorado-4wd-fuel-economy-ratings-with-l3b-engine-revealed/\n"
     ]
    },
    {
     "name": "stderr",
     "output_type": "stream",
     "text": [
      "223it [05:15,  1.36s/it]"
     ]
    },
    {
     "name": "stdout",
     "output_type": "stream",
     "text": [
      "https://www.barrons.com/articles/bank-panic-has-historical-echoes-northern-rock-svb-c12f6780\n"
     ]
    },
    {
     "name": "stderr",
     "output_type": "stream",
     "text": [
      "234it [05:27,  1.40s/it]\n"
     ]
    },
    {
     "name": "stdout",
     "output_type": "stream",
     "text": [
      "https://www.forbes.com/sites/forbesbusinesscouncil/2023/03/23/three-trends-set-to-shape-the-creator-economy-during-the-downturn/\n",
      "총 234건 중 210 건 크롤링 성공\n",
      "3-23-2023  크롤링 완료\n",
      "3/24/2023 크롤링 시작\n"
     ]
    },
    {
     "name": "stderr",
     "output_type": "stream",
     "text": [
      "27it [00:30,  1.46s/it]"
     ]
    },
    {
     "name": "stdout",
     "output_type": "stream",
     "text": [
      "https://www.wsj.com/articles/invest-money-banking-crisis-c9d1c572\n"
     ]
    },
    {
     "name": "stderr",
     "output_type": "stream",
     "text": [
      "46it [00:55,  1.02it/s]"
     ]
    },
    {
     "name": "stdout",
     "output_type": "stream",
     "text": [
      "https://www.forbes.com/sites/forbesbusinessdevelopmentcouncil/2023/03/24/how-cfos-can-better-evaluate-new-vendors-in-a-down-economy/\n"
     ]
    },
    {
     "name": "stderr",
     "output_type": "stream",
     "text": [
      "53it [01:01,  1.08it/s]"
     ]
    },
    {
     "name": "stdout",
     "output_type": "stream",
     "text": [
      "https://www.wsj.com/articles/banking-strains-inflation-threaten-global-economic-rebound-949709c\n"
     ]
    },
    {
     "name": "stderr",
     "output_type": "stream",
     "text": [
      "66it [01:18,  1.58s/it]"
     ]
    },
    {
     "name": "stdout",
     "output_type": "stream",
     "text": [
      "https://www.forbes.com/sites/trevorclawson/2023/03/24/action-required-britains-innovation-economy-could-quadruple-in-value-but-its-not-a-given/\n"
     ]
    },
    {
     "name": "stderr",
     "output_type": "stream",
     "text": [
      "71it [01:28,  1.40s/it]"
     ]
    },
    {
     "name": "stdout",
     "output_type": "stream",
     "text": [
      "https://lordslibrary.parliament.uk/transport-investment-bus-and-rail/\n"
     ]
    },
    {
     "name": "stderr",
     "output_type": "stream",
     "text": [
      "83it [01:45,  1.21s/it]"
     ]
    },
    {
     "name": "stdout",
     "output_type": "stream",
     "text": [
      "https://www.forbes.com/sites/garydrenik/2023/03/24/inflation-the-economy-and-stock-market-an-in-depth-discussion-with-morgan-slade-from-cloudquant/\n"
     ]
    },
    {
     "name": "stderr",
     "output_type": "stream",
     "text": [
      "87it [01:57,  3.25s/it]"
     ]
    },
    {
     "name": "stdout",
     "output_type": "stream",
     "text": [
      "https://www.aa.com.tr/en/economy/feds-move-to-hike-rates-disappointing-given-us-banking-system-fragility-expert/2854502\n"
     ]
    },
    {
     "name": "stderr",
     "output_type": "stream",
     "text": [
      "97it [02:08,  1.49it/s]"
     ]
    },
    {
     "name": "stdout",
     "output_type": "stream",
     "text": [
      "https://www.pymnts.com/news/investment-tracker/2023/thunes-raises-30-million-dollars-so-far-ongoing-investment-round/\n",
      "https://www.darkreading.com/application-security/application-security-requires-more-investment-in-developer-education\n"
     ]
    },
    {
     "name": "stderr",
     "output_type": "stream",
     "text": [
      "99it [02:18,  3.07s/it]"
     ]
    },
    {
     "name": "stdout",
     "output_type": "stream",
     "text": [
      "https://www.aa.com.tr/en/europe/russian-fm-says-focus-of-global-economy-shifting-from-euro-atlantic-to-eurasia/2854845\n"
     ]
    },
    {
     "name": "stderr",
     "output_type": "stream",
     "text": [
      "107it [02:26,  1.05it/s]"
     ]
    },
    {
     "name": "stdout",
     "output_type": "stream",
     "text": [
      "https://www.forbes.com/advisor/banking/are-your-deposits-at-risk/\n"
     ]
    },
    {
     "name": "stderr",
     "output_type": "stream",
     "text": [
      "110it [02:38,  3.44s/it]"
     ]
    },
    {
     "name": "stdout",
     "output_type": "stream",
     "text": [
      "https://www.hl.co.uk/news/articles/the-most-popular-funds-in-our-isa-millionaires-investment-portfolios\n"
     ]
    },
    {
     "name": "stderr",
     "output_type": "stream",
     "text": [
      "136it [03:17,  1.68s/it]"
     ]
    },
    {
     "name": "stdout",
     "output_type": "stream",
     "text": [
      "https://www.forbes.com/sites/davidprosser/2023/03/24/can-pepper-content-save-the-creator-economy-from-the-ai-monster/\n"
     ]
    },
    {
     "name": "stderr",
     "output_type": "stream",
     "text": [
      "141it [03:23,  1.14s/it]"
     ]
    },
    {
     "name": "stdout",
     "output_type": "stream",
     "text": [
      "https://www.barrons.com/articles/diesel-gasoline-price-economy-f86b683a\n"
     ]
    },
    {
     "name": "stderr",
     "output_type": "stream",
     "text": [
      "144it [03:26,  1.11s/it]"
     ]
    },
    {
     "name": "stdout",
     "output_type": "stream",
     "text": [
      "https://www.forbes.com/sites/forbesbusinesscouncil/2023/03/24/five-tips-for-securing-a-commercial-loan-in-an-uncertain-economy/\n"
     ]
    },
    {
     "name": "stderr",
     "output_type": "stream",
     "text": [
      "152it [03:34,  1.16s/it]"
     ]
    },
    {
     "name": "stdout",
     "output_type": "stream",
     "text": [
      "https://www.outlookindia.com/business/finance-bill-2023-govt-to-look-into-pension-issue-bring-tax-on-credit-card-payments-for-foreign-trips-under-lrs--news-272955\n"
     ]
    },
    {
     "name": "stderr",
     "output_type": "stream",
     "text": [
      "161it [03:48,  1.61s/it]"
     ]
    },
    {
     "name": "stdout",
     "output_type": "stream",
     "text": [
      "https://www.fintechfutures.com/2023/03/fintech-futures-top-five-stories-of-the-week-24-march-2023/\n"
     ]
    },
    {
     "name": "stderr",
     "output_type": "stream",
     "text": [
      "204it [05:01,  3.35s/it]"
     ]
    },
    {
     "name": "stdout",
     "output_type": "stream",
     "text": [
      "https://www.miamiherald.com/news/business/article273291550.html\n"
     ]
    },
    {
     "name": "stderr",
     "output_type": "stream",
     "text": [
      "208it [05:06,  1.72s/it]"
     ]
    },
    {
     "name": "stdout",
     "output_type": "stream",
     "text": [
      "https://scrip.pharmaintelligence.informa.com/SC148110/Finance-Watch-Another-VC-Mega-Round-As-Flare-Raises-$123m-Series-B\n"
     ]
    },
    {
     "name": "stderr",
     "output_type": "stream",
     "text": [
      "219it [05:25,  1.49s/it]\n"
     ]
    },
    {
     "name": "stdout",
     "output_type": "stream",
     "text": [
      "총 219건 중 200 건 크롤링 성공\n",
      "3-24-2023  크롤링 완료\n",
      "3/25/2023 크롤링 시작\n"
     ]
    },
    {
     "name": "stderr",
     "output_type": "stream",
     "text": [
      "7it [00:08,  1.22s/it]"
     ]
    },
    {
     "name": "stdout",
     "output_type": "stream",
     "text": [
      "https://www.wsj.com/articles/welcome-to-the-superprime-banking-crisis-9ab6b6d2\n"
     ]
    },
    {
     "name": "stderr",
     "output_type": "stream",
     "text": [
      "34it [00:36,  1.53s/it]"
     ]
    },
    {
     "name": "stdout",
     "output_type": "stream",
     "text": [
      "https://beincrypto.com/bitcoin-btc-role-global-banking-crisis/\n"
     ]
    },
    {
     "name": "stderr",
     "output_type": "stream",
     "text": [
      "46it [00:47,  1.12it/s]"
     ]
    },
    {
     "name": "stdout",
     "output_type": "stream",
     "text": [
      "https://www.barrons.com/articles/investing-in-the-new-energy-economy-7baede3d\n"
     ]
    },
    {
     "name": "stderr",
     "output_type": "stream",
     "text": [
      "49it [00:48,  1.39it/s]"
     ]
    },
    {
     "name": "stdout",
     "output_type": "stream",
     "text": [
      "https://edmontonjournal.com/opinion/columnists/opinion-highway-28-aging-unsafe-link-to-northeast-alberta-needs-investment\n"
     ]
    },
    {
     "name": "stderr",
     "output_type": "stream",
     "text": [
      "60it [01:07,  2.24s/it]"
     ]
    },
    {
     "name": "stdout",
     "output_type": "stream",
     "text": [
      "https://www.forbes.com/sites/greatspeculations/2023/03/25/obtuse-the-fed--treasury-view-of-banking-issues/\n"
     ]
    },
    {
     "name": "stderr",
     "output_type": "stream",
     "text": [
      "66it [01:11,  1.03s/it]"
     ]
    },
    {
     "name": "stdout",
     "output_type": "stream",
     "text": [
      "https://siliconangle.com/2023/03/25/tech-firms-exposed-banking-crisis/\n"
     ]
    },
    {
     "name": "stderr",
     "output_type": "stream",
     "text": [
      "76it [01:18,  1.86it/s]"
     ]
    },
    {
     "name": "stdout",
     "output_type": "stream",
     "text": [
      "https://www.outlookindia.com/business-spotlight/will-dogecoin-doge-hit-1-in-2023-or-is-renq-finance-renq-the-place-to-move-for-smart-investors-experts-analyze-news-273179\n"
     ]
    },
    {
     "name": "stderr",
     "output_type": "stream",
     "text": [
      "117it [02:21,  1.12s/it]"
     ]
    },
    {
     "name": "stdout",
     "output_type": "stream",
     "text": [
      "https://www.mapsofindia.com/my-india/quiz/harish-is-working-as-a-finance-manager-in-kozee-softwares-ltd-he-has-been-awarded-best-employee-of-the-year-award-because-of-his-foresightedness\n"
     ]
    },
    {
     "name": "stderr",
     "output_type": "stream",
     "text": [
      "141it [03:02,  1.06it/s]"
     ]
    },
    {
     "name": "stdout",
     "output_type": "stream",
     "text": [
      "https://www.newsweek.com/young-couple-buys-renovates-laundromat-south-carolina-1790024\n",
      "https://www.wsj.com/articles/irans-truce-with-saudi-arabia-heals-rift-but-not-its-reeling-economy-cfc23863?mod=world_major_2_pos1\n"
     ]
    },
    {
     "name": "stderr",
     "output_type": "stream",
     "text": [
      "156it [03:22,  1.11it/s]"
     ]
    },
    {
     "name": "stdout",
     "output_type": "stream",
     "text": [
      "https://winnipegsun.com/news/provincial/private-sector-investment-brings-touch-of-hollywood-to-southern-manitoba-town\n"
     ]
    },
    {
     "name": "stderr",
     "output_type": "stream",
     "text": [
      "162it [03:31,  1.24s/it]"
     ]
    },
    {
     "name": "stdout",
     "output_type": "stream",
     "text": [
      "https://www.vanguardngr.com/2023/03/women-in-trucking-ikevuje-calls-for-womens-support-to-expand-economy/\n"
     ]
    },
    {
     "name": "stderr",
     "output_type": "stream",
     "text": [
      "178it [03:57,  1.00it/s]"
     ]
    },
    {
     "name": "stdout",
     "output_type": "stream",
     "text": [
      "https://themalaysianreserve.com/2023/03/25/anifahs-appointment-as-senator-to-boost-labuan-economy-labuan-chamber-of-commerce/\n"
     ]
    },
    {
     "name": "stderr",
     "output_type": "stream",
     "text": [
      "197it [04:24,  3.26s/it]"
     ]
    },
    {
     "name": "stdout",
     "output_type": "stream",
     "text": [
      "https://pakobserver.net/saudi-investment-funds-hit-record-high-after-25-surge-cma/\n"
     ]
    },
    {
     "name": "stderr",
     "output_type": "stream",
     "text": [
      "221it [04:57,  1.35s/it]\n"
     ]
    },
    {
     "name": "stdout",
     "output_type": "stream",
     "text": [
      "총 221건 중 207 건 크롤링 성공\n",
      "3-25-2023  크롤링 완료\n",
      "3/26/2023 크롤링 시작\n"
     ]
    },
    {
     "name": "stderr",
     "output_type": "stream",
     "text": [
      "10it [00:07,  1.27it/s]"
     ]
    },
    {
     "name": "stdout",
     "output_type": "stream",
     "text": [
      "https://www.abc.net.au/news/2023-03-27/will-the-banking-crisis-turn-into-global-financial-crisis-2-0/102140604\n"
     ]
    },
    {
     "name": "stderr",
     "output_type": "stream",
     "text": [
      "\r",
      "11it [00:09,  1.01s/it]"
     ]
    },
    {
     "name": "stdout",
     "output_type": "stream",
     "text": [
      "https://www.forbes.com/sites/bill_stone/2023/03/26/how-you-can-monitor-the-severity-of-the-us-banking-crisis/\n"
     ]
    },
    {
     "name": "stderr",
     "output_type": "stream",
     "text": [
      "35it [00:28,  1.33it/s]"
     ]
    },
    {
     "name": "stdout",
     "output_type": "stream",
     "text": [
      "https://www.wsj.com/articles/the-economy-gets-wrung-out-earnings-layoffs-credit-fed-svb-bailout-merger-crypto-recession-5b957cb\n",
      "https://www.kurdistan24.net/en/story/31011-%27Great-misery%27:-Kuwait-political-crisis-drags-down-economy\n"
     ]
    },
    {
     "name": "stderr",
     "output_type": "stream",
     "text": [
      "45it [00:36,  1.94it/s]"
     ]
    },
    {
     "name": "stdout",
     "output_type": "stream",
     "text": [
      "https://www.wsj.com/articles/what-really-caused-the-banking-crisis-svb-fed-fdic-duration-interest-rate-risk-insurance-bailout-a8d37158\n"
     ]
    },
    {
     "name": "stderr",
     "output_type": "stream",
     "text": [
      "54it [00:52,  3.05s/it]"
     ]
    },
    {
     "name": "stdout",
     "output_type": "stream",
     "text": [
      "https://www.seattletimes.com/business/bonkers-bond-trading-may-be-sending-grim-signal-about-economy/\n"
     ]
    },
    {
     "name": "stderr",
     "output_type": "stream",
     "text": [
      "\r",
      "55it [00:53,  2.27s/it]"
     ]
    },
    {
     "name": "stdout",
     "output_type": "stream",
     "text": [
      "https://www.fnlondon.com/articles/meet-the-twenty-most-influential-in-investment-banking-20230326\n"
     ]
    },
    {
     "name": "stderr",
     "output_type": "stream",
     "text": [
      "60it [00:57,  1.16s/it]"
     ]
    },
    {
     "name": "stdout",
     "output_type": "stream",
     "text": [
      "https://edmontonjournal.com/news/crime/investment-scams-focus-of-third-week-of-fraud-prevention-month\n"
     ]
    },
    {
     "name": "stderr",
     "output_type": "stream",
     "text": [
      "65it [01:02,  1.07it/s]"
     ]
    },
    {
     "name": "stdout",
     "output_type": "stream",
     "text": [
      "https://www.wsj.com/articles/economy-week-ahead-u-s-household-spending-and-home-prices-in-focus-48e96e71?mod=hp_major_pos3\n"
     ]
    },
    {
     "name": "stderr",
     "output_type": "stream",
     "text": [
      "69it [01:07,  1.15s/it]"
     ]
    },
    {
     "name": "stdout",
     "output_type": "stream",
     "text": [
      "https://thefintechtimes.com/cbi-looks-to-accelerate-transition-to-open-finance-with-innovative-use-cases/\n"
     ]
    },
    {
     "name": "stderr",
     "output_type": "stream",
     "text": [
      "73it [01:10,  1.37it/s]"
     ]
    },
    {
     "name": "stdout",
     "output_type": "stream",
     "text": [
      "https://beincrypto.com/banking-deposits-drop-investors-ape-into-bitcoin/\n",
      "https://www.vanguardngr.com/2023/03/lagos-commissioner-for-finance-wins-forty-under-40-africa-award/\n"
     ]
    },
    {
     "name": "stderr",
     "output_type": "stream",
     "text": [
      "122it [02:18,  1.07it/s]"
     ]
    },
    {
     "name": "stdout",
     "output_type": "stream",
     "text": [
      "https://www.themercury.com.au/lifestyle/smart/property-investment-how-to-make-a-move-in-an-uncertain-market/news-story/150f9d16c2fc15fb8e9735dbe985a5b8\n"
     ]
    },
    {
     "name": "stderr",
     "output_type": "stream",
     "text": [
      "125it [02:20,  1.45it/s]"
     ]
    },
    {
     "name": "stdout",
     "output_type": "stream",
     "text": [
      "https://www.vanguardngr.com/2023/03/blue-economy-osinbajo-tasks-committee-on-all-inclusive-policy-document/\n"
     ]
    },
    {
     "name": "stderr",
     "output_type": "stream",
     "text": [
      "147it [02:52,  3.08s/it]"
     ]
    },
    {
     "name": "stdout",
     "output_type": "stream",
     "text": [
      "https://www.business-standard.com/opinion/columns/g20-must-prioritise-climate-finance-123032600249_1.html\n"
     ]
    },
    {
     "name": "stderr",
     "output_type": "stream",
     "text": [
      "185it [03:55,  1.02s/it]"
     ]
    },
    {
     "name": "stdout",
     "output_type": "stream",
     "text": [
      "https://financialpost.com/news/economy/companies-invest-now-recession-coming\n"
     ]
    },
    {
     "name": "stderr",
     "output_type": "stream",
     "text": [
      "211it [04:41,  1.34s/it]"
     ]
    },
    {
     "name": "stdout",
     "output_type": "stream",
     "text": [
      "총 211건 중 195 건 크롤링 성공\n",
      "3-26-2023  크롤링 완료\n"
     ]
    },
    {
     "name": "stderr",
     "output_type": "stream",
     "text": [
      "\n"
     ]
    }
   ],
   "source": [
    "name = \"Urls{}-{}.pickle\".format(from_date,to_date)\n",
    "name = name.replace('/','.')\n",
    "# 2  수집된 url로 news 크롤링 \n",
    "with open(main_path + '/' + 'url/' + name, 'rb') as f:\n",
    "    data = pickle.load(f)\n",
    "\n",
    "# start = 0\n",
    "for date in list(data):\n",
    "    print(date, '크롤링 시작')\n",
    "    cnt = 0\n",
    "    tmp = []\n",
    "    urls = []\n",
    "    for idx,url in tqdm(enumerate(data[date])):\n",
    "        try:\n",
    "            article = Article(url)\n",
    "            article.download()\n",
    "            article.parse()\n",
    "            v = article.text\n",
    "            tmp.append(v)\n",
    "            urls.append(url)\n",
    "            cnt += 1\n",
    "        except:\n",
    "            pass\n",
    "            tmp.append(\"null\")\n",
    "            urls.append(url)\n",
    "            print(url)\n",
    "    print(\"총 {}건 중 {} 건 크롤링 성공\".format(idx+1,cnt))\n",
    "    data[date] = [tmp,[urls]]\n",
    "    date = date.replace('/','-')\n",
    "    with open(main_path + '/' + 'news_backup/' + 'news-' + date + '.pickle','wb') as f:\n",
    "        pickle.dump(data,f)\n",
    "    print(date,' 크롤링 완료')"
   ]
  },
  {
   "cell_type": "code",
   "execution_count": 7,
   "id": "1c1fd696",
   "metadata": {},
   "outputs": [],
   "source": [
    "data = pd.DataFrame(data).T\n",
    "\n",
    "data = data.rename({0:\"news\",1:\"url\"},axis= 1)\n",
    "\n",
    "name = \"News{}-{}.pickle\".format(from_date,to_date)\n",
    "name = name.replace('/','.')\n",
    "\n",
    "with open(main_path + '/' + 'news/' + name,'wb') as f:\n",
    "    pickle.dump(data,f)"
   ]
  },
  {
   "cell_type": "code",
   "execution_count": 8,
   "id": "2eefa909",
   "metadata": {},
   "outputs": [],
   "source": [
    "def doc2key(cleaned_content):\n",
    "    \n",
    "    kw_model = KeyBERT(model='all-MiniLM-L6-v2')\n",
    "    keywords = kw_model.extract_keywords(cleaned_content)\n",
    "    \n",
    "    n2_kwd = kw_model.extract_keywords(cleaned_content, keyphrase_ngram_range=(2, 2), stop_words='english',\n",
    "                                  use_mmr=True, diversity=0.7, top_n=5)\n",
    "\n",
    "    n1_kwd = kw_model.extract_keywords(cleaned_content, keyphrase_ngram_range=(1, 1), stop_words='english',\n",
    "                                  use_mmr=True, diversity=0.7, top_n=45)\n",
    "    for idx,i in enumerate(n2_kwd):\n",
    "        n2_kwd[idx] = i[0]\n",
    "    for idx,i in enumerate(n1_kwd):\n",
    "        n1_kwd[idx] = i[0]  \n",
    "\n",
    "    n1_kwd.extend(n2_kwd)\n",
    "    kwd = n1_kwd\n",
    "    return kwd"
   ]
  },
  {
   "cell_type": "code",
   "execution_count": 9,
   "id": "1c90fddf",
   "metadata": {},
   "outputs": [],
   "source": [
    "def makeKeywordLsit(data,nn_jj = False):\n",
    "    kwd_list = []\n",
    "    for docs in tqdm(data['news']):\n",
    "        kwds = []\n",
    "        for doc in tqdm(docs):\n",
    "            try:\n",
    "                cleaned_content = re.sub(r'[^\\.\\?\\!\\w\\d\\s]','',doc) # 문장단위로 끊기\n",
    "                cleaned_content = cleaned_content.replace('\\n',' ')\n",
    "                cleaned_content = cleaned_content.lower()\n",
    "                kwd = doc2key(cleaned_content)\n",
    "                if nn_jj == True:\n",
    "                    tokens_pos = nltk.pos_tag(kwd)\n",
    "                    kwd_nn_jj = []\n",
    "                    for word, pos in tokens_pos:\n",
    "                        if 'NN' in pos or 'JJ' in pos:\n",
    "                            kwd_nn_jj.append(word)\n",
    "                    kwds.append(kwd_nn_jj)\n",
    "                else:\n",
    "                    kwds.append(kwd)\n",
    "            except:\n",
    "                print(doc)\n",
    "        kwd_list.append(kwds)\n",
    "    return kwd_list"
   ]
  },
  {
   "cell_type": "code",
   "execution_count": 10,
   "id": "fea1bf9b",
   "metadata": {},
   "outputs": [],
   "source": [
    "# 데이터불러오기\n",
    "\n",
    "name = \"News{}-{}.pickle\".format(from_date,to_date)\n",
    "name = name.replace('/','.')\n",
    "\n",
    "with open(main_path + '/' + 'news/' + name, 'rb') as f:\n",
    "    data = pickle.load(f)"
   ]
  },
  {
   "cell_type": "code",
   "execution_count": 11,
   "id": "cae9d68a",
   "metadata": {},
   "outputs": [],
   "source": [
    "# 전처리\n",
    "data = data.reset_index()\n",
    "data = data.rename({\"index\":\"date\"},axis = 1)\n",
    "\n",
    "idx = []\n",
    "for x in data['date']:\n",
    "    tmp = x.split('/')\n",
    "    if len(tmp[0]) == 1:\n",
    "        tmp[0] = '0'+tmp[0]\n",
    "    if len(tmp[1]) == 1:\n",
    "        tmp[1] = '0'+tmp[1]\n",
    "    tmp = tmp[2] + tmp[0] + tmp[1]\n",
    "    idx.append(''.join(tmp))\n",
    "    \n",
    "data['date'] = idx\n",
    "data = data.rename({'date':'일자'},axis = 1)"
   ]
  },
  {
   "cell_type": "code",
   "execution_count": 12,
   "id": "7ba50b53",
   "metadata": {
    "scrolled": false
   },
   "outputs": [
    {
     "name": "stderr",
     "output_type": "stream",
     "text": [
      "  0%|                                                                                            | 0/7 [00:00<?, ?it/s]\n",
      "  0%|                                                                                          | 0/215 [00:00<?, ?it/s]\u001b[A\n",
      "  0%|▍                                                                                 | 1/215 [00:01<06:42,  1.88s/it]\u001b[A\n",
      "  1%|▊                                                                                 | 2/215 [00:09<19:35,  5.52s/it]\u001b[A\n",
      "  1%|█▏                                                                                | 3/215 [00:12<14:27,  4.09s/it]\u001b[A\n",
      "  2%|█▌                                                                                | 4/215 [00:16<14:03,  4.00s/it]\u001b[A\n",
      "  2%|█▉                                                                                | 5/215 [00:16<09:40,  2.76s/it]\u001b[A\n",
      "  3%|██▎                                                                               | 6/215 [00:18<08:07,  2.33s/it]\u001b[A\n",
      "  3%|██▋                                                                               | 7/215 [00:19<06:26,  1.86s/it]\u001b[A\n",
      "  4%|███                                                                               | 8/215 [00:24<10:09,  2.95s/it]\u001b[A\n",
      "  4%|███▍                                                                              | 9/215 [00:29<12:06,  3.53s/it]\u001b[A\n",
      "  5%|███▊                                                                             | 10/215 [00:32<12:13,  3.58s/it]\u001b[A\n",
      "  5%|████▏                                                                            | 11/215 [00:38<14:21,  4.22s/it]\u001b[A\n",
      "  6%|████▌                                                                            | 12/215 [00:43<14:47,  4.37s/it]\u001b[A\n",
      "  6%|████▉                                                                            | 13/215 [00:46<13:14,  3.93s/it]\u001b[A\n",
      "  7%|█████▎                                                                           | 14/215 [00:47<10:40,  3.19s/it]\u001b[A\n",
      "  7%|█████▋                                                                           | 15/215 [00:52<12:03,  3.62s/it]\u001b[A\n",
      "  7%|██████                                                                           | 16/215 [00:55<11:11,  3.38s/it]\u001b[A\n",
      "  8%|██████▍                                                                          | 17/215 [00:59<11:58,  3.63s/it]\u001b[A\n",
      "  8%|██████▊                                                                          | 18/215 [01:01<10:43,  3.27s/it]\u001b[A\n",
      "  9%|███████▏                                                                         | 19/215 [01:05<11:11,  3.43s/it]\u001b[A\n",
      "  9%|███████▌                                                                         | 20/215 [01:10<12:08,  3.74s/it]\u001b[A\n",
      " 10%|███████▉                                                                         | 21/215 [01:12<10:26,  3.23s/it]\u001b[A\n",
      " 10%|████████▎                                                                        | 22/215 [01:17<12:19,  3.83s/it]\u001b[A\n",
      " 11%|████████▋                                                                        | 23/215 [01:20<11:43,  3.67s/it]\u001b[A\n",
      " 11%|█████████                                                                        | 24/215 [01:23<10:30,  3.30s/it]\u001b[A\n",
      " 12%|█████████▍                                                                       | 25/215 [01:26<10:44,  3.39s/it]\u001b[A\n",
      " 12%|█████████▊                                                                       | 26/215 [01:28<09:25,  2.99s/it]\u001b[A\n",
      " 13%|██████████▏                                                                      | 27/215 [01:29<07:07,  2.27s/it]\u001b[A\n",
      " 13%|██████████▌                                                                      | 28/215 [01:30<05:49,  1.87s/it]\u001b[A\n",
      " 13%|██████████▉                                                                      | 29/215 [01:33<06:45,  2.18s/it]\u001b[A\n",
      " 14%|███████████▎                                                                     | 30/215 [01:36<07:40,  2.49s/it]\u001b[A\n",
      " 14%|███████████▋                                                                     | 31/215 [01:37<06:11,  2.02s/it]\u001b[A\n",
      " 15%|████████████                                                                     | 32/215 [01:38<05:04,  1.67s/it]\u001b[A\n",
      " 15%|████████████▍                                                                    | 33/215 [01:40<05:50,  1.92s/it]\u001b[A\n",
      " 16%|████████████▊                                                                    | 34/215 [01:43<06:51,  2.28s/it]\u001b[A\n",
      " 16%|█████████████▏                                                                   | 35/215 [01:47<08:24,  2.80s/it]\u001b[A\n",
      " 17%|█████████████▌                                                                   | 36/215 [01:50<08:06,  2.72s/it]\u001b[A\n",
      " 17%|█████████████▉                                                                   | 37/215 [01:50<06:11,  2.09s/it]\u001b[A\n",
      " 18%|██████████████▎                                                                  | 38/215 [01:51<04:53,  1.66s/it]\u001b[A\n",
      " 18%|██████████████▋                                                                  | 39/215 [01:55<06:40,  2.28s/it]\u001b[A\n",
      " 19%|███████████████                                                                  | 40/215 [01:56<05:25,  1.86s/it]\u001b[A\n",
      " 19%|███████████████▍                                                                 | 41/215 [01:59<06:20,  2.19s/it]\u001b[A\n",
      " 20%|███████████████▊                                                                 | 42/215 [02:00<05:28,  1.90s/it]\u001b[A\n",
      " 20%|████████████████▏                                                                | 43/215 [02:01<04:24,  1.54s/it]\u001b[A\n",
      " 20%|████████████████▌                                                                | 44/215 [02:03<04:49,  1.69s/it]\u001b[A\n",
      " 21%|████████████████▉                                                                | 45/215 [02:06<06:15,  2.21s/it]\u001b[A\n",
      " 21%|█████████████████▎                                                               | 46/215 [02:09<07:14,  2.57s/it]\u001b[A\n",
      " 22%|█████████████████▋                                                               | 47/215 [02:13<08:18,  2.97s/it]\u001b[A\n",
      " 22%|██████████████████                                                               | 48/215 [02:18<09:41,  3.48s/it]\u001b[A\n",
      " 23%|██████████████████▍                                                              | 49/215 [02:19<07:19,  2.65s/it]\u001b[A\n",
      " 23%|██████████████████▊                                                              | 50/215 [02:25<10:31,  3.83s/it]\u001b[A\n",
      " 24%|███████████████████▏                                                             | 51/215 [02:31<11:45,  4.30s/it]\u001b[A\n",
      " 24%|███████████████████▌                                                             | 52/215 [02:31<08:44,  3.22s/it]\u001b[A\n",
      " 25%|███████████████████▉                                                             | 53/215 [02:37<10:47,  4.00s/it]\u001b[A\n",
      " 25%|████████████████████▎                                                            | 54/215 [02:41<10:23,  3.87s/it]\u001b[A\n",
      " 26%|████████████████████▋                                                            | 55/215 [02:41<07:46,  2.91s/it]\u001b[A\n",
      " 26%|█████████████████████                                                            | 56/215 [02:42<06:14,  2.35s/it]\u001b[A\n",
      " 27%|█████████████████████▍                                                           | 57/215 [02:44<05:36,  2.13s/it]\u001b[A\n",
      " 27%|█████████████████████▊                                                           | 58/215 [02:53<10:41,  4.09s/it]\u001b[A\n",
      " 27%|██████████████████████▏                                                          | 59/215 [02:55<09:15,  3.56s/it]\u001b[A\n",
      " 28%|██████████████████████▌                                                          | 60/215 [02:56<07:15,  2.81s/it]\u001b[A\n",
      " 28%|██████████████████████▉                                                          | 61/215 [02:58<06:10,  2.41s/it]\u001b[A\n",
      " 29%|███████████████████████▎                                                         | 62/215 [03:00<06:14,  2.45s/it]\u001b[A\n",
      " 29%|███████████████████████▋                                                         | 63/215 [03:02<06:03,  2.39s/it]\u001b[A\n",
      " 30%|████████████████████████                                                         | 64/215 [03:03<04:59,  1.98s/it]\u001b[A\n"
     ]
    },
    {
     "name": "stderr",
     "output_type": "stream",
     "text": [
      " 30%|████████████████████████▍                                                        | 65/215 [03:04<03:58,  1.59s/it]\u001b[A\n",
      " 31%|████████████████████████▊                                                        | 66/215 [03:11<07:35,  3.06s/it]\u001b[A\n",
      " 31%|█████████████████████████▏                                                       | 67/215 [03:16<09:12,  3.73s/it]\u001b[A\n",
      " 32%|█████████████████████████▌                                                       | 68/215 [03:17<07:03,  2.88s/it]\u001b[A\n",
      " 32%|█████████████████████████▉                                                       | 69/215 [03:17<05:21,  2.20s/it]\u001b[A\n",
      " 33%|██████████████████████████▎                                                      | 70/215 [03:22<06:52,  2.85s/it]\u001b[A\n",
      " 33%|██████████████████████████▋                                                      | 71/215 [03:30<10:41,  4.45s/it]\u001b[A\n",
      " 33%|███████████████████████████▏                                                     | 72/215 [03:33<09:55,  4.16s/it]\u001b[A\n",
      " 34%|███████████████████████████▌                                                     | 73/215 [03:34<07:22,  3.11s/it]\u001b[A\n",
      " 34%|███████████████████████████▉                                                     | 74/215 [03:37<07:00,  2.98s/it]\u001b[A\n",
      " 35%|████████████████████████████▎                                                    | 75/215 [03:40<07:12,  3.09s/it]\u001b[A\n",
      " 35%|████████████████████████████▋                                                    | 76/215 [03:43<07:00,  3.03s/it]\u001b[A\n",
      " 36%|█████████████████████████████                                                    | 77/215 [03:47<07:27,  3.24s/it]\u001b[A\n",
      " 36%|█████████████████████████████▍                                                   | 78/215 [03:50<07:09,  3.14s/it]\u001b[A\n",
      " 37%|█████████████████████████████▊                                                   | 79/215 [04:02<13:14,  5.84s/it]\u001b[A\n",
      " 37%|██████████████████████████████▏                                                  | 80/215 [04:04<10:48,  4.80s/it]\u001b[A\n",
      " 38%|██████████████████████████████▌                                                  | 81/215 [04:06<08:26,  3.78s/it]\u001b[A\n",
      " 38%|██████████████████████████████▉                                                  | 82/215 [04:06<06:19,  2.85s/it]\u001b[A\n",
      " 39%|███████████████████████████████▎                                                 | 83/215 [04:08<05:17,  2.41s/it]\u001b[A\n",
      " 39%|███████████████████████████████▋                                                 | 84/215 [04:08<04:08,  1.90s/it]\u001b[A\n",
      " 40%|████████████████████████████████                                                 | 85/215 [04:11<04:25,  2.04s/it]\u001b[A\n",
      " 40%|████████████████████████████████▍                                                | 86/215 [04:14<05:08,  2.39s/it]\u001b[A\n",
      " 40%|████████████████████████████████▊                                                | 87/215 [04:18<06:17,  2.95s/it]\u001b[A\n",
      " 41%|█████████████████████████████████▏                                               | 88/215 [04:22<06:37,  3.13s/it]\u001b[A\n",
      " 41%|█████████████████████████████████▌                                               | 89/215 [04:26<07:14,  3.45s/it]\u001b[A\n",
      " 42%|█████████████████████████████████▉                                               | 90/215 [04:29<07:03,  3.39s/it]\u001b[A\n",
      " 42%|██████████████████████████████████▎                                              | 91/215 [04:32<06:45,  3.27s/it]\u001b[A\n",
      " 43%|██████████████████████████████████▋                                              | 92/215 [04:35<06:30,  3.18s/it]\u001b[A\n",
      " 43%|███████████████████████████████████                                              | 93/215 [04:36<05:14,  2.58s/it]\u001b[A\n",
      " 44%|███████████████████████████████████▍                                             | 94/215 [04:37<04:12,  2.08s/it]\u001b[A\n",
      " 44%|███████████████████████████████████▊                                             | 95/215 [04:38<03:28,  1.73s/it]\u001b[A\n",
      " 45%|██████████████████████████████████▊                                           | 96/215 [12:58<4:59:33, 151.04s/it]\u001b[A\n",
      " 45%|███████████████████████████████████▏                                          | 97/215 [12:58<3:28:13, 105.88s/it]\u001b[A\n",
      " 46%|████████████████████████████████████                                           | 98/215 [12:59<2:25:09, 74.44s/it]\u001b[A\n",
      " 46%|████████████████████████████████████▍                                          | 99/215 [13:03<1:42:55, 53.23s/it]\u001b[A\n",
      " 47%|████████████████████████████████████▎                                         | 100/215 [13:07<1:13:50, 38.52s/it]\u001b[A\n",
      " 47%|█████████████████████████████████████▌                                          | 101/215 [13:09<52:32, 27.66s/it]\u001b[A\n",
      " 47%|█████████████████████████████████████▉                                          | 102/215 [13:13<38:33, 20.47s/it]\u001b[A\n",
      " 48%|██████████████████████████████████████▎                                         | 103/215 [13:15<27:58, 14.98s/it]\u001b[A\n",
      " 48%|██████████████████████████████████████▋                                         | 104/215 [13:18<20:58, 11.34s/it]\u001b[A\n",
      " 49%|███████████████████████████████████████                                         | 105/215 [13:21<16:14,  8.86s/it]\u001b[A\n",
      " 49%|███████████████████████████████████████▍                                        | 106/215 [13:22<11:49,  6.51s/it]\u001b[A\n",
      " 50%|███████████████████████████████████████▊                                        | 107/215 [13:26<10:07,  5.63s/it]\u001b[A\n",
      " 50%|████████████████████████████████████████▏                                       | 108/215 [13:33<10:41,  6.00s/it]\u001b[A\n",
      " 51%|████████████████████████████████████████▌                                       | 109/215 [13:36<09:16,  5.25s/it]\u001b[A\n",
      " 51%|████████████████████████████████████████▉                                       | 110/215 [13:43<10:16,  5.87s/it]\u001b[A\n",
      " 52%|█████████████████████████████████████████▎                                      | 111/215 [13:45<07:39,  4.42s/it]\u001b[A\n",
      " 52%|█████████████████████████████████████████▋                                      | 112/215 [13:46<06:12,  3.62s/it]\u001b[A\n",
      " 53%|██████████████████████████████████████████                                      | 113/215 [13:50<06:10,  3.64s/it]\u001b[A\n",
      " 53%|██████████████████████████████████████████▍                                     | 114/215 [13:52<05:27,  3.24s/it]\u001b[A\n",
      " 53%|██████████████████████████████████████████▊                                     | 115/215 [13:53<04:07,  2.48s/it]\u001b[A\n",
      " 54%|███████████████████████████████████████████▏                                    | 116/215 [13:57<04:57,  3.01s/it]\u001b[A\n",
      " 54%|███████████████████████████████████████████▌                                    | 117/215 [13:58<04:02,  2.47s/it]\u001b[A\n",
      " 55%|███████████████████████████████████████████▉                                    | 118/215 [14:02<04:41,  2.91s/it]\u001b[A\n",
      " 55%|████████████████████████████████████████████▎                                   | 119/215 [14:05<04:21,  2.72s/it]\u001b[A\n",
      " 56%|████████████████████████████████████████████▋                                   | 120/215 [14:05<03:18,  2.09s/it]\u001b[A\n",
      " 56%|█████████████████████████████████████████████                                   | 121/215 [14:06<02:42,  1.73s/it]\u001b[A\n",
      " 57%|█████████████████████████████████████████████▍                                  | 122/215 [14:07<02:17,  1.48s/it]\u001b[A\n",
      " 57%|█████████████████████████████████████████████▊                                  | 123/215 [14:10<03:09,  2.06s/it]\u001b[A\n",
      " 58%|██████████████████████████████████████████████▏                                 | 124/215 [14:13<03:29,  2.30s/it]\u001b[A\n",
      " 58%|██████████████████████████████████████████████▌                                 | 125/215 [14:19<05:08,  3.43s/it]\u001b[A\n",
      " 59%|██████████████████████████████████████████████▉                                 | 126/215 [14:22<04:35,  3.09s/it]\u001b[A\n",
      " 59%|███████████████████████████████████████████████▎                                | 127/215 [14:25<04:35,  3.13s/it]\u001b[A\n",
      " 60%|███████████████████████████████████████████████▋                                | 128/215 [14:29<04:47,  3.31s/it]\u001b[A\n",
      " 60%|████████████████████████████████████████████████                                | 129/215 [14:29<03:36,  2.52s/it]\u001b[A\n",
      " 60%|████████████████████████████████████████████████▎                               | 130/215 [14:32<03:44,  2.64s/it]\u001b[A\n"
     ]
    },
    {
     "name": "stderr",
     "output_type": "stream",
     "text": [
      " 61%|████████████████████████████████████████████████▋                               | 131/215 [14:37<04:45,  3.40s/it]\u001b[A\n",
      " 61%|█████████████████████████████████████████████████                               | 132/215 [14:40<04:16,  3.09s/it]\u001b[A\n",
      " 62%|█████████████████████████████████████████████████▍                              | 133/215 [14:41<03:17,  2.41s/it]\u001b[A\n",
      " 62%|█████████████████████████████████████████████████▊                              | 134/215 [14:46<04:28,  3.32s/it]\u001b[A\n",
      " 63%|██████████████████████████████████████████████████▏                             | 135/215 [14:48<03:50,  2.88s/it]\u001b[A\n",
      " 63%|██████████████████████████████████████████████████▌                             | 136/215 [14:54<04:56,  3.76s/it]\u001b[A\n",
      " 64%|██████████████████████████████████████████████████▉                             | 137/215 [14:57<04:34,  3.52s/it]\u001b[A\n",
      " 64%|███████████████████████████████████████████████████▎                            | 138/215 [15:00<04:20,  3.39s/it]\u001b[A\n",
      " 65%|███████████████████████████████████████████████████▋                            | 139/215 [15:01<03:30,  2.78s/it]\u001b[A\n",
      " 65%|████████████████████████████████████████████████████                            | 140/215 [15:04<03:36,  2.88s/it]\u001b[A\n",
      " 66%|████████████████████████████████████████████████████▍                           | 141/215 [15:05<02:50,  2.30s/it]\u001b[A\n",
      " 66%|████████████████████████████████████████████████████▊                           | 142/215 [15:10<03:53,  3.20s/it]\u001b[A\n",
      " 67%|█████████████████████████████████████████████████████▏                          | 143/215 [15:14<03:49,  3.18s/it]\u001b[A\n",
      " 67%|█████████████████████████████████████████████████████▌                          | 144/215 [15:14<02:57,  2.49s/it]\u001b[A\n",
      " 67%|█████████████████████████████████████████████████████▉                          | 145/215 [15:19<03:34,  3.06s/it]\u001b[A\n",
      " 68%|██████████████████████████████████████████████████████▎                         | 146/215 [15:22<03:26,  2.99s/it]\u001b[A\n",
      " 68%|██████████████████████████████████████████████████████▋                         | 147/215 [15:26<03:41,  3.25s/it]\u001b[A\n",
      " 69%|███████████████████████████████████████████████████████                         | 148/215 [15:29<03:34,  3.20s/it]\u001b[A\n",
      " 69%|███████████████████████████████████████████████████████▍                        | 149/215 [15:32<03:41,  3.36s/it]\u001b[A\n",
      " 70%|███████████████████████████████████████████████████████▊                        | 150/215 [15:36<03:39,  3.37s/it]\u001b[A\n",
      " 70%|████████████████████████████████████████████████████████▏                       | 151/215 [15:42<04:27,  4.17s/it]\u001b[A\n",
      " 71%|████████████████████████████████████████████████████████▌                       | 152/215 [15:45<03:58,  3.79s/it]\u001b[A\n",
      " 71%|████████████████████████████████████████████████████████▉                       | 153/215 [15:45<02:55,  2.84s/it]\u001b[A\n",
      " 72%|█████████████████████████████████████████████████████████▎                      | 154/215 [15:46<02:15,  2.22s/it]\u001b[A\n",
      " 72%|█████████████████████████████████████████████████████████▋                      | 155/215 [15:47<01:43,  1.73s/it]\u001b[A\n",
      " 73%|██████████████████████████████████████████████████████████                      | 156/215 [15:54<03:17,  3.34s/it]\u001b[A\n",
      " 73%|██████████████████████████████████████████████████████████▍                     | 157/215 [15:55<02:44,  2.83s/it]\u001b[A\n",
      " 73%|██████████████████████████████████████████████████████████▊                     | 158/215 [15:58<02:35,  2.74s/it]\u001b[A\n",
      " 74%|███████████████████████████████████████████████████████████▏                    | 159/215 [15:59<01:59,  2.13s/it]\u001b[A\n",
      " 74%|███████████████████████████████████████████████████████████▌                    | 160/215 [16:03<02:27,  2.67s/it]\u001b[A\n",
      " 75%|███████████████████████████████████████████████████████████▉                    | 161/215 [16:05<02:24,  2.68s/it]\u001b[A\n",
      " 75%|████████████████████████████████████████████████████████████▎                   | 162/215 [16:08<02:15,  2.57s/it]\u001b[A\n",
      " 76%|████████████████████████████████████████████████████████████▋                   | 163/215 [16:09<01:50,  2.12s/it]\u001b[A\n",
      " 76%|█████████████████████████████████████████████████████████████                   | 164/215 [16:13<02:21,  2.77s/it]\u001b[A\n",
      " 77%|█████████████████████████████████████████████████████████████▍                  | 165/215 [16:17<02:38,  3.18s/it]\u001b[A\n",
      " 77%|█████████████████████████████████████████████████████████████▊                  | 166/215 [16:20<02:31,  3.09s/it]\u001b[A\n",
      " 78%|██████████████████████████████████████████████████████████████▏                 | 167/215 [16:23<02:32,  3.18s/it]\u001b[A\n",
      " 78%|██████████████████████████████████████████████████████████████▌                 | 168/215 [16:26<02:22,  3.03s/it]\u001b[A\n",
      " 79%|██████████████████████████████████████████████████████████████▉                 | 169/215 [16:30<02:28,  3.22s/it]\u001b[A\n",
      " 79%|███████████████████████████████████████████████████████████████▎                | 170/215 [16:33<02:31,  3.37s/it]\u001b[A\n",
      " 80%|███████████████████████████████████████████████████████████████▋                | 171/215 [16:36<02:21,  3.22s/it]\u001b[A\n",
      " 80%|████████████████████████████████████████████████████████████████                | 172/215 [16:39<02:17,  3.19s/it]\u001b[A\n",
      " 80%|████████████████████████████████████████████████████████████████▎               | 173/215 [16:40<01:42,  2.44s/it]\u001b[A\n",
      " 81%|████████████████████████████████████████████████████████████████▋               | 174/215 [16:43<01:44,  2.55s/it]\u001b[A\n",
      " 81%|█████████████████████████████████████████████████████████████████               | 175/215 [16:45<01:33,  2.35s/it]\u001b[A\n",
      " 82%|█████████████████████████████████████████████████████████████████▍              | 176/215 [16:45<01:12,  1.85s/it]\u001b[A\n",
      " 82%|█████████████████████████████████████████████████████████████████▊              | 177/215 [16:47<01:04,  1.69s/it]\u001b[A\n",
      " 83%|██████████████████████████████████████████████████████████████████▏             | 178/215 [16:48<00:58,  1.58s/it]\u001b[A\n",
      " 83%|██████████████████████████████████████████████████████████████████▌             | 179/215 [16:49<00:53,  1.50s/it]\u001b[A\n",
      " 84%|██████████████████████████████████████████████████████████████████▉             | 180/215 [16:53<01:09,  1.98s/it]\u001b[A\n",
      " 84%|███████████████████████████████████████████████████████████████████▎            | 181/215 [16:53<00:53,  1.58s/it]\u001b[A\n",
      " 85%|███████████████████████████████████████████████████████████████████▋            | 182/215 [16:56<01:00,  1.85s/it]\u001b[A\n",
      " 85%|████████████████████████████████████████████████████████████████████            | 183/215 [17:00<01:24,  2.63s/it]\u001b[A\n",
      " 86%|████████████████████████████████████████████████████████████████████▍           | 184/215 [17:03<01:27,  2.83s/it]\u001b[A\n",
      " 86%|████████████████████████████████████████████████████████████████████▊           | 185/215 [17:05<01:17,  2.60s/it]\u001b[A\n",
      " 87%|█████████████████████████████████████████████████████████████████████▏          | 186/215 [17:06<00:57,  2.00s/it]\u001b[A\n",
      " 87%|█████████████████████████████████████████████████████████████████████▌          | 187/215 [17:10<01:12,  2.59s/it]\u001b[A\n",
      " 87%|█████████████████████████████████████████████████████████████████████▉          | 188/215 [17:13<01:13,  2.71s/it]\u001b[A\n",
      " 88%|██████████████████████████████████████████████████████████████████████▎         | 189/215 [17:14<00:56,  2.16s/it]\u001b[A\n",
      " 88%|██████████████████████████████████████████████████████████████████████▋         | 190/215 [17:15<00:45,  1.83s/it]\u001b[A\n",
      " 89%|███████████████████████████████████████████████████████████████████████         | 191/215 [17:16<00:34,  1.45s/it]\u001b[A\n",
      " 89%|███████████████████████████████████████████████████████████████████████▍        | 192/215 [17:19<00:48,  2.09s/it]\u001b[A\n",
      " 90%|███████████████████████████████████████████████████████████████████████▊        | 193/215 [17:20<00:36,  1.66s/it]\u001b[A\n",
      " 90%|████████████████████████████████████████████████████████████████████████▏       | 194/215 [17:21<00:31,  1.50s/it]\u001b[A\n",
      " 91%|████████████████████████████████████████████████████████████████████████▌       | 195/215 [17:24<00:41,  2.10s/it]\u001b[A\n",
      " 91%|████████████████████████████████████████████████████████████████████████▉       | 196/215 [17:30<01:01,  3.26s/it]\u001b[A\n"
     ]
    },
    {
     "name": "stderr",
     "output_type": "stream",
     "text": [
      " 92%|█████████████████████████████████████████████████████████████████████████▎      | 197/215 [17:35<01:04,  3.59s/it]\u001b[A\n",
      " 92%|█████████████████████████████████████████████████████████████████████████▋      | 198/215 [17:36<00:47,  2.77s/it]\u001b[A\n",
      " 93%|██████████████████████████████████████████████████████████████████████████      | 199/215 [17:36<00:35,  2.20s/it]\u001b[A\n",
      " 93%|██████████████████████████████████████████████████████████████████████████▍     | 200/215 [17:37<00:26,  1.75s/it]\u001b[A\n",
      " 93%|██████████████████████████████████████████████████████████████████████████▊     | 201/215 [17:45<00:50,  3.60s/it]\u001b[A\n",
      " 94%|███████████████████████████████████████████████████████████████████████████▏    | 202/215 [17:46<00:35,  2.73s/it]\u001b[A\n",
      " 94%|███████████████████████████████████████████████████████████████████████████▌    | 203/215 [17:51<00:43,  3.64s/it]\u001b[A\n",
      " 95%|███████████████████████████████████████████████████████████████████████████▉    | 204/215 [18:00<00:56,  5.13s/it]\u001b[A\n",
      " 95%|████████████████████████████████████████████████████████████████████████████▎   | 205/215 [18:04<00:48,  4.81s/it]\u001b[A\n",
      " 96%|████████████████████████████████████████████████████████████████████████████▋   | 206/215 [18:08<00:40,  4.45s/it]\u001b[A\n",
      " 96%|█████████████████████████████████████████████████████████████████████████████   | 207/215 [18:11<00:31,  3.94s/it]\u001b[A\n",
      " 97%|█████████████████████████████████████████████████████████████████████████████▍  | 208/215 [18:16<00:30,  4.30s/it]\u001b[A\n",
      " 97%|█████████████████████████████████████████████████████████████████████████████▊  | 209/215 [18:17<00:19,  3.28s/it]\u001b[A\n",
      " 98%|██████████████████████████████████████████████████████████████████████████████▏ | 210/215 [18:22<00:19,  3.80s/it]\u001b[A\n",
      " 98%|██████████████████████████████████████████████████████████████████████████████▌ | 211/215 [18:27<00:17,  4.29s/it]\u001b[A\n",
      " 99%|██████████████████████████████████████████████████████████████████████████████▉ | 212/215 [18:29<00:11,  3.74s/it]\u001b[A\n",
      " 99%|███████████████████████████████████████████████████████████████████████████████▎| 213/215 [18:30<00:05,  2.82s/it]\u001b[A\n",
      "100%|███████████████████████████████████████████████████████████████████████████████▋| 214/215 [18:31<00:02,  2.24s/it]\u001b[A\n",
      "100%|████████████████████████████████████████████████████████████████████████████████| 215/215 [18:33<00:00,  5.18s/it]\u001b[A\n",
      " 14%|███████████▍                                                                    | 1/7 [18:33<1:51:18, 1113.15s/it]\n",
      "  0%|                                                                                          | 0/218 [00:00<?, ?it/s]\u001b[A\n",
      "  0%|▍                                                                                 | 1/218 [00:06<22:08,  6.12s/it]\u001b[A\n",
      "  1%|▊                                                                                 | 2/218 [00:08<13:18,  3.69s/it]\u001b[A\n",
      "  1%|█▏                                                                                | 3/218 [00:10<11:05,  3.10s/it]\u001b[A\n",
      "  2%|█▌                                                                                | 4/218 [00:13<11:28,  3.22s/it]\u001b[A\n",
      "  2%|█▉                                                                                | 5/218 [00:16<10:13,  2.88s/it]\u001b[A\n",
      "  3%|██▎                                                                               | 6/218 [00:17<07:46,  2.20s/it]\u001b[A\n",
      "  3%|██▋                                                                               | 7/218 [00:20<09:11,  2.62s/it]\u001b[A\n",
      "  4%|███                                                                               | 8/218 [00:25<11:27,  3.27s/it]\u001b[A\n",
      "  4%|███▍                                                                              | 9/218 [00:30<13:11,  3.79s/it]\u001b[A\n",
      "  5%|███▋                                                                             | 10/218 [00:36<16:22,  4.72s/it]\u001b[A\n",
      "  5%|████                                                                             | 11/218 [00:43<17:50,  5.17s/it]\u001b[A\n",
      "  6%|████▍                                                                            | 12/218 [00:47<16:24,  4.78s/it]\u001b[A\n",
      "  6%|████▊                                                                            | 13/218 [00:49<13:28,  3.94s/it]\u001b[A\n",
      "  6%|█████▏                                                                           | 14/218 [00:55<15:40,  4.61s/it]\u001b[A\n",
      "  7%|█████▌                                                                           | 15/218 [00:58<13:58,  4.13s/it]\u001b[A\n",
      "  7%|█████▉                                                                           | 16/218 [01:01<13:10,  3.91s/it]\u001b[A\n",
      "  8%|██████▎                                                                          | 17/218 [01:05<13:13,  3.95s/it]\u001b[A\n",
      "  8%|██████▋                                                                          | 18/218 [01:10<14:07,  4.24s/it]\u001b[A\n",
      "  9%|███████                                                                          | 19/218 [01:14<13:22,  4.03s/it]\u001b[A\n",
      "  9%|███████▍                                                                         | 20/218 [01:14<09:55,  3.01s/it]\u001b[A\n",
      " 10%|███████▊                                                                         | 21/218 [01:16<09:02,  2.75s/it]\u001b[A\n",
      " 10%|████████▏                                                                        | 22/218 [01:22<11:38,  3.56s/it]\u001b[A\n",
      " 11%|████████▌                                                                        | 23/218 [01:25<10:45,  3.31s/it]\u001b[A\n",
      " 11%|████████▉                                                                        | 24/218 [01:29<11:33,  3.58s/it]\u001b[A\n",
      " 11%|█████████▎                                                                       | 25/218 [01:32<11:27,  3.56s/it]\u001b[A\n",
      " 12%|█████████▋                                                                       | 26/218 [01:38<13:00,  4.07s/it]\u001b[A\n",
      " 12%|██████████                                                                       | 27/218 [01:41<12:23,  3.89s/it]\u001b[A\n",
      " 13%|██████████▍                                                                      | 28/218 [01:43<10:57,  3.46s/it]\u001b[A\n",
      " 13%|██████████▊                                                                      | 29/218 [01:44<08:16,  2.63s/it]\u001b[A\n",
      " 14%|███████████▏                                                                     | 30/218 [01:47<08:02,  2.57s/it]\u001b[A\n",
      " 14%|███████████▌                                                                     | 31/218 [01:53<11:38,  3.74s/it]\u001b[A\n",
      " 15%|███████████▉                                                                     | 32/218 [01:57<11:50,  3.82s/it]\u001b[A\n",
      " 15%|████████████▎                                                                    | 33/218 [02:01<11:30,  3.73s/it]\u001b[A\n",
      " 16%|████████████▋                                                                    | 34/218 [02:02<09:15,  3.02s/it]\u001b[A\n",
      " 16%|█████████████                                                                    | 35/218 [02:08<12:15,  4.02s/it]\u001b[A\n",
      " 17%|█████████████▍                                                                   | 36/218 [02:09<09:08,  3.01s/it]\u001b[A\n",
      " 17%|█████████████▋                                                                   | 37/218 [02:11<08:35,  2.85s/it]\u001b[A\n",
      " 17%|██████████████                                                                   | 38/218 [02:13<07:45,  2.58s/it]\u001b[A\n",
      " 18%|██████████████▍                                                                  | 39/218 [02:14<06:11,  2.08s/it]\u001b[A\n",
      " 18%|██████████████▊                                                                  | 40/218 [02:19<08:17,  2.79s/it]\u001b[A\n",
      " 19%|███████████████▏                                                                 | 41/218 [02:24<10:30,  3.56s/it]\u001b[A\n",
      " 19%|███████████████▌                                                                 | 42/218 [02:27<10:06,  3.44s/it]\u001b[A\n",
      " 20%|███████████████▉                                                                 | 43/218 [02:32<11:16,  3.87s/it]\u001b[A\n",
      " 20%|████████████████▎                                                                | 44/218 [02:36<11:03,  3.81s/it]\u001b[A\n",
      " 21%|████████████████▋                                                                | 45/218 [02:40<11:30,  3.99s/it]\u001b[A\n"
     ]
    },
    {
     "name": "stderr",
     "output_type": "stream",
     "text": [
      " 21%|█████████████████                                                                | 46/218 [02:47<13:59,  4.88s/it]\u001b[A\n",
      " 22%|█████████████████▍                                                               | 47/218 [02:50<12:08,  4.26s/it]\u001b[A\n",
      " 22%|█████████████████▊                                                               | 48/218 [02:54<11:47,  4.16s/it]\u001b[A\n",
      " 22%|██████████████████▏                                                              | 49/218 [02:57<11:08,  3.96s/it]\u001b[A\n",
      " 23%|██████████████████▌                                                              | 50/218 [02:58<08:20,  2.98s/it]\u001b[A\n",
      " 23%|██████████████████▉                                                              | 51/218 [03:02<08:55,  3.21s/it]\u001b[A\n",
      " 24%|███████████████████▎                                                             | 52/218 [03:04<08:01,  2.90s/it]\u001b[A\n",
      " 24%|███████████████████▋                                                             | 53/218 [03:05<06:09,  2.24s/it]\u001b[A\n",
      " 25%|████████████████████                                                             | 54/218 [03:07<06:24,  2.35s/it]\u001b[A\n",
      " 25%|████████████████████▍                                                            | 55/218 [03:11<07:37,  2.80s/it]\u001b[A\n",
      " 26%|████████████████████▊                                                            | 56/218 [03:15<08:13,  3.04s/it]\u001b[A\n",
      " 26%|█████████████████████▏                                                           | 57/218 [03:19<09:12,  3.43s/it]\u001b[A\n",
      " 27%|█████████████████████▌                                                           | 58/218 [03:20<06:55,  2.60s/it]\u001b[A\n",
      " 27%|█████████████████████▉                                                           | 59/218 [03:21<05:33,  2.10s/it]\u001b[A\n",
      " 28%|██████████████████████▎                                                          | 60/218 [03:25<07:01,  2.67s/it]\u001b[A\n",
      " 28%|██████████████████████▋                                                          | 61/218 [03:29<08:24,  3.21s/it]\u001b[A\n",
      " 28%|███████████████████████                                                          | 62/218 [03:34<09:20,  3.59s/it]\u001b[A\n",
      " 29%|███████████████████████▍                                                         | 63/218 [03:37<08:41,  3.36s/it]\u001b[A\n",
      " 29%|███████████████████████▊                                                         | 64/218 [03:39<08:13,  3.20s/it]\u001b[A\n",
      " 30%|████████████████████████▏                                                        | 65/218 [03:43<08:20,  3.27s/it]\u001b[A\n",
      " 30%|████████████████████████▌                                                        | 66/218 [03:46<08:21,  3.30s/it]\u001b[A\n",
      " 31%|████████████████████████▉                                                        | 67/218 [03:50<08:29,  3.37s/it]\u001b[A\n",
      " 31%|█████████████████████████▎                                                       | 68/218 [03:54<09:01,  3.61s/it]\u001b[A\n",
      " 32%|█████████████████████████▋                                                       | 69/218 [03:55<07:16,  2.93s/it]\u001b[A\n",
      " 32%|██████████████████████████                                                       | 70/218 [03:59<07:45,  3.14s/it]\u001b[A\n",
      " 33%|██████████████████████████▍                                                      | 71/218 [04:02<07:41,  3.14s/it]\u001b[A\n",
      " 33%|██████████████████████████▊                                                      | 72/218 [04:03<05:50,  2.40s/it]\u001b[A\n",
      " 33%|███████████████████████████                                                      | 73/218 [04:06<06:12,  2.57s/it]\u001b[A\n",
      " 34%|███████████████████████████▍                                                     | 74/218 [04:09<06:44,  2.81s/it]\u001b[A\n",
      " 34%|███████████████████████████▊                                                     | 75/218 [04:16<09:22,  3.93s/it]\u001b[A\n",
      " 35%|████████████████████████████▏                                                    | 76/218 [04:19<08:43,  3.69s/it]\u001b[A\n",
      " 35%|████████████████████████████▌                                                    | 77/218 [04:22<08:31,  3.63s/it]\u001b[A\n",
      " 36%|████████████████████████████▉                                                    | 78/218 [04:23<06:33,  2.81s/it]\u001b[A\n",
      " 36%|█████████████████████████████▎                                                   | 79/218 [04:24<05:12,  2.25s/it]\u001b[A\n",
      " 37%|█████████████████████████████▋                                                   | 80/218 [04:26<05:06,  2.22s/it]\u001b[A\n",
      " 37%|██████████████████████████████                                                   | 81/218 [04:29<05:35,  2.45s/it]\u001b[A\n",
      " 38%|██████████████████████████████▍                                                  | 82/218 [04:34<06:55,  3.05s/it]\u001b[A\n",
      " 38%|██████████████████████████████▊                                                  | 83/218 [04:38<07:57,  3.54s/it]\u001b[A\n",
      " 39%|███████████████████████████████▏                                                 | 84/218 [04:39<05:58,  2.68s/it]\u001b[A\n",
      " 39%|███████████████████████████████▌                                                 | 85/218 [04:48<10:29,  4.73s/it]\u001b[A\n",
      " 39%|███████████████████████████████▉                                                 | 86/218 [04:55<11:27,  5.21s/it]\u001b[A\n",
      " 40%|████████████████████████████████▎                                                | 87/218 [04:56<08:50,  4.05s/it]\u001b[A\n",
      " 40%|████████████████████████████████▋                                                | 88/218 [05:03<10:21,  4.78s/it]\u001b[A\n",
      " 41%|█████████████████████████████████                                                | 89/218 [05:03<07:37,  3.54s/it]\u001b[A\n",
      " 41%|█████████████████████████████████▍                                               | 90/218 [05:07<07:44,  3.63s/it]\u001b[A\n",
      " 42%|█████████████████████████████████▊                                               | 91/218 [05:08<05:48,  2.74s/it]\u001b[A\n",
      " 42%|██████████████████████████████████▏                                              | 92/218 [05:12<06:28,  3.09s/it]\u001b[A\n",
      " 43%|██████████████████████████████████▌                                              | 93/218 [05:14<06:17,  3.02s/it]\u001b[A\n",
      " 43%|██████████████████████████████████▉                                              | 94/218 [05:20<07:43,  3.74s/it]\u001b[A\n",
      " 44%|███████████████████████████████████▎                                             | 95/218 [05:21<05:46,  2.82s/it]\u001b[A\n",
      " 44%|███████████████████████████████████▋                                             | 96/218 [05:24<05:52,  2.89s/it]\u001b[A\n",
      " 44%|████████████████████████████████████                                             | 97/218 [05:24<04:25,  2.20s/it]\u001b[A\n",
      " 45%|████████████████████████████████████▍                                            | 98/218 [05:29<05:59,  2.99s/it]\u001b[A\n",
      " 45%|████████████████████████████████████▊                                            | 99/218 [05:31<05:30,  2.77s/it]\u001b[A\n",
      " 46%|████████████████████████████████████▋                                           | 100/218 [05:35<06:09,  3.13s/it]\u001b[A\n",
      " 46%|█████████████████████████████████████                                           | 101/218 [05:37<05:13,  2.68s/it]\u001b[A\n",
      " 47%|█████████████████████████████████████▍                                          | 102/218 [05:47<09:33,  4.95s/it]\u001b[A\n",
      " 47%|█████████████████████████████████████▊                                          | 103/218 [05:52<09:08,  4.77s/it]\u001b[A\n",
      " 48%|██████████████████████████████████████▏                                         | 104/218 [05:54<07:59,  4.21s/it]\u001b[A\n",
      " 48%|██████████████████████████████████████▌                                         | 105/218 [05:58<07:29,  3.98s/it]\u001b[A\n",
      " 49%|██████████████████████████████████████▉                                         | 106/218 [06:01<06:59,  3.75s/it]\u001b[A\n",
      " 49%|███████████████████████████████████████▎                                        | 107/218 [06:04<06:32,  3.54s/it]\u001b[A\n",
      " 50%|███████████████████████████████████████▋                                        | 108/218 [06:05<04:55,  2.68s/it]\u001b[A\n",
      " 50%|████████████████████████████████████████                                        | 109/218 [06:08<05:23,  2.97s/it]\u001b[A\n",
      " 50%|████████████████████████████████████████▎                                       | 110/218 [06:15<07:28,  4.16s/it]\u001b[A\n",
      " 51%|████████████████████████████████████████▋                                       | 111/218 [06:20<07:35,  4.26s/it]\u001b[A\n"
     ]
    },
    {
     "name": "stderr",
     "output_type": "stream",
     "text": [
      " 51%|█████████████████████████████████████████                                       | 112/218 [06:20<05:34,  3.16s/it]\u001b[A\n",
      " 52%|█████████████████████████████████████████▍                                      | 113/218 [06:22<04:38,  2.65s/it]\u001b[A\n",
      " 52%|█████████████████████████████████████████▊                                      | 114/218 [06:23<03:40,  2.12s/it]\u001b[A\n",
      " 53%|██████████████████████████████████████████▏                                     | 115/218 [06:26<04:19,  2.52s/it]\u001b[A\n",
      " 53%|██████████████████████████████████████████▌                                     | 116/218 [06:27<03:23,  1.99s/it]\u001b[A\n",
      " 54%|██████████████████████████████████████████▉                                     | 117/218 [06:28<03:04,  1.83s/it]\u001b[A\n",
      " 54%|███████████████████████████████████████████▎                                    | 118/218 [06:30<02:47,  1.67s/it]\u001b[A\n",
      " 55%|███████████████████████████████████████████▋                                    | 119/218 [06:33<03:45,  2.28s/it]\u001b[A\n",
      " 55%|████████████████████████████████████████████                                    | 120/218 [06:36<03:46,  2.31s/it]\u001b[A\n",
      " 56%|████████████████████████████████████████████▍                                   | 121/218 [06:38<03:41,  2.29s/it]\u001b[A\n",
      " 56%|████████████████████████████████████████████▊                                   | 122/218 [06:41<03:55,  2.45s/it]\u001b[A\n",
      " 56%|█████████████████████████████████████████████▏                                  | 123/218 [06:47<05:30,  3.48s/it]\u001b[A\n",
      " 57%|█████████████████████████████████████████████▌                                  | 124/218 [06:52<06:08,  3.92s/it]\u001b[A\n",
      " 57%|█████████████████████████████████████████████▊                                  | 125/218 [06:54<05:29,  3.54s/it]\u001b[A\n",
      " 58%|██████████████████████████████████████████████▏                                 | 126/218 [06:59<05:57,  3.89s/it]\u001b[A\n",
      " 58%|██████████████████████████████████████████████▌                                 | 127/218 [07:02<05:28,  3.61s/it]\u001b[A\n",
      " 59%|██████████████████████████████████████████████▉                                 | 128/218 [07:03<04:04,  2.72s/it]\u001b[A\n",
      " 59%|███████████████████████████████████████████████▎                                | 129/218 [07:05<03:52,  2.61s/it]\u001b[A\n",
      " 60%|███████████████████████████████████████████████▋                                | 130/218 [07:11<05:17,  3.61s/it]\u001b[A\n",
      " 60%|████████████████████████████████████████████████                                | 131/218 [07:15<05:11,  3.58s/it]\u001b[A\n",
      " 61%|████████████████████████████████████████████████▍                               | 132/218 [07:20<05:58,  4.17s/it]\u001b[A\n",
      " 61%|████████████████████████████████████████████████▊                               | 133/218 [07:21<04:31,  3.19s/it]\u001b[A\n",
      " 61%|█████████████████████████████████████████████████▏                              | 134/218 [07:25<04:52,  3.48s/it]\u001b[A\n",
      " 62%|█████████████████████████████████████████████████▌                              | 135/218 [07:28<04:32,  3.28s/it]\u001b[A\n",
      " 62%|█████████████████████████████████████████████████▉                              | 136/218 [07:34<05:39,  4.14s/it]\u001b[A\n",
      " 63%|██████████████████████████████████████████████████▎                             | 137/218 [07:38<05:17,  3.92s/it]\u001b[A\n",
      " 63%|██████████████████████████████████████████████████▋                             | 138/218 [07:39<04:24,  3.31s/it]\u001b[A\n",
      " 64%|███████████████████████████████████████████████████                             | 139/218 [07:43<04:21,  3.30s/it]\u001b[A\n",
      " 64%|███████████████████████████████████████████████████▍                            | 140/218 [07:45<03:43,  2.87s/it]\u001b[A\n",
      " 65%|███████████████████████████████████████████████████▋                            | 141/218 [07:45<02:50,  2.22s/it]\u001b[A\n",
      " 65%|████████████████████████████████████████████████████                            | 142/218 [07:50<03:43,  2.95s/it]\u001b[A\n",
      " 66%|████████████████████████████████████████████████████▍                           | 143/218 [07:52<03:27,  2.77s/it]\u001b[A\n",
      " 66%|████████████████████████████████████████████████████▊                           | 144/218 [07:58<04:29,  3.64s/it]\u001b[A\n",
      " 67%|█████████████████████████████████████████████████████▏                          | 145/218 [08:01<04:17,  3.53s/it]\u001b[A\n",
      " 67%|█████████████████████████████████████████████████████▌                          | 146/218 [08:04<04:04,  3.40s/it]\u001b[A\n",
      " 67%|█████████████████████████████████████████████████████▉                          | 147/218 [08:05<03:03,  2.58s/it]\u001b[A\n",
      " 68%|██████████████████████████████████████████████████████▎                         | 148/218 [08:06<02:22,  2.04s/it]\u001b[A\n",
      " 68%|██████████████████████████████████████████████████████▋                         | 149/218 [08:09<02:46,  2.41s/it]\u001b[A\n",
      " 69%|███████████████████████████████████████████████████████                         | 150/218 [08:15<03:52,  3.42s/it]\u001b[A\n",
      " 69%|███████████████████████████████████████████████████████▍                        | 151/218 [08:18<03:37,  3.24s/it]\u001b[A\n",
      " 70%|███████████████████████████████████████████████████████▊                        | 152/218 [08:23<04:15,  3.88s/it]\u001b[A\n",
      " 70%|████████████████████████████████████████████████████████▏                       | 153/218 [08:24<03:14,  2.99s/it]\u001b[A\n",
      " 71%|████████████████████████████████████████████████████████▌                       | 154/218 [08:25<02:27,  2.30s/it]\u001b[A\n",
      " 71%|████████████████████████████████████████████████████████▉                       | 155/218 [08:26<02:01,  1.93s/it]\u001b[A\n",
      " 72%|█████████████████████████████████████████████████████████▏                      | 156/218 [08:28<02:09,  2.10s/it]\u001b[A\n",
      " 72%|█████████████████████████████████████████████████████████▌                      | 157/218 [08:31<02:25,  2.39s/it]\u001b[A\n",
      " 72%|█████████████████████████████████████████████████████████▉                      | 158/218 [08:33<02:05,  2.09s/it]\u001b[A\n",
      " 73%|██████████████████████████████████████████████████████████▎                     | 159/218 [08:35<02:08,  2.18s/it]\u001b[A\n",
      " 73%|██████████████████████████████████████████████████████████▋                     | 160/218 [08:42<03:37,  3.75s/it]\u001b[A\n",
      " 74%|███████████████████████████████████████████████████████████                     | 161/218 [08:49<04:29,  4.73s/it]\u001b[A\n",
      " 74%|███████████████████████████████████████████████████████████▍                    | 162/218 [08:51<03:33,  3.81s/it]\u001b[A\n",
      " 75%|███████████████████████████████████████████████████████████▊                    | 163/218 [08:52<02:41,  2.94s/it]\u001b[A\n",
      " 75%|████████████████████████████████████████████████████████████▏                   | 164/218 [08:53<02:02,  2.27s/it]\u001b[A\n",
      " 76%|████████████████████████████████████████████████████████████▌                   | 165/218 [08:56<02:13,  2.52s/it]\u001b[A\n",
      " 76%|████████████████████████████████████████████████████████████▉                   | 166/218 [08:59<02:16,  2.63s/it]\u001b[A\n",
      " 77%|█████████████████████████████████████████████████████████████▎                  | 167/218 [09:00<01:48,  2.12s/it]\u001b[A\n",
      " 77%|█████████████████████████████████████████████████████████████▋                  | 168/218 [09:02<01:48,  2.16s/it]\u001b[A\n",
      " 78%|██████████████████████████████████████████████████████████████                  | 169/218 [09:05<02:03,  2.52s/it]\u001b[A\n",
      " 78%|██████████████████████████████████████████████████████████████▍                 | 170/218 [09:08<02:01,  2.53s/it]\u001b[A\n",
      " 78%|██████████████████████████████████████████████████████████████▊                 | 171/218 [09:12<02:29,  3.18s/it]\u001b[A\n",
      " 79%|███████████████████████████████████████████████████████████████                 | 172/218 [09:15<02:23,  3.12s/it]\u001b[A\n",
      " 79%|███████████████████████████████████████████████████████████████▍                | 173/218 [09:19<02:32,  3.39s/it]\u001b[A\n",
      " 80%|███████████████████████████████████████████████████████████████▊                | 174/218 [09:22<02:17,  3.13s/it]\u001b[A\n",
      " 80%|████████████████████████████████████████████████████████████████▏               | 175/218 [09:26<02:21,  3.28s/it]\u001b[A\n",
      " 81%|████████████████████████████████████████████████████████████████▌               | 176/218 [09:29<02:13,  3.17s/it]\u001b[A\n",
      " 81%|████████████████████████████████████████████████████████████████▉               | 177/218 [09:30<01:46,  2.60s/it]\u001b[A\n"
     ]
    },
    {
     "name": "stderr",
     "output_type": "stream",
     "text": [
      " 82%|█████████████████████████████████████████████████████████████████▎              | 178/218 [09:32<01:35,  2.40s/it]\u001b[A\n",
      " 82%|█████████████████████████████████████████████████████████████████▋              | 179/218 [09:35<01:45,  2.70s/it]\u001b[A\n",
      " 83%|██████████████████████████████████████████████████████████████████              | 180/218 [09:36<01:20,  2.12s/it]\u001b[A\n",
      " 83%|██████████████████████████████████████████████████████████████████▍             | 181/218 [09:38<01:17,  2.08s/it]\u001b[A\n",
      " 83%|██████████████████████████████████████████████████████████████████▊             | 182/218 [09:41<01:27,  2.42s/it]\u001b[A\n",
      " 84%|███████████████████████████████████████████████████████████████████▏            | 183/218 [09:43<01:23,  2.40s/it]\u001b[A\n",
      " 84%|███████████████████████████████████████████████████████████████████▌            | 184/218 [09:49<01:53,  3.34s/it]\u001b[A\n",
      " 85%|███████████████████████████████████████████████████████████████████▉            | 185/218 [09:50<01:24,  2.56s/it]\u001b[A\n",
      " 85%|████████████████████████████████████████████████████████████████████▎           | 186/218 [09:50<01:03,  2.00s/it]\u001b[A\n",
      " 86%|████████████████████████████████████████████████████████████████████▌           | 187/218 [09:54<01:17,  2.51s/it]\u001b[A\n",
      " 86%|████████████████████████████████████████████████████████████████████▉           | 188/218 [09:55<01:04,  2.14s/it]\u001b[A\n",
      " 87%|█████████████████████████████████████████████████████████████████████▎          | 189/218 [09:56<00:49,  1.70s/it]\u001b[A\n",
      " 87%|█████████████████████████████████████████████████████████████████████▋          | 190/218 [09:58<00:52,  1.87s/it]\u001b[A\n",
      " 88%|██████████████████████████████████████████████████████████████████████          | 191/218 [10:02<01:02,  2.31s/it]\u001b[A\n",
      " 88%|██████████████████████████████████████████████████████████████████████▍         | 192/218 [10:04<01:00,  2.34s/it]\u001b[A\n",
      " 89%|██████████████████████████████████████████████████████████████████████▊         | 193/218 [10:07<01:06,  2.65s/it]\u001b[A\n",
      " 89%|███████████████████████████████████████████████████████████████████████▏        | 194/218 [10:10<01:00,  2.54s/it]\u001b[A\n",
      " 89%|███████████████████████████████████████████████████████████████████████▌        | 195/218 [10:10<00:45,  1.98s/it]\u001b[A\n",
      " 90%|███████████████████████████████████████████████████████████████████████▉        | 196/218 [10:13<00:44,  2.03s/it]\u001b[A\n",
      " 90%|████████████████████████████████████████████████████████████████████████▎       | 197/218 [10:16<00:49,  2.35s/it]\u001b[A\n",
      " 91%|████████████████████████████████████████████████████████████████████████▋       | 198/218 [10:18<00:49,  2.48s/it]\u001b[A\n",
      " 91%|█████████████████████████████████████████████████████████████████████████       | 199/218 [10:20<00:43,  2.29s/it]\u001b[A\n",
      " 92%|█████████████████████████████████████████████████████████████████████████▍      | 200/218 [10:23<00:45,  2.51s/it]\u001b[A\n",
      " 92%|█████████████████████████████████████████████████████████████████████████▊      | 201/218 [10:27<00:46,  2.72s/it]\u001b[A\n",
      " 93%|██████████████████████████████████████████████████████████████████████████▏     | 202/218 [10:29<00:43,  2.71s/it]\u001b[A\n",
      " 93%|██████████████████████████████████████████████████████████████████████████▍     | 203/218 [10:30<00:31,  2.08s/it]\u001b[A\n",
      " 94%|██████████████████████████████████████████████████████████████████████████▊     | 204/218 [10:34<00:39,  2.79s/it]\u001b[A\n",
      " 94%|███████████████████████████████████████████████████████████████████████████▏    | 205/218 [10:37<00:36,  2.77s/it]\u001b[A\n",
      " 94%|███████████████████████████████████████████████████████████████████████████▌    | 206/218 [10:38<00:26,  2.21s/it]\u001b[A\n",
      " 95%|███████████████████████████████████████████████████████████████████████████▉    | 207/218 [10:40<00:23,  2.13s/it]\u001b[A\n",
      " 95%|████████████████████████████████████████████████████████████████████████████▎   | 208/218 [10:43<00:23,  2.33s/it]\u001b[A\n",
      " 96%|████████████████████████████████████████████████████████████████████████████▋   | 209/218 [10:44<00:18,  2.10s/it]\u001b[A\n",
      " 96%|█████████████████████████████████████████████████████████████████████████████   | 210/218 [10:46<00:16,  2.12s/it]\u001b[A\n",
      " 97%|█████████████████████████████████████████████████████████████████████████████▍  | 211/218 [10:49<00:15,  2.18s/it]\u001b[A\n",
      " 97%|█████████████████████████████████████████████████████████████████████████████▊  | 212/218 [10:52<00:14,  2.42s/it]\u001b[A\n",
      " 98%|██████████████████████████████████████████████████████████████████████████████▏ | 213/218 [10:52<00:09,  1.90s/it]\u001b[A\n",
      " 98%|██████████████████████████████████████████████████████████████████████████████▌ | 214/218 [10:56<00:09,  2.47s/it]\u001b[A\n",
      " 99%|██████████████████████████████████████████████████████████████████████████████▉ | 215/218 [10:57<00:05,  1.95s/it]\u001b[A\n",
      " 99%|███████████████████████████████████████████████████████████████████████████████▎| 216/218 [11:03<00:06,  3.31s/it]\u001b[A\n",
      "100%|███████████████████████████████████████████████████████████████████████████████▋| 217/218 [11:06<00:03,  3.04s/it]\u001b[A\n",
      "100%|████████████████████████████████████████████████████████████████████████████████| 218/218 [11:06<00:00,  3.06s/it]\u001b[A\n",
      " 29%|███████████████████████▏                                                         | 2/7 [29:40<1:10:53, 850.64s/it]\n",
      "  0%|                                                                                          | 0/243 [00:00<?, ?it/s]\u001b[A\n",
      "  0%|▎                                                                                 | 1/243 [00:05<21:25,  5.31s/it]\u001b[A\n",
      "  1%|▋                                                                                 | 2/243 [00:08<15:21,  3.82s/it]\u001b[A\n",
      "  1%|█                                                                                 | 3/243 [00:11<14:54,  3.73s/it]\u001b[A\n",
      "  2%|█▎                                                                                | 4/243 [00:17<17:28,  4.39s/it]\u001b[A\n",
      "  2%|█▋                                                                                | 5/243 [00:17<12:23,  3.12s/it]\u001b[A\n",
      "  2%|██                                                                                | 6/243 [00:22<13:41,  3.47s/it]\u001b[A\n",
      "  3%|██▎                                                                               | 7/243 [00:28<17:17,  4.39s/it]\u001b[A\n",
      "  3%|██▋                                                                               | 8/243 [00:30<14:12,  3.63s/it]\u001b[A\n",
      "  4%|███                                                                               | 9/243 [00:32<12:45,  3.27s/it]\u001b[A\n",
      "  4%|███▎                                                                             | 10/243 [00:36<13:32,  3.49s/it]\u001b[A\n",
      "  5%|███▋                                                                             | 11/243 [00:42<16:31,  4.28s/it]\u001b[A\n",
      "  5%|████                                                                             | 12/243 [00:47<17:03,  4.43s/it]\u001b[A\n",
      "  5%|████▎                                                                            | 13/243 [00:51<16:14,  4.24s/it]\u001b[A\n",
      "  6%|████▋                                                                            | 14/243 [00:56<16:53,  4.43s/it]\u001b[A\n",
      "  6%|█████                                                                            | 15/243 [00:58<14:34,  3.84s/it]\u001b[A\n",
      "  7%|█████▎                                                                           | 16/243 [00:59<10:55,  2.89s/it]\u001b[A\n",
      "  7%|█████▋                                                                           | 17/243 [01:07<16:40,  4.43s/it]\u001b[A\n",
      "  7%|██████                                                                           | 18/243 [01:08<12:31,  3.34s/it]\u001b[A\n",
      "  8%|██████▎                                                                          | 19/243 [01:12<13:18,  3.56s/it]\u001b[A\n",
      "  8%|██████▋                                                                          | 20/243 [01:17<14:45,  3.97s/it]\u001b[A\n",
      "  9%|███████                                                                          | 21/243 [01:17<10:56,  2.96s/it]\u001b[A\n",
      "  9%|███████▎                                                                         | 22/243 [01:19<08:55,  2.42s/it]\u001b[A\n",
      "  9%|███████▋                                                                         | 23/243 [01:23<10:34,  2.89s/it]\u001b[A\n"
     ]
    },
    {
     "name": "stderr",
     "output_type": "stream",
     "text": [
      " 10%|████████                                                                         | 24/243 [01:27<12:00,  3.29s/it]\u001b[A\n",
      " 10%|████████▎                                                                        | 25/243 [01:29<10:35,  2.91s/it]\u001b[A\n",
      " 11%|████████▋                                                                        | 26/243 [01:32<10:36,  2.93s/it]\u001b[A\n",
      " 11%|█████████                                                                        | 27/243 [01:46<22:29,  6.25s/it]\u001b[A\n",
      " 12%|█████████▎                                                                       | 28/243 [01:50<20:20,  5.68s/it]\u001b[A\n",
      " 12%|█████████▋                                                                       | 29/243 [01:53<17:33,  4.92s/it]\u001b[A\n",
      " 12%|██████████                                                                       | 30/243 [01:56<15:34,  4.39s/it]\u001b[A\n",
      " 13%|██████████▎                                                                      | 31/243 [01:58<12:06,  3.43s/it]\u001b[A\n",
      " 13%|██████████▋                                                                      | 32/243 [02:00<11:25,  3.25s/it]\u001b[A\n",
      " 14%|███████████                                                                      | 33/243 [02:01<08:41,  2.48s/it]\u001b[A\n",
      " 14%|███████████▎                                                                     | 34/243 [02:02<06:46,  1.95s/it]\u001b[A\n",
      " 14%|███████████▋                                                                     | 35/243 [02:07<09:44,  2.81s/it]\u001b[A\n",
      " 15%|████████████                                                                     | 36/243 [02:11<11:30,  3.34s/it]\u001b[A\n",
      " 15%|████████████▎                                                                    | 37/243 [02:14<11:18,  3.29s/it]\u001b[A\n",
      " 16%|████████████▋                                                                    | 38/243 [02:21<14:11,  4.16s/it]\u001b[A\n",
      " 16%|█████████████                                                                    | 39/243 [02:23<12:01,  3.53s/it]\u001b[A\n",
      " 16%|█████████████▎                                                                   | 40/243 [02:27<12:22,  3.66s/it]\u001b[A\n",
      " 17%|█████████████▋                                                                   | 41/243 [02:30<11:58,  3.56s/it]\u001b[A\n",
      " 17%|██████████████                                                                   | 42/243 [02:32<10:21,  3.09s/it]\u001b[A\n",
      " 18%|██████████████▎                                                                  | 43/243 [02:35<10:17,  3.09s/it]\u001b[A\n",
      " 18%|██████████████▋                                                                  | 44/243 [02:38<10:04,  3.04s/it]\u001b[A\n",
      " 19%|███████████████                                                                  | 45/243 [02:40<09:06,  2.76s/it]\u001b[A\n",
      " 19%|███████████████▎                                                                 | 46/243 [02:42<08:34,  2.61s/it]\u001b[A\n",
      " 19%|███████████████▋                                                                 | 47/243 [02:43<06:58,  2.13s/it]\u001b[A\n",
      " 20%|████████████████                                                                 | 48/243 [02:49<10:00,  3.08s/it]\u001b[A\n",
      " 20%|████████████████▎                                                                | 49/243 [02:52<10:13,  3.16s/it]\u001b[A\n",
      " 21%|████████████████▋                                                                | 50/243 [02:57<12:02,  3.75s/it]\u001b[A\n",
      " 21%|█████████████████                                                                | 51/243 [02:59<10:22,  3.24s/it]\u001b[A\n",
      " 21%|█████████████████▎                                                               | 52/243 [03:00<08:01,  2.52s/it]\u001b[A\n",
      " 22%|█████████████████▋                                                               | 53/243 [03:03<08:38,  2.73s/it]\u001b[A\n",
      " 22%|██████████████████                                                               | 54/243 [03:05<07:13,  2.29s/it]\u001b[A\n",
      " 23%|██████████████████▎                                                              | 55/243 [03:10<09:58,  3.18s/it]\u001b[A\n",
      " 23%|██████████████████▋                                                              | 56/243 [03:15<11:29,  3.69s/it]\u001b[A\n",
      " 23%|███████████████████                                                              | 57/243 [03:19<12:03,  3.89s/it]\u001b[A\n",
      " 24%|███████████████████▎                                                             | 58/243 [03:20<09:27,  3.07s/it]\u001b[A\n",
      " 24%|███████████████████▋                                                             | 59/243 [03:24<10:11,  3.33s/it]\u001b[A\n",
      " 25%|████████████████████                                                             | 60/243 [03:26<09:17,  3.04s/it]\u001b[A\n",
      " 25%|████████████████████▎                                                            | 61/243 [03:30<09:41,  3.20s/it]\u001b[A\n",
      " 26%|████████████████████▋                                                            | 62/243 [03:31<07:19,  2.43s/it]\u001b[A\n",
      " 26%|█████████████████████                                                            | 63/243 [03:32<06:13,  2.07s/it]\u001b[A\n",
      " 26%|█████████████████████▎                                                           | 64/243 [03:35<06:54,  2.31s/it]\u001b[A\n",
      " 27%|█████████████████████▋                                                           | 65/243 [03:38<07:32,  2.54s/it]\u001b[A\n",
      " 27%|██████████████████████                                                           | 66/243 [03:39<06:02,  2.05s/it]\u001b[A\n",
      " 28%|██████████████████████▎                                                          | 67/243 [03:40<05:09,  1.76s/it]\u001b[A\n",
      " 28%|██████████████████████▋                                                          | 68/243 [03:42<05:33,  1.90s/it]\u001b[A\n",
      " 28%|███████████████████████                                                          | 69/243 [03:45<06:17,  2.17s/it]\u001b[A\n",
      " 29%|███████████████████████▎                                                         | 70/243 [03:46<05:14,  1.82s/it]\u001b[A\n",
      " 29%|███████████████████████▋                                                         | 71/243 [03:57<13:00,  4.54s/it]\u001b[A\n",
      " 30%|████████████████████████                                                         | 72/243 [04:00<11:44,  4.12s/it]\u001b[A\n",
      " 30%|████████████████████████▎                                                        | 73/243 [04:05<12:20,  4.35s/it]\u001b[A\n",
      " 30%|████████████████████████▋                                                        | 74/243 [04:07<10:38,  3.78s/it]\u001b[A\n",
      " 31%|█████████████████████████                                                        | 75/243 [04:10<09:40,  3.45s/it]\u001b[A\n",
      " 31%|█████████████████████████▎                                                       | 76/243 [04:11<07:44,  2.78s/it]\u001b[A\n",
      " 32%|█████████████████████████▋                                                       | 77/243 [04:14<08:08,  2.94s/it]\u001b[A\n",
      " 32%|██████████████████████████                                                       | 78/243 [04:18<08:40,  3.16s/it]\u001b[A\n",
      " 33%|██████████████████████████▎                                                      | 79/243 [04:21<08:28,  3.10s/it]\u001b[A\n",
      " 33%|██████████████████████████▋                                                      | 80/243 [04:24<08:09,  3.01s/it]\u001b[A\n",
      " 33%|███████████████████████████                                                      | 81/243 [04:27<08:31,  3.16s/it]\u001b[A\n",
      " 34%|███████████████████████████▎                                                     | 82/243 [04:29<07:14,  2.70s/it]\u001b[A\n",
      " 34%|███████████████████████████▋                                                     | 83/243 [04:30<05:41,  2.14s/it]\u001b[A\n",
      " 35%|████████████████████████████                                                     | 84/243 [04:34<07:34,  2.86s/it]\u001b[A\n",
      " 35%|████████████████████████████▎                                                    | 85/243 [04:35<05:43,  2.17s/it]\u001b[A\n",
      " 35%|████████████████████████████▋                                                    | 86/243 [04:36<04:41,  1.79s/it]\u001b[A\n",
      " 36%|█████████████████████████████                                                    | 87/243 [04:39<05:51,  2.25s/it]\u001b[A\n",
      " 36%|█████████████████████████████▎                                                   | 88/243 [04:42<06:07,  2.37s/it]\u001b[A\n",
      " 37%|█████████████████████████████▋                                                   | 89/243 [04:47<08:21,  3.26s/it]\u001b[A\n"
     ]
    },
    {
     "name": "stderr",
     "output_type": "stream",
     "text": [
      " 37%|██████████████████████████████                                                   | 90/243 [04:54<10:55,  4.29s/it]\u001b[A\n",
      " 37%|██████████████████████████████▎                                                  | 91/243 [04:57<09:39,  3.81s/it]\u001b[A\n",
      " 38%|██████████████████████████████▋                                                  | 92/243 [05:00<09:20,  3.71s/it]\u001b[A\n",
      " 38%|███████████████████████████████                                                  | 93/243 [05:01<06:56,  2.77s/it]\u001b[A\n",
      " 39%|███████████████████████████████▎                                                 | 94/243 [05:06<08:30,  3.43s/it]\u001b[A\n",
      " 39%|███████████████████████████████▋                                                 | 95/243 [05:06<06:36,  2.68s/it]\u001b[A\n",
      " 40%|████████████████████████████████                                                 | 96/243 [05:07<05:16,  2.15s/it]\u001b[A\n",
      " 40%|████████████████████████████████▎                                                | 97/243 [05:13<07:52,  3.24s/it]\u001b[A\n",
      " 40%|████████████████████████████████▋                                                | 98/243 [05:18<09:17,  3.85s/it]\u001b[A\n",
      " 41%|█████████████████████████████████                                                | 99/243 [05:23<09:55,  4.13s/it]\u001b[A\n",
      " 41%|████████████████████████████████▉                                               | 100/243 [05:26<08:54,  3.74s/it]\u001b[A\n",
      " 42%|█████████████████████████████████▎                                              | 101/243 [05:30<08:59,  3.80s/it]\u001b[A\n",
      " 42%|█████████████████████████████████▌                                              | 102/243 [05:31<06:44,  2.87s/it]\u001b[A\n",
      " 42%|█████████████████████████████████▉                                              | 103/243 [05:31<05:13,  2.24s/it]\u001b[A\n",
      " 43%|██████████████████████████████████▏                                             | 104/243 [05:33<05:00,  2.16s/it]\u001b[A\n",
      " 43%|██████████████████████████████████▌                                             | 105/243 [05:36<05:13,  2.27s/it]\u001b[A\n",
      " 44%|██████████████████████████████████▉                                             | 106/243 [05:39<05:52,  2.58s/it]\u001b[A\n",
      " 44%|███████████████████████████████████▏                                            | 107/243 [05:42<06:06,  2.70s/it]\u001b[A\n",
      " 44%|███████████████████████████████████▌                                            | 108/243 [05:46<06:46,  3.01s/it]\u001b[A\n",
      " 45%|███████████████████████████████████▉                                            | 109/243 [05:54<10:03,  4.51s/it]\u001b[A\n",
      " 45%|████████████████████████████████████▏                                           | 110/243 [05:55<07:23,  3.34s/it]\u001b[A\n",
      " 46%|████████████████████████████████████▌                                           | 111/243 [05:58<07:37,  3.47s/it]\u001b[A\n",
      " 46%|████████████████████████████████████▊                                           | 112/243 [06:03<08:18,  3.80s/it]\u001b[A\n",
      " 47%|█████████████████████████████████████▏                                          | 113/243 [06:07<08:18,  3.83s/it]\u001b[A\n",
      " 47%|█████████████████████████████████████▌                                          | 114/243 [06:08<06:25,  2.99s/it]\u001b[A\n",
      " 47%|█████████████████████████████████████▊                                          | 115/243 [06:11<06:11,  2.91s/it]\u001b[A\n",
      " 48%|██████████████████████████████████████▏                                         | 116/243 [06:11<04:45,  2.25s/it]\u001b[A\n",
      " 48%|██████████████████████████████████████▌                                         | 117/243 [06:15<05:22,  2.56s/it]\u001b[A\n",
      " 49%|██████████████████████████████████████▊                                         | 118/243 [06:15<04:09,  1.99s/it]\u001b[A\n",
      " 49%|███████████████████████████████████████▏                                        | 119/243 [06:16<03:39,  1.77s/it]\u001b[A\n",
      " 49%|███████████████████████████████████████▌                                        | 120/243 [06:17<03:06,  1.52s/it]\u001b[A\n",
      " 50%|███████████████████████████████████████▊                                        | 121/243 [06:22<04:40,  2.30s/it]\u001b[A\n",
      " 50%|████████████████████████████████████████▏                                       | 122/243 [06:24<04:33,  2.26s/it]\u001b[A\n",
      " 51%|████████████████████████████████████████▍                                       | 123/243 [06:27<05:18,  2.66s/it]\u001b[A\n",
      " 51%|████████████████████████████████████████▊                                       | 124/243 [06:30<05:22,  2.71s/it]\u001b[A\n",
      " 51%|█████████████████████████████████████████▏                                      | 125/243 [06:34<05:45,  2.93s/it]\u001b[A\n",
      " 52%|█████████████████████████████████████████▍                                      | 126/243 [06:37<06:12,  3.19s/it]\u001b[A\n",
      " 52%|█████████████████████████████████████████▊                                      | 127/243 [06:43<07:47,  4.03s/it]\u001b[A\n",
      " 53%|██████████████████████████████████████████▏                                     | 128/243 [06:47<07:42,  4.02s/it]\u001b[A\n",
      " 53%|██████████████████████████████████████████▍                                     | 129/243 [06:48<05:54,  3.11s/it]\u001b[A\n",
      " 53%|██████████████████████████████████████████▊                                     | 130/243 [06:52<06:10,  3.28s/it]\u001b[A\n",
      " 54%|███████████████████████████████████████████▏                                    | 131/243 [06:55<05:49,  3.12s/it]\u001b[A\n",
      " 54%|███████████████████████████████████████████▍                                    | 132/243 [06:58<05:55,  3.20s/it]\u001b[A\n",
      " 55%|███████████████████████████████████████████▊                                    | 133/243 [06:59<04:28,  2.44s/it]\u001b[A\n",
      " 55%|████████████████████████████████████████████                                    | 134/243 [07:00<03:36,  1.99s/it]\u001b[A\n",
      " 56%|████████████████████████████████████████████▍                                   | 135/243 [07:01<02:59,  1.66s/it]\u001b[A\n",
      " 56%|████████████████████████████████████████████▊                                   | 136/243 [07:01<02:26,  1.37s/it]\u001b[A\n",
      " 56%|█████████████████████████████████████████████                                   | 137/243 [07:02<02:10,  1.23s/it]\u001b[A\n",
      " 57%|█████████████████████████████████████████████▍                                  | 138/243 [07:05<03:03,  1.75s/it]\u001b[A\n",
      " 57%|█████████████████████████████████████████████▊                                  | 139/243 [07:08<03:29,  2.02s/it]\u001b[A\n",
      " 58%|██████████████████████████████████████████████                                  | 140/243 [07:10<03:26,  2.01s/it]\u001b[A\n",
      " 58%|██████████████████████████████████████████████▍                                 | 141/243 [07:11<02:43,  1.61s/it]\u001b[A\n",
      " 58%|██████████████████████████████████████████████▋                                 | 142/243 [07:13<03:12,  1.90s/it]\u001b[A\n",
      " 59%|███████████████████████████████████████████████                                 | 143/243 [07:17<04:06,  2.47s/it]\u001b[A\n",
      " 59%|███████████████████████████████████████████████▍                                | 144/243 [07:18<03:23,  2.05s/it]\u001b[A\n",
      " 60%|███████████████████████████████████████████████▋                                | 145/243 [07:19<02:47,  1.71s/it]\u001b[A\n",
      " 60%|████████████████████████████████████████████████                                | 146/243 [07:23<03:44,  2.32s/it]\u001b[A\n",
      " 60%|████████████████████████████████████████████████▍                               | 147/243 [07:27<04:41,  2.93s/it]\u001b[A\n",
      " 61%|████████████████████████████████████████████████▋                               | 148/243 [07:29<04:11,  2.65s/it]\u001b[A\n",
      " 61%|█████████████████████████████████████████████████                               | 149/243 [07:31<03:55,  2.50s/it]\u001b[A\n",
      " 62%|█████████████████████████████████████████████████▍                              | 150/243 [07:44<08:28,  5.46s/it]\u001b[A\n",
      " 62%|█████████████████████████████████████████████████▋                              | 151/243 [07:46<07:06,  4.63s/it]\u001b[A\n",
      " 63%|██████████████████████████████████████████████████                              | 152/243 [07:50<06:42,  4.43s/it]\u001b[A\n",
      " 63%|██████████████████████████████████████████████████▎                             | 153/243 [07:55<06:37,  4.42s/it]\u001b[A\n",
      " 63%|██████████████████████████████████████████████████▋                             | 154/243 [07:58<05:56,  4.00s/it]\u001b[A\n",
      " 64%|███████████████████████████████████████████████████                             | 155/243 [08:01<05:26,  3.71s/it]\u001b[A\n"
     ]
    },
    {
     "name": "stderr",
     "output_type": "stream",
     "text": [
      " 64%|███████████████████████████████████████████████████▎                            | 156/243 [08:03<05:00,  3.46s/it]\u001b[A\n",
      " 65%|███████████████████████████████████████████████████▋                            | 157/243 [08:10<06:22,  4.45s/it]\u001b[A\n",
      " 65%|████████████████████████████████████████████████████                            | 158/243 [08:12<04:59,  3.52s/it]\u001b[A\n",
      " 65%|████████████████████████████████████████████████████▎                           | 159/243 [08:15<04:59,  3.57s/it]\u001b[A\n",
      " 66%|████████████████████████████████████████████████████▋                           | 160/243 [08:18<04:26,  3.21s/it]\u001b[A\n",
      " 66%|█████████████████████████████████████████████████████                           | 161/243 [08:21<04:21,  3.19s/it]\u001b[A\n",
      " 67%|█████████████████████████████████████████████████████▎                          | 162/243 [08:21<03:17,  2.44s/it]\u001b[A\n",
      " 67%|█████████████████████████████████████████████████████▋                          | 163/243 [08:25<03:47,  2.85s/it]\u001b[A\n",
      " 67%|█████████████████████████████████████████████████████▉                          | 164/243 [08:29<04:02,  3.07s/it]\u001b[A\n",
      " 68%|██████████████████████████████████████████████████████▎                         | 165/243 [08:33<04:32,  3.49s/it]\u001b[A\n",
      " 68%|██████████████████████████████████████████████████████▋                         | 166/243 [08:38<04:57,  3.87s/it]\u001b[A\n",
      " 69%|██████████████████████████████████████████████████████▉                         | 167/243 [08:53<08:59,  7.10s/it]\u001b[A\n",
      " 69%|███████████████████████████████████████████████████████▎                        | 168/243 [09:01<09:19,  7.45s/it]\u001b[A\n",
      " 70%|███████████████████████████████████████████████████████▋                        | 169/243 [09:06<08:08,  6.60s/it]\u001b[A\n",
      " 70%|███████████████████████████████████████████████████████▉                        | 170/243 [09:11<07:31,  6.19s/it]\u001b[A\n",
      " 70%|████████████████████████████████████████████████████████▎                       | 171/243 [09:12<05:26,  4.53s/it]\u001b[A\n",
      " 71%|████████████████████████████████████████████████████████▋                       | 172/243 [09:13<04:06,  3.48s/it]\u001b[A\n",
      " 71%|████████████████████████████████████████████████████████▉                       | 173/243 [09:15<03:33,  3.04s/it]\u001b[A\n",
      " 72%|█████████████████████████████████████████████████████████▎                      | 174/243 [09:17<03:26,  2.99s/it]\u001b[A\n",
      " 72%|█████████████████████████████████████████████████████████▌                      | 175/243 [09:21<03:30,  3.09s/it]\u001b[A\n",
      " 72%|█████████████████████████████████████████████████████████▉                      | 176/243 [09:25<03:50,  3.44s/it]\u001b[A\n",
      " 73%|██████████████████████████████████████████████████████████▎                     | 177/243 [09:31<04:28,  4.07s/it]\u001b[A\n",
      " 73%|██████████████████████████████████████████████████████████▌                     | 178/243 [09:32<03:38,  3.36s/it]\u001b[A\n",
      " 74%|██████████████████████████████████████████████████████████▉                     | 179/243 [09:38<04:27,  4.18s/it]\u001b[A\n",
      " 74%|███████████████████████████████████████████████████████████▎                    | 180/243 [09:41<03:58,  3.79s/it]\u001b[A\n",
      " 74%|███████████████████████████████████████████████████████████▌                    | 181/243 [09:44<03:41,  3.57s/it]\u001b[A\n",
      " 75%|███████████████████████████████████████████████████████████▉                    | 182/243 [09:48<03:40,  3.62s/it]\u001b[A\n",
      " 75%|████████████████████████████████████████████████████████████▏                   | 183/243 [09:50<03:08,  3.15s/it]\u001b[A\n",
      " 76%|████████████████████████████████████████████████████████████▌                   | 184/243 [09:51<02:26,  2.48s/it]\u001b[A\n",
      " 76%|████████████████████████████████████████████████████████████▉                   | 185/243 [09:54<02:34,  2.67s/it]\u001b[A\n",
      " 77%|█████████████████████████████████████████████████████████████▏                  | 186/243 [09:59<03:14,  3.41s/it]\u001b[A\n",
      " 77%|█████████████████████████████████████████████████████████████▌                  | 187/243 [10:02<02:59,  3.20s/it]\u001b[A\n",
      " 77%|█████████████████████████████████████████████████████████████▉                  | 188/243 [10:03<02:16,  2.48s/it]\u001b[A\n",
      " 78%|██████████████████████████████████████████████████████████████▏                 | 189/243 [10:03<01:44,  1.94s/it]\u001b[A\n",
      " 78%|██████████████████████████████████████████████████████████████▌                 | 190/243 [10:06<01:58,  2.24s/it]\u001b[A\n",
      " 79%|██████████████████████████████████████████████████████████████▉                 | 191/243 [10:11<02:26,  2.82s/it]\u001b[A\n",
      " 79%|███████████████████████████████████████████████████████████████▏                | 192/243 [10:24<05:02,  5.92s/it]\u001b[A\n",
      " 79%|███████████████████████████████████████████████████████████████▌                | 193/243 [10:27<04:12,  5.04s/it]\u001b[A\n",
      " 80%|███████████████████████████████████████████████████████████████▊                | 194/243 [10:27<03:02,  3.72s/it]\u001b[A\n",
      " 80%|████████████████████████████████████████████████████████████████▏               | 195/243 [10:30<02:44,  3.43s/it]\u001b[A\n",
      " 81%|████████████████████████████████████████████████████████████████▌               | 196/243 [10:32<02:26,  3.11s/it]\u001b[A\n",
      " 81%|████████████████████████████████████████████████████████████████▊               | 197/243 [10:35<02:18,  3.01s/it]\u001b[A\n",
      " 81%|█████████████████████████████████████████████████████████████████▏              | 198/243 [10:38<02:05,  2.80s/it]\u001b[A\n",
      " 82%|█████████████████████████████████████████████████████████████████▌              | 199/243 [10:39<01:40,  2.29s/it]\u001b[A\n",
      " 82%|█████████████████████████████████████████████████████████████████▊              | 200/243 [10:42<01:56,  2.71s/it]\u001b[A\n",
      " 83%|██████████████████████████████████████████████████████████████████▏             | 201/243 [10:43<01:29,  2.14s/it]\u001b[A\n",
      " 83%|██████████████████████████████████████████████████████████████████▌             | 202/243 [10:47<01:54,  2.79s/it]\u001b[A\n",
      " 84%|██████████████████████████████████████████████████████████████████▊             | 203/243 [10:51<02:06,  3.16s/it]\u001b[A\n",
      " 84%|███████████████████████████████████████████████████████████████████▏            | 204/243 [10:54<01:53,  2.91s/it]\u001b[A\n",
      " 84%|███████████████████████████████████████████████████████████████████▍            | 205/243 [10:55<01:27,  2.31s/it]\u001b[A\n",
      " 85%|███████████████████████████████████████████████████████████████████▊            | 206/243 [10:57<01:29,  2.41s/it]\u001b[A\n",
      " 85%|████████████████████████████████████████████████████████████████████▏           | 207/243 [11:02<01:46,  2.96s/it]\u001b[A\n",
      " 86%|████████████████████████████████████████████████████████████████████▍           | 208/243 [11:05<01:46,  3.05s/it]\u001b[A\n",
      " 86%|████████████████████████████████████████████████████████████████████▊           | 209/243 [11:07<01:36,  2.84s/it]\u001b[A\n",
      " 86%|█████████████████████████████████████████████████████████████████████▏          | 210/243 [11:08<01:17,  2.36s/it]\u001b[A\n",
      " 87%|█████████████████████████████████████████████████████████████████████▍          | 211/243 [11:16<02:03,  3.85s/it]\u001b[A\n",
      " 87%|█████████████████████████████████████████████████████████████████████▊          | 212/243 [11:21<02:13,  4.30s/it]\u001b[A\n",
      " 88%|██████████████████████████████████████████████████████████████████████          | 213/243 [11:24<01:53,  3.79s/it]\u001b[A\n",
      " 88%|██████████████████████████████████████████████████████████████████████▍         | 214/243 [11:27<01:44,  3.62s/it]\u001b[A\n",
      " 88%|██████████████████████████████████████████████████████████████████████▊         | 215/243 [11:29<01:29,  3.19s/it]\u001b[A\n",
      " 89%|███████████████████████████████████████████████████████████████████████         | 216/243 [11:32<01:22,  3.05s/it]\u001b[A\n",
      " 89%|███████████████████████████████████████████████████████████████████████▍        | 217/243 [11:35<01:17,  2.99s/it]\u001b[A\n",
      " 90%|███████████████████████████████████████████████████████████████████████▊        | 218/243 [11:37<01:11,  2.84s/it]\u001b[A\n",
      " 90%|████████████████████████████████████████████████████████████████████████        | 219/243 [11:39<01:03,  2.66s/it]\u001b[A\n",
      " 91%|████████████████████████████████████████████████████████████████████████▍       | 220/243 [11:40<00:48,  2.11s/it]\u001b[A\n",
      " 91%|████████████████████████████████████████████████████████████████████████▊       | 221/243 [11:44<00:55,  2.53s/it]\u001b[A\n"
     ]
    },
    {
     "name": "stderr",
     "output_type": "stream",
     "text": [
      " 91%|█████████████████████████████████████████████████████████████████████████       | 222/243 [11:48<01:01,  2.93s/it]\u001b[A\n",
      " 92%|█████████████████████████████████████████████████████████████████████████▍      | 223/243 [11:49<00:50,  2.51s/it]\u001b[A\n",
      " 92%|█████████████████████████████████████████████████████████████████████████▋      | 224/243 [11:50<00:37,  1.96s/it]\u001b[A\n",
      " 93%|██████████████████████████████████████████████████████████████████████████      | 225/243 [11:51<00:29,  1.65s/it]\u001b[A\n",
      " 93%|██████████████████████████████████████████████████████████████████████████▍     | 226/243 [11:53<00:33,  1.97s/it]\u001b[A\n",
      " 93%|██████████████████████████████████████████████████████████████████████████▋     | 227/243 [11:57<00:37,  2.34s/it]\u001b[A\n",
      " 94%|███████████████████████████████████████████████████████████████████████████     | 228/243 [11:58<00:29,  1.99s/it]\u001b[A\n",
      " 94%|███████████████████████████████████████████████████████████████████████████▍    | 229/243 [12:02<00:37,  2.64s/it]\u001b[A\n",
      " 95%|███████████████████████████████████████████████████████████████████████████▋    | 230/243 [12:04<00:30,  2.36s/it]\u001b[A\n",
      " 95%|████████████████████████████████████████████████████████████████████████████    | 231/243 [12:08<00:35,  2.93s/it]\u001b[A\n",
      " 95%|████████████████████████████████████████████████████████████████████████████▍   | 232/243 [12:09<00:25,  2.33s/it]\u001b[A\n",
      " 96%|████████████████████████████████████████████████████████████████████████████▋   | 233/243 [12:12<00:25,  2.54s/it]\u001b[A\n",
      " 96%|█████████████████████████████████████████████████████████████████████████████   | 234/243 [12:14<00:22,  2.51s/it]\u001b[A\n",
      " 97%|█████████████████████████████████████████████████████████████████████████████▎  | 235/243 [12:16<00:17,  2.20s/it]\u001b[A\n",
      " 97%|█████████████████████████████████████████████████████████████████████████████▋  | 236/243 [12:19<00:16,  2.35s/it]\u001b[A\n",
      " 98%|██████████████████████████████████████████████████████████████████████████████  | 237/243 [12:21<00:14,  2.36s/it]\u001b[A\n",
      " 98%|██████████████████████████████████████████████████████████████████████████████▎ | 238/243 [12:23<00:11,  2.21s/it]\u001b[A\n",
      " 98%|██████████████████████████████████████████████████████████████████████████████▋ | 239/243 [12:26<00:09,  2.39s/it]\u001b[A\n",
      " 99%|███████████████████████████████████████████████████████████████████████████████ | 240/243 [12:27<00:06,  2.19s/it]\u001b[A\n",
      " 99%|███████████████████████████████████████████████████████████████████████████████▎| 241/243 [12:30<00:04,  2.43s/it]\u001b[A\n",
      "100%|███████████████████████████████████████████████████████████████████████████████▋| 242/243 [12:31<00:02,  2.07s/it]\u001b[A\n",
      "100%|████████████████████████████████████████████████████████████████████████████████| 243/243 [12:36<00:00,  3.11s/it]\u001b[A\n",
      " 43%|███████████████████████████████████▌                                               | 3/7 [42:16<53:50, 807.71s/it]\n",
      "  0%|                                                                                          | 0/234 [00:00<?, ?it/s]\u001b[A\n",
      "  0%|▎                                                                                 | 1/234 [00:00<03:03,  1.27it/s]\u001b[A\n",
      "  1%|▋                                                                                 | 2/234 [00:05<11:07,  2.88s/it]\u001b[A\n",
      "  1%|█                                                                                 | 3/234 [00:08<12:21,  3.21s/it]\u001b[A\n",
      "  2%|█▍                                                                                | 4/234 [00:10<10:00,  2.61s/it]\u001b[A\n",
      "  2%|█▊                                                                                | 5/234 [00:15<12:51,  3.37s/it]\u001b[A\n",
      "  3%|██                                                                                | 6/234 [00:21<16:30,  4.35s/it]\u001b[A\n",
      "  3%|██▍                                                                               | 7/234 [00:24<15:06,  4.00s/it]\u001b[A\n",
      "  3%|██▊                                                                               | 8/234 [00:28<14:25,  3.83s/it]\u001b[A\n",
      "  4%|███▏                                                                              | 9/234 [00:31<14:19,  3.82s/it]\u001b[A\n",
      "  4%|███▍                                                                             | 10/234 [00:36<14:37,  3.92s/it]\u001b[A\n",
      "  5%|███▊                                                                             | 11/234 [00:36<11:08,  3.00s/it]\u001b[A\n",
      "  5%|████▏                                                                            | 12/234 [00:37<08:52,  2.40s/it]\u001b[A\n",
      "  6%|████▌                                                                            | 13/234 [00:41<10:28,  2.84s/it]\u001b[A\n",
      "  6%|████▊                                                                            | 14/234 [00:47<13:03,  3.56s/it]\u001b[A\n",
      "  6%|█████▏                                                                           | 15/234 [00:49<11:15,  3.09s/it]\u001b[A\n",
      "  7%|█████▌                                                                           | 16/234 [00:51<10:19,  2.84s/it]\u001b[A\n",
      "  7%|█████▉                                                                           | 17/234 [00:53<09:39,  2.67s/it]\u001b[A\n",
      "  8%|██████▏                                                                          | 18/234 [01:01<15:37,  4.34s/it]\u001b[A\n",
      "  8%|██████▌                                                                          | 19/234 [01:03<13:01,  3.63s/it]\u001b[A\n",
      "  9%|██████▉                                                                          | 20/234 [01:07<12:45,  3.58s/it]\u001b[A\n",
      "  9%|███████▎                                                                         | 21/234 [01:12<14:14,  4.01s/it]\u001b[A\n",
      "  9%|███████▌                                                                         | 22/234 [01:15<13:29,  3.82s/it]\u001b[A\n",
      " 10%|███████▉                                                                         | 23/234 [01:16<10:05,  2.87s/it]\u001b[A\n",
      " 10%|████████▎                                                                        | 24/234 [01:21<12:49,  3.66s/it]\u001b[A\n",
      " 11%|████████▋                                                                        | 25/234 [01:29<17:16,  4.96s/it]\u001b[A\n",
      " 11%|█████████                                                                        | 26/234 [01:30<12:59,  3.75s/it]\u001b[A\n",
      " 12%|█████████▎                                                                       | 27/234 [01:34<12:39,  3.67s/it]\u001b[A\n",
      " 12%|█████████▋                                                                       | 28/234 [01:36<10:56,  3.19s/it]\u001b[A\n",
      " 12%|██████████                                                                       | 29/234 [01:39<10:25,  3.05s/it]\u001b[A\n",
      " 13%|██████████▍                                                                      | 30/234 [01:42<10:47,  3.18s/it]\u001b[A\n",
      " 13%|██████████▋                                                                      | 31/234 [01:45<10:06,  2.99s/it]\u001b[A\n",
      " 14%|███████████                                                                      | 32/234 [01:45<07:43,  2.29s/it]\u001b[A\n",
      " 14%|███████████▍                                                                     | 33/234 [01:49<08:50,  2.64s/it]\u001b[A\n",
      " 15%|███████████▊                                                                     | 34/234 [01:55<12:05,  3.63s/it]\u001b[A\n",
      " 15%|████████████                                                                     | 35/234 [01:59<12:40,  3.82s/it]\u001b[A\n",
      " 15%|████████████▍                                                                    | 36/234 [02:03<12:33,  3.80s/it]\u001b[A\n",
      " 16%|████████████▊                                                                    | 37/234 [02:06<12:19,  3.76s/it]\u001b[A\n",
      " 16%|█████████████▏                                                                   | 38/234 [02:10<12:05,  3.70s/it]\u001b[A\n",
      " 17%|█████████████▌                                                                   | 39/234 [02:13<11:53,  3.66s/it]\u001b[A\n",
      " 17%|█████████████▊                                                                   | 40/234 [02:15<09:36,  2.97s/it]\u001b[A\n",
      " 18%|██████████████▏                                                                  | 41/234 [02:17<08:42,  2.71s/it]\u001b[A\n",
      " 18%|██████████████▌                                                                  | 42/234 [02:18<07:22,  2.31s/it]\u001b[A\n"
     ]
    },
    {
     "name": "stderr",
     "output_type": "stream",
     "text": [
      " 18%|██████████████▉                                                                  | 43/234 [02:19<05:47,  1.82s/it]\u001b[A\n",
      " 19%|███████████████▏                                                                 | 44/234 [02:26<10:37,  3.36s/it]\u001b[A\n",
      " 19%|███████████████▌                                                                 | 45/234 [02:27<08:02,  2.55s/it]\u001b[A\n",
      " 20%|███████████████▉                                                                 | 46/234 [02:29<08:06,  2.59s/it]\u001b[A\n",
      " 20%|████████████████▎                                                                | 47/234 [02:32<07:54,  2.54s/it]\u001b[A\n",
      " 21%|████████████████▌                                                                | 48/234 [02:34<07:22,  2.38s/it]\u001b[A\n",
      " 21%|████████████████▉                                                                | 49/234 [02:37<07:55,  2.57s/it]\u001b[A\n",
      " 21%|█████████████████▎                                                               | 50/234 [02:39<07:48,  2.55s/it]\u001b[A\n",
      " 22%|█████████████████▋                                                               | 51/234 [02:45<10:49,  3.55s/it]\u001b[A\n",
      " 22%|██████████████████                                                               | 52/234 [02:49<11:24,  3.76s/it]\u001b[A\n",
      " 23%|██████████████████▎                                                              | 53/234 [02:53<11:32,  3.83s/it]\u001b[A\n",
      " 23%|██████████████████▋                                                              | 54/234 [02:58<12:34,  4.19s/it]\u001b[A\n",
      " 24%|███████████████████                                                              | 55/234 [03:02<11:53,  3.99s/it]\u001b[A\n",
      " 24%|███████████████████▍                                                             | 56/234 [03:04<10:33,  3.56s/it]\u001b[A\n",
      " 24%|███████████████████▋                                                             | 57/234 [03:07<09:50,  3.33s/it]\u001b[A\n",
      " 25%|████████████████████                                                             | 58/234 [03:12<11:19,  3.86s/it]\u001b[A\n",
      " 25%|████████████████████▍                                                            | 59/234 [03:15<10:39,  3.66s/it]\u001b[A\n",
      " 26%|████████████████████▊                                                            | 60/234 [03:22<13:14,  4.57s/it]\u001b[A\n",
      " 26%|█████████████████████                                                            | 61/234 [03:24<11:12,  3.89s/it]\u001b[A\n",
      " 26%|█████████████████████▍                                                           | 62/234 [03:27<10:15,  3.58s/it]\u001b[A\n",
      " 27%|█████████████████████▊                                                           | 63/234 [03:30<09:26,  3.31s/it]\u001b[A\n",
      " 27%|██████████████████████▏                                                          | 64/234 [03:33<08:48,  3.11s/it]\u001b[A\n",
      " 28%|██████████████████████▌                                                          | 65/234 [03:36<08:51,  3.15s/it]\u001b[A\n",
      " 28%|██████████████████████▊                                                          | 66/234 [03:38<08:19,  2.97s/it]\u001b[A\n",
      " 29%|███████████████████████▏                                                         | 67/234 [03:41<07:37,  2.74s/it]\u001b[A\n",
      " 29%|███████████████████████▌                                                         | 68/234 [03:44<07:56,  2.87s/it]\u001b[A\n",
      " 29%|███████████████████████▉                                                         | 69/234 [03:45<06:44,  2.45s/it]\u001b[A\n",
      " 30%|████████████████████████▏                                                        | 70/234 [03:48<07:14,  2.65s/it]\u001b[A\n",
      " 30%|████████████████████████▌                                                        | 71/234 [03:49<05:35,  2.06s/it]\u001b[A\n",
      " 31%|████████████████████████▉                                                        | 72/234 [03:52<06:03,  2.24s/it]\u001b[A\n",
      " 31%|█████████████████████████▎                                                       | 73/234 [03:58<09:32,  3.56s/it]\u001b[A\n",
      " 32%|█████████████████████████▌                                                       | 74/234 [04:02<09:19,  3.49s/it]\u001b[A\n",
      " 32%|█████████████████████████▉                                                       | 75/234 [04:04<08:37,  3.26s/it]\u001b[A\n",
      " 32%|██████████████████████████▎                                                      | 76/234 [04:05<06:43,  2.55s/it]\u001b[A\n",
      " 33%|██████████████████████████▋                                                      | 77/234 [04:08<06:25,  2.46s/it]\u001b[A\n",
      " 33%|███████████████████████████                                                      | 78/234 [04:09<05:15,  2.02s/it]\u001b[A\n",
      " 34%|███████████████████████████▎                                                     | 79/234 [04:09<04:10,  1.62s/it]\u001b[A\n",
      " 34%|███████████████████████████▋                                                     | 80/234 [04:12<04:56,  1.93s/it]\u001b[A\n",
      " 35%|████████████████████████████                                                     | 81/234 [04:15<05:59,  2.35s/it]\u001b[A\n",
      " 35%|████████████████████████████▍                                                    | 82/234 [04:18<05:55,  2.34s/it]\u001b[A\n",
      " 35%|████████████████████████████▋                                                    | 83/234 [04:21<06:26,  2.56s/it]\u001b[A\n",
      " 36%|█████████████████████████████                                                    | 84/234 [04:30<11:18,  4.52s/it]\u001b[A\n",
      " 36%|█████████████████████████████▍                                                   | 85/234 [04:34<10:46,  4.34s/it]\u001b[A\n",
      " 37%|█████████████████████████████▊                                                   | 86/234 [04:34<07:59,  3.24s/it]\u001b[A\n",
      " 37%|██████████████████████████████                                                   | 87/234 [04:38<08:06,  3.31s/it]\u001b[A\n",
      " 38%|██████████████████████████████▍                                                  | 88/234 [04:38<06:08,  2.52s/it]\u001b[A\n",
      " 38%|██████████████████████████████▊                                                  | 89/234 [04:40<05:41,  2.36s/it]\u001b[A\n",
      " 38%|███████████████████████████████▏                                                 | 90/234 [04:41<04:37,  1.93s/it]\u001b[A\n",
      " 39%|███████████████████████████████▌                                                 | 91/234 [04:43<04:38,  1.95s/it]\u001b[A\n",
      " 39%|███████████████████████████████▊                                                 | 92/234 [04:46<05:15,  2.22s/it]\u001b[A\n",
      " 40%|████████████████████████████████▏                                                | 93/234 [04:48<05:08,  2.19s/it]\u001b[A\n",
      " 40%|████████████████████████████████▌                                                | 94/234 [04:49<04:12,  1.81s/it]\u001b[A\n",
      " 41%|████████████████████████████████▉                                                | 95/234 [04:53<05:32,  2.39s/it]\u001b[A\n",
      " 41%|█████████████████████████████████▏                                               | 96/234 [04:55<05:27,  2.37s/it]\u001b[A\n",
      " 41%|█████████████████████████████████▌                                               | 97/234 [05:02<08:05,  3.55s/it]\u001b[A\n",
      " 42%|█████████████████████████████████▉                                               | 98/234 [05:06<08:49,  3.89s/it]\u001b[A\n",
      " 42%|██████████████████████████████████▎                                              | 99/234 [05:10<08:27,  3.76s/it]\u001b[A\n",
      " 43%|██████████████████████████████████▏                                             | 100/234 [05:10<06:19,  2.83s/it]\u001b[A\n",
      " 43%|██████████████████████████████████▌                                             | 101/234 [05:13<06:16,  2.83s/it]\u001b[A\n",
      " 44%|██████████████████████████████████▊                                             | 102/234 [05:17<06:32,  2.97s/it]\u001b[A\n",
      " 44%|███████████████████████████████████▏                                            | 103/234 [05:21<07:38,  3.50s/it]\u001b[A\n",
      " 44%|███████████████████████████████████▌                                            | 104/234 [05:22<06:01,  2.78s/it]\u001b[A\n",
      " 45%|███████████████████████████████████▉                                            | 105/234 [05:34<11:42,  5.45s/it]\u001b[A\n",
      " 45%|████████████████████████████████████▏                                           | 106/234 [05:35<08:49,  4.14s/it]\u001b[A\n",
      " 46%|████████████████████████████████████▌                                           | 107/234 [05:38<07:42,  3.64s/it]\u001b[A\n",
      " 46%|████████████████████████████████████▉                                           | 108/234 [05:40<07:00,  3.34s/it]\u001b[A\n"
     ]
    },
    {
     "name": "stderr",
     "output_type": "stream",
     "text": [
      " 47%|█████████████████████████████████████▎                                          | 109/234 [05:44<07:07,  3.42s/it]\u001b[A\n",
      " 47%|█████████████████████████████████████▌                                          | 110/234 [05:46<06:21,  3.08s/it]\u001b[A\n",
      " 47%|█████████████████████████████████████▉                                          | 111/234 [05:50<07:01,  3.43s/it]\u001b[A\n",
      " 48%|██████████████████████████████████████▎                                         | 112/234 [05:52<06:05,  3.00s/it]\u001b[A\n",
      " 48%|██████████████████████████████████████▋                                         | 113/234 [05:55<05:45,  2.86s/it]\u001b[A\n",
      " 49%|██████████████████████████████████████▉                                         | 114/234 [05:58<05:49,  2.91s/it]\u001b[A\n",
      " 49%|███████████████████████████████████████▎                                        | 115/234 [06:00<05:31,  2.79s/it]\u001b[A\n",
      " 50%|███████████████████████████████████████▋                                        | 116/234 [06:01<04:22,  2.22s/it]\u001b[A\n",
      " 50%|████████████████████████████████████████                                        | 117/234 [06:05<05:23,  2.77s/it]\u001b[A\n",
      " 50%|████████████████████████████████████████▎                                       | 118/234 [06:06<04:07,  2.14s/it]\u001b[A\n",
      " 51%|████████████████████████████████████████▋                                       | 119/234 [06:07<03:36,  1.89s/it]\u001b[A\n",
      " 51%|█████████████████████████████████████████                                       | 120/234 [06:08<02:54,  1.53s/it]\u001b[A\n",
      " 52%|█████████████████████████████████████████▎                                      | 121/234 [06:12<04:20,  2.30s/it]\u001b[A\n",
      " 52%|█████████████████████████████████████████▋                                      | 122/234 [06:17<05:34,  2.99s/it]\u001b[A\n",
      " 53%|██████████████████████████████████████████                                      | 123/234 [06:21<06:29,  3.51s/it]\u001b[A\n",
      " 53%|██████████████████████████████████████████▍                                     | 124/234 [06:23<05:05,  2.78s/it]\u001b[A\n",
      " 53%|██████████████████████████████████████████▋                                     | 125/234 [06:29<07:01,  3.87s/it]\u001b[A\n",
      " 54%|███████████████████████████████████████████                                     | 126/234 [06:32<06:16,  3.49s/it]\u001b[A\n",
      " 54%|███████████████████████████████████████████▍                                    | 127/234 [06:34<05:39,  3.17s/it]\u001b[A\n",
      " 55%|███████████████████████████████████████████▊                                    | 128/234 [06:36<05:07,  2.90s/it]\u001b[A\n",
      " 55%|████████████████████████████████████████████                                    | 129/234 [06:39<04:47,  2.73s/it]\u001b[A\n",
      " 56%|████████████████████████████████████████████▍                                   | 130/234 [06:41<04:41,  2.71s/it]\u001b[A\n",
      " 56%|████████████████████████████████████████████▊                                   | 131/234 [06:43<04:09,  2.42s/it]\u001b[A\n",
      " 56%|█████████████████████████████████████████████▏                                  | 132/234 [06:44<03:24,  2.00s/it]\u001b[A\n",
      " 57%|█████████████████████████████████████████████▍                                  | 133/234 [06:45<02:39,  1.58s/it]\u001b[A\n",
      " 57%|█████████████████████████████████████████████▊                                  | 134/234 [06:48<03:40,  2.21s/it]\u001b[A\n",
      " 58%|██████████████████████████████████████████████▏                                 | 135/234 [06:54<05:16,  3.20s/it]\u001b[A\n",
      " 58%|██████████████████████████████████████████████▍                                 | 136/234 [06:54<03:58,  2.43s/it]\u001b[A\n",
      " 59%|██████████████████████████████████████████████▊                                 | 137/234 [06:58<04:32,  2.81s/it]\u001b[A\n",
      " 59%|███████████████████████████████████████████████▏                                | 138/234 [06:59<03:34,  2.24s/it]\u001b[A\n",
      " 59%|███████████████████████████████████████████████▌                                | 139/234 [07:00<02:54,  1.84s/it]\u001b[A\n",
      " 60%|███████████████████████████████████████████████▊                                | 140/234 [07:01<02:36,  1.67s/it]\u001b[A\n",
      " 60%|████████████████████████████████████████████████▏                               | 141/234 [07:05<03:24,  2.19s/it]\u001b[A\n",
      " 61%|████████████████████████████████████████████████▌                               | 142/234 [07:08<03:59,  2.60s/it]\u001b[A\n",
      " 61%|████████████████████████████████████████████████▉                               | 143/234 [07:12<04:40,  3.08s/it]\u001b[A\n",
      " 62%|█████████████████████████████████████████████████▏                              | 144/234 [07:16<04:39,  3.11s/it]\u001b[A\n",
      " 62%|█████████████████████████████████████████████████▌                              | 145/234 [07:16<03:30,  2.36s/it]\u001b[A\n",
      " 62%|█████████████████████████████████████████████████▉                              | 146/234 [07:20<04:02,  2.76s/it]\u001b[A\n",
      " 63%|██████████████████████████████████████████████████▎                             | 147/234 [07:21<03:05,  2.13s/it]\u001b[A\n",
      " 63%|██████████████████████████████████████████████████▌                             | 148/234 [07:25<03:59,  2.79s/it]\u001b[A\n",
      " 64%|██████████████████████████████████████████████████▉                             | 149/234 [07:28<03:59,  2.82s/it]\u001b[A\n",
      " 64%|███████████████████████████████████████████████████▎                            | 150/234 [07:30<03:37,  2.58s/it]\u001b[A\n",
      " 65%|███████████████████████████████████████████████████▌                            | 151/234 [07:37<05:24,  3.91s/it]\u001b[A\n",
      " 65%|███████████████████████████████████████████████████▉                            | 152/234 [07:42<05:56,  4.34s/it]\u001b[A\n",
      " 65%|████████████████████████████████████████████████████▎                           | 153/234 [07:45<05:24,  4.01s/it]\u001b[A\n",
      " 66%|████████████████████████████████████████████████████▋                           | 154/234 [07:49<05:03,  3.79s/it]\u001b[A\n",
      " 66%|████████████████████████████████████████████████████▉                           | 155/234 [07:49<03:45,  2.85s/it]\u001b[A\n",
      " 67%|█████████████████████████████████████████████████████▎                          | 156/234 [07:52<03:48,  2.93s/it]\u001b[A\n",
      " 67%|█████████████████████████████████████████████████████▋                          | 157/234 [07:55<03:32,  2.76s/it]\u001b[A\n",
      " 68%|██████████████████████████████████████████████████████                          | 158/234 [07:55<02:40,  2.11s/it]\u001b[A\n",
      " 68%|██████████████████████████████████████████████████████▎                         | 159/234 [07:59<03:09,  2.52s/it]\u001b[A\n",
      " 68%|██████████████████████████████████████████████████████▋                         | 160/234 [08:02<03:12,  2.61s/it]\u001b[A\n",
      " 69%|███████████████████████████████████████████████████████                         | 161/234 [08:05<03:26,  2.83s/it]\u001b[A\n",
      " 69%|███████████████████████████████████████████████████████▍                        | 162/234 [08:12<05:00,  4.18s/it]\u001b[A\n",
      " 70%|███████████████████████████████████████████████████████▋                        | 163/234 [08:15<04:17,  3.62s/it]\u001b[A\n",
      " 70%|████████████████████████████████████████████████████████                        | 164/234 [08:15<03:12,  2.74s/it]\u001b[A\n",
      " 71%|████████████████████████████████████████████████████████▍                       | 165/234 [08:18<03:04,  2.67s/it]\u001b[A\n",
      " 71%|████████████████████████████████████████████████████████▊                       | 166/234 [08:21<03:05,  2.73s/it]\u001b[A\n",
      " 71%|█████████████████████████████████████████████████████████                       | 167/234 [08:22<02:28,  2.22s/it]\u001b[A\n",
      " 72%|█████████████████████████████████████████████████████████▍                      | 168/234 [08:22<01:56,  1.76s/it]\u001b[A\n",
      " 72%|█████████████████████████████████████████████████████████▊                      | 169/234 [08:26<02:37,  2.43s/it]\u001b[A\n",
      " 73%|██████████████████████████████████████████████████████████                      | 170/234 [08:31<03:22,  3.17s/it]\u001b[A\n",
      " 73%|██████████████████████████████████████████████████████████▍                     | 171/234 [08:44<06:24,  6.11s/it]\u001b[A\n",
      " 74%|██████████████████████████████████████████████████████████▊                     | 172/234 [08:46<05:05,  4.92s/it]\u001b[A\n",
      " 74%|███████████████████████████████████████████████████████████▏                    | 173/234 [08:47<03:46,  3.71s/it]\u001b[A\n",
      " 74%|███████████████████████████████████████████████████████████▍                    | 174/234 [08:48<02:48,  2.80s/it]\u001b[A\n"
     ]
    },
    {
     "name": "stderr",
     "output_type": "stream",
     "text": [
      " 75%|███████████████████████████████████████████████████████████▊                    | 175/234 [08:50<02:35,  2.64s/it]\u001b[A\n",
      " 75%|████████████████████████████████████████████████████████████▏                   | 176/234 [08:53<02:34,  2.66s/it]\u001b[A\n",
      " 76%|████████████████████████████████████████████████████████████▌                   | 177/234 [08:54<02:04,  2.18s/it]\u001b[A\n",
      " 76%|████████████████████████████████████████████████████████████▊                   | 178/234 [08:59<02:52,  3.07s/it]\u001b[A\n",
      " 76%|█████████████████████████████████████████████████████████████▏                  | 179/234 [09:02<02:36,  2.85s/it]\u001b[A\n",
      " 77%|█████████████████████████████████████████████████████████████▌                  | 180/234 [09:04<02:28,  2.76s/it]\u001b[A\n",
      " 77%|█████████████████████████████████████████████████████████████▉                  | 181/234 [09:06<02:09,  2.45s/it]\u001b[A\n",
      " 78%|██████████████████████████████████████████████████████████████▏                 | 182/234 [09:07<01:50,  2.13s/it]\u001b[A\n",
      " 78%|██████████████████████████████████████████████████████████████▌                 | 183/234 [09:11<02:06,  2.49s/it]\u001b[A\n",
      " 79%|██████████████████████████████████████████████████████████████▉                 | 184/234 [09:13<02:06,  2.53s/it]\u001b[A\n",
      " 79%|███████████████████████████████████████████████████████████████▏                | 185/234 [09:16<02:04,  2.54s/it]\u001b[A\n",
      " 79%|███████████████████████████████████████████████████████████████▌                | 186/234 [09:19<02:15,  2.82s/it]\u001b[A\n",
      " 80%|███████████████████████████████████████████████████████████████▉                | 187/234 [09:27<03:27,  4.41s/it]\u001b[A\n",
      " 80%|████████████████████████████████████████████████████████████████▎               | 188/234 [09:30<02:53,  3.78s/it]\u001b[A\n",
      " 81%|████████████████████████████████████████████████████████████████▌               | 189/234 [09:33<02:40,  3.58s/it]\u001b[A\n",
      " 81%|████████████████████████████████████████████████████████████████▉               | 190/234 [09:39<03:11,  4.35s/it]\u001b[A\n",
      " 82%|█████████████████████████████████████████████████████████████████▎              | 191/234 [09:42<02:51,  4.00s/it]\u001b[A\n",
      " 82%|█████████████████████████████████████████████████████████████████▋              | 192/234 [09:44<02:26,  3.49s/it]\u001b[A\n",
      " 82%|█████████████████████████████████████████████████████████████████▉              | 193/234 [09:46<01:55,  2.81s/it]\u001b[A\n",
      " 83%|██████████████████████████████████████████████████████████████████▎             | 194/234 [09:49<02:01,  3.03s/it]\u001b[A\n",
      " 83%|██████████████████████████████████████████████████████████████████▋             | 195/234 [09:56<02:41,  4.14s/it]\u001b[A\n",
      " 84%|███████████████████████████████████████████████████████████████████             | 196/234 [09:57<01:57,  3.10s/it]\u001b[A\n",
      " 84%|███████████████████████████████████████████████████████████████████▎            | 197/234 [09:59<01:44,  2.82s/it]\u001b[A\n",
      " 85%|███████████████████████████████████████████████████████████████████▋            | 198/234 [09:59<01:17,  2.15s/it]\u001b[A\n",
      " 85%|████████████████████████████████████████████████████████████████████            | 199/234 [10:02<01:24,  2.43s/it]\u001b[A\n",
      " 85%|████████████████████████████████████████████████████████████████████▍           | 200/234 [10:07<01:39,  2.94s/it]\u001b[A\n",
      " 86%|████████████████████████████████████████████████████████████████████▋           | 201/234 [10:09<01:30,  2.76s/it]\u001b[A\n",
      " 86%|█████████████████████████████████████████████████████████████████████           | 202/234 [10:12<01:29,  2.79s/it]\u001b[A\n",
      " 87%|█████████████████████████████████████████████████████████████████████▍          | 203/234 [10:16<01:43,  3.32s/it]\u001b[A\n",
      " 87%|█████████████████████████████████████████████████████████████████████▋          | 204/234 [10:21<01:51,  3.70s/it]\u001b[A\n",
      " 88%|██████████████████████████████████████████████████████████████████████          | 205/234 [10:32<02:51,  5.92s/it]\u001b[A\n",
      " 88%|██████████████████████████████████████████████████████████████████████▍         | 206/234 [10:36<02:30,  5.39s/it]\u001b[A\n",
      " 88%|██████████████████████████████████████████████████████████████████████▊         | 207/234 [10:37<01:49,  4.04s/it]\u001b[A\n",
      " 89%|███████████████████████████████████████████████████████████████████████         | 208/234 [10:40<01:33,  3.60s/it]\u001b[A\n",
      " 89%|███████████████████████████████████████████████████████████████████████▍        | 209/234 [10:42<01:22,  3.30s/it]\u001b[A\n",
      " 90%|███████████████████████████████████████████████████████████████████████▊        | 210/234 [10:43<01:02,  2.60s/it]\u001b[A\n",
      " 90%|████████████████████████████████████████████████████████████████████████▏       | 211/234 [10:44<00:49,  2.16s/it]\u001b[A\n",
      " 91%|████████████████████████████████████████████████████████████████████████▍       | 212/234 [10:47<00:49,  2.27s/it]\u001b[A\n",
      " 91%|████████████████████████████████████████████████████████████████████████▊       | 213/234 [10:47<00:36,  1.76s/it]\u001b[A\n",
      " 91%|█████████████████████████████████████████████████████████████████████████▏      | 214/234 [10:48<00:30,  1.51s/it]\u001b[A\n",
      " 92%|█████████████████████████████████████████████████████████████████████████▌      | 215/234 [10:52<00:39,  2.10s/it]\u001b[A\n",
      " 92%|█████████████████████████████████████████████████████████████████████████▊      | 216/234 [10:55<00:45,  2.52s/it]\u001b[A\n",
      " 93%|██████████████████████████████████████████████████████████████████████████▏     | 217/234 [11:00<00:55,  3.24s/it]\u001b[A\n",
      " 93%|██████████████████████████████████████████████████████████████████████████▌     | 218/234 [11:01<00:39,  2.48s/it]\u001b[A\n",
      " 94%|██████████████████████████████████████████████████████████████████████████▊     | 219/234 [11:03<00:35,  2.38s/it]\u001b[A\n",
      " 94%|███████████████████████████████████████████████████████████████████████████▏    | 220/234 [11:08<00:43,  3.14s/it]\u001b[A\n",
      " 94%|███████████████████████████████████████████████████████████████████████████▌    | 221/234 [11:12<00:43,  3.38s/it]\u001b[A\n",
      " 95%|███████████████████████████████████████████████████████████████████████████▉    | 222/234 [11:15<00:38,  3.18s/it]\u001b[A\n",
      " 95%|████████████████████████████████████████████████████████████████████████████▏   | 223/234 [11:15<00:26,  2.43s/it]\u001b[A\n",
      " 96%|████████████████████████████████████████████████████████████████████████████▌   | 224/234 [11:19<00:28,  2.84s/it]\u001b[A\n",
      " 96%|████████████████████████████████████████████████████████████████████████████▉   | 225/234 [11:22<00:25,  2.79s/it]\u001b[A\n",
      " 97%|█████████████████████████████████████████████████████████████████████████████▎  | 226/234 [11:27<00:27,  3.43s/it]\u001b[A\n",
      " 97%|█████████████████████████████████████████████████████████████████████████████▌  | 227/234 [11:29<00:21,  3.14s/it]\u001b[A\n",
      " 97%|█████████████████████████████████████████████████████████████████████████████▉  | 228/234 [11:30<00:14,  2.47s/it]\u001b[A\n",
      " 98%|██████████████████████████████████████████████████████████████████████████████▎ | 229/234 [11:34<00:14,  2.96s/it]\u001b[A\n",
      " 98%|██████████████████████████████████████████████████████████████████████████████▋ | 230/234 [11:38<00:12,  3.12s/it]\u001b[A\n",
      " 99%|██████████████████████████████████████████████████████████████████████████████▉ | 231/234 [11:39<00:07,  2.47s/it]\u001b[A\n",
      " 99%|███████████████████████████████████████████████████████████████████████████████▎| 232/234 [11:39<00:03,  1.91s/it]\u001b[A\n",
      "100%|███████████████████████████████████████████████████████████████████████████████▋| 233/234 [11:41<00:01,  1.97s/it]\u001b[A\n",
      "100%|████████████████████████████████████████████████████████████████████████████████| 234/234 [11:42<00:00,  3.00s/it]\u001b[A\n",
      " 57%|███████████████████████████████████████████████▍                                   | 4/7 [53:59<38:18, 766.17s/it]\n",
      "  0%|                                                                                          | 0/219 [00:00<?, ?it/s]\u001b[A\n",
      "  0%|▎                                                                                 | 1/219 [00:02<07:13,  1.99s/it]\u001b[A\n",
      "  1%|▋                                                                                 | 2/219 [00:05<09:32,  2.64s/it]\u001b[A\n",
      "  1%|█                                                                                 | 3/219 [00:06<07:52,  2.19s/it]\u001b[A\n",
      "  2%|█▍                                                                                | 4/219 [00:09<09:08,  2.55s/it]\u001b[A\n"
     ]
    },
    {
     "name": "stderr",
     "output_type": "stream",
     "text": [
      "  2%|█▊                                                                                | 5/219 [00:14<11:21,  3.19s/it]\u001b[A\n",
      "  3%|██▏                                                                               | 6/219 [00:19<13:26,  3.79s/it]\u001b[A\n",
      "  3%|██▌                                                                               | 7/219 [00:23<14:10,  4.01s/it]\u001b[A\n",
      "  4%|██▉                                                                               | 8/219 [00:24<10:36,  3.02s/it]\u001b[A\n",
      "  4%|███▎                                                                              | 9/219 [00:30<14:04,  4.02s/it]\u001b[A\n",
      "  5%|███▋                                                                             | 10/219 [00:33<12:32,  3.60s/it]\u001b[A\n",
      "  5%|████                                                                             | 11/219 [00:37<13:04,  3.77s/it]\u001b[A\n",
      "  5%|████▍                                                                            | 12/219 [00:41<13:40,  3.96s/it]\u001b[A\n",
      "  6%|████▊                                                                            | 13/219 [00:43<10:51,  3.16s/it]\u001b[A\n",
      "  6%|█████▏                                                                           | 14/219 [00:46<11:20,  3.32s/it]\u001b[A\n",
      "  7%|█████▌                                                                           | 15/219 [00:47<08:47,  2.58s/it]\u001b[A\n",
      "  7%|█████▉                                                                           | 16/219 [00:53<12:18,  3.64s/it]\u001b[A\n",
      "  8%|██████▎                                                                          | 17/219 [00:57<12:24,  3.69s/it]\u001b[A\n",
      "  8%|██████▋                                                                          | 18/219 [01:01<12:08,  3.63s/it]\u001b[A\n",
      "  9%|███████                                                                          | 19/219 [01:04<11:27,  3.44s/it]\u001b[A\n",
      "  9%|███████▍                                                                         | 20/219 [01:08<11:52,  3.58s/it]\u001b[A\n",
      " 10%|███████▊                                                                         | 21/219 [01:11<11:26,  3.47s/it]\u001b[A\n",
      " 10%|████████▏                                                                        | 22/219 [01:13<09:58,  3.04s/it]\u001b[A\n",
      " 11%|████████▌                                                                        | 23/219 [01:16<09:55,  3.04s/it]\u001b[A\n",
      " 11%|████████▉                                                                        | 24/219 [01:17<07:51,  2.42s/it]\u001b[A\n",
      " 11%|█████████▏                                                                       | 25/219 [01:21<09:45,  3.02s/it]\u001b[A\n",
      " 12%|█████████▌                                                                       | 26/219 [01:23<08:54,  2.77s/it]\u001b[A\n",
      " 12%|█████████▉                                                                       | 27/219 [01:24<06:51,  2.14s/it]\u001b[A\n",
      " 13%|██████████▎                                                                      | 28/219 [01:27<07:11,  2.26s/it]\u001b[A\n",
      " 13%|██████████▋                                                                      | 29/219 [01:29<07:31,  2.38s/it]\u001b[A\n",
      " 14%|███████████                                                                      | 30/219 [01:31<06:23,  2.03s/it]\u001b[A\n",
      " 14%|███████████▍                                                                     | 31/219 [01:34<07:39,  2.45s/it]\u001b[A\n",
      " 15%|███████████▊                                                                     | 32/219 [01:40<10:56,  3.51s/it]\u001b[A\n",
      " 15%|████████████▏                                                                    | 33/219 [01:44<11:30,  3.71s/it]\u001b[A\n",
      " 16%|████████████▌                                                                    | 34/219 [01:48<11:23,  3.70s/it]\u001b[A\n",
      " 16%|████████████▉                                                                    | 35/219 [01:51<11:15,  3.67s/it]\u001b[A\n",
      " 16%|█████████████▎                                                                   | 36/219 [01:52<08:50,  2.90s/it]\u001b[A\n",
      " 17%|█████████████▋                                                                   | 37/219 [01:57<10:19,  3.41s/it]\u001b[A\n",
      " 17%|██████████████                                                                   | 38/219 [01:59<09:16,  3.07s/it]\u001b[A\n",
      " 18%|██████████████▍                                                                  | 39/219 [02:04<10:15,  3.42s/it]\u001b[A\n",
      " 18%|██████████████▊                                                                  | 40/219 [02:06<09:00,  3.02s/it]\u001b[A\n",
      " 19%|███████████████▏                                                                 | 41/219 [02:09<09:31,  3.21s/it]\u001b[A\n",
      " 19%|███████████████▌                                                                 | 42/219 [02:11<08:12,  2.78s/it]\u001b[A\n",
      " 20%|███████████████▉                                                                 | 43/219 [02:13<07:40,  2.62s/it]\u001b[A\n",
      " 20%|████████████████▎                                                                | 44/219 [02:17<08:11,  2.81s/it]\u001b[A\n",
      " 21%|████████████████▋                                                                | 45/219 [02:18<06:29,  2.24s/it]\u001b[A\n",
      " 21%|█████████████████                                                                | 46/219 [02:20<06:50,  2.37s/it]\u001b[A\n",
      " 21%|█████████████████▍                                                               | 47/219 [02:21<05:20,  1.86s/it]\u001b[A\n",
      " 22%|█████████████████▊                                                               | 48/219 [02:24<06:00,  2.11s/it]\u001b[A\n",
      " 22%|██████████████████                                                               | 49/219 [02:26<05:51,  2.07s/it]\u001b[A\n",
      " 23%|██████████████████▍                                                              | 50/219 [02:31<09:00,  3.20s/it]\u001b[A\n",
      " 23%|██████████████████▊                                                              | 51/219 [02:33<08:03,  2.88s/it]\u001b[A\n",
      " 24%|███████████████████▏                                                             | 52/219 [02:37<08:07,  2.92s/it]\u001b[A\n",
      " 24%|███████████████████▌                                                             | 53/219 [02:37<06:12,  2.25s/it]\u001b[A\n",
      " 25%|███████████████████▉                                                             | 54/219 [02:39<06:13,  2.27s/it]\u001b[A\n",
      " 25%|████████████████████▎                                                            | 55/219 [02:44<08:23,  3.07s/it]\u001b[A\n",
      " 26%|████████████████████▋                                                            | 56/219 [02:45<06:33,  2.42s/it]\u001b[A\n",
      " 26%|█████████████████████                                                            | 57/219 [02:50<08:05,  3.00s/it]\u001b[A\n",
      " 26%|█████████████████████▍                                                           | 58/219 [02:52<07:11,  2.68s/it]\u001b[A\n",
      " 27%|█████████████████████▊                                                           | 59/219 [03:00<11:50,  4.44s/it]\u001b[A\n",
      " 27%|██████████████████████▏                                                          | 60/219 [03:02<09:52,  3.73s/it]\u001b[A\n",
      " 28%|██████████████████████▌                                                          | 61/219 [03:06<09:27,  3.59s/it]\u001b[A\n",
      " 28%|██████████████████████▉                                                          | 62/219 [03:06<07:19,  2.80s/it]\u001b[A\n",
      " 29%|███████████████████████▎                                                         | 63/219 [03:10<07:29,  2.88s/it]\u001b[A\n",
      " 29%|███████████████████████▋                                                         | 64/219 [03:19<12:11,  4.72s/it]\u001b[A\n",
      " 30%|████████████████████████                                                         | 65/219 [03:23<11:48,  4.60s/it]\u001b[A\n",
      " 30%|████████████████████████▍                                                        | 66/219 [03:24<08:44,  3.43s/it]\u001b[A\n",
      " 31%|████████████████████████▊                                                        | 67/219 [03:27<08:29,  3.35s/it]\u001b[A\n",
      " 31%|█████████████████████████▏                                                       | 68/219 [03:31<09:10,  3.65s/it]\u001b[A\n",
      " 32%|█████████████████████████▌                                                       | 69/219 [03:34<08:13,  3.29s/it]\u001b[A\n",
      " 32%|█████████████████████████▉                                                       | 70/219 [03:36<07:51,  3.16s/it]\u001b[A\n"
     ]
    },
    {
     "name": "stderr",
     "output_type": "stream",
     "text": [
      " 32%|██████████████████████████▎                                                      | 71/219 [03:37<05:57,  2.41s/it]\u001b[A\n",
      " 33%|██████████████████████████▋                                                      | 72/219 [03:39<05:38,  2.30s/it]\u001b[A\n",
      " 33%|███████████████████████████                                                      | 73/219 [03:43<06:30,  2.68s/it]\u001b[A\n",
      " 34%|███████████████████████████▎                                                     | 74/219 [03:46<06:47,  2.81s/it]\u001b[A\n",
      " 34%|███████████████████████████▋                                                     | 75/219 [03:51<08:27,  3.52s/it]\u001b[A\n",
      " 35%|████████████████████████████                                                     | 76/219 [03:54<07:43,  3.24s/it]\u001b[A\n",
      " 35%|████████████████████████████▍                                                    | 77/219 [03:58<08:30,  3.59s/it]\u001b[A\n",
      " 36%|████████████████████████████▊                                                    | 78/219 [04:01<07:49,  3.33s/it]\u001b[A\n",
      " 36%|█████████████████████████████▏                                                   | 79/219 [04:04<07:41,  3.29s/it]\u001b[A\n",
      " 37%|█████████████████████████████▌                                                   | 80/219 [04:06<07:07,  3.08s/it]\u001b[A\n",
      " 37%|█████████████████████████████▉                                                   | 81/219 [04:09<06:49,  2.97s/it]\u001b[A\n",
      " 37%|██████████████████████████████▎                                                  | 82/219 [04:12<06:44,  2.96s/it]\u001b[A\n",
      " 38%|██████████████████████████████▋                                                  | 83/219 [04:17<07:42,  3.40s/it]\u001b[A\n",
      " 38%|███████████████████████████████                                                  | 84/219 [04:17<05:49,  2.59s/it]\u001b[A\n",
      " 39%|███████████████████████████████▍                                                 | 85/219 [04:20<05:37,  2.52s/it]\u001b[A\n",
      " 39%|███████████████████████████████▊                                                 | 86/219 [04:27<08:36,  3.89s/it]\u001b[A\n",
      " 40%|████████████████████████████████▏                                                | 87/219 [04:27<06:26,  2.92s/it]\u001b[A\n",
      " 40%|████████████████████████████████▌                                                | 88/219 [04:32<07:32,  3.45s/it]\u001b[A\n",
      " 41%|████████████████████████████████▉                                                | 89/219 [04:35<07:22,  3.41s/it]\u001b[A\n",
      " 41%|█████████████████████████████████▎                                               | 90/219 [04:38<07:04,  3.29s/it]\u001b[A\n",
      " 42%|█████████████████████████████████▋                                               | 91/219 [04:42<07:30,  3.52s/it]\u001b[A\n",
      " 42%|██████████████████████████████████                                               | 92/219 [04:49<09:19,  4.41s/it]\u001b[A\n",
      " 42%|██████████████████████████████████▍                                              | 93/219 [04:51<07:45,  3.69s/it]\u001b[A\n",
      " 43%|██████████████████████████████████▊                                              | 94/219 [04:54<07:01,  3.37s/it]\u001b[A\n",
      " 43%|███████████████████████████████████▏                                             | 95/219 [04:55<05:40,  2.74s/it]\u001b[A\n",
      " 44%|███████████████████████████████████▌                                             | 96/219 [04:55<04:20,  2.12s/it]\u001b[A\n",
      " 44%|███████████████████████████████████▉                                             | 97/219 [04:56<03:25,  1.69s/it]\u001b[A\n",
      " 45%|████████████████████████████████████▏                                            | 98/219 [05:07<08:39,  4.30s/it]\u001b[A\n",
      " 45%|████████████████████████████████████▌                                            | 99/219 [05:07<06:24,  3.20s/it]\u001b[A\n",
      " 46%|████████████████████████████████████▌                                           | 100/219 [05:11<06:57,  3.51s/it]\u001b[A\n",
      " 46%|████████████████████████████████████▉                                           | 101/219 [05:14<06:11,  3.15s/it]\u001b[A\n",
      " 47%|█████████████████████████████████████▎                                          | 102/219 [05:15<04:48,  2.47s/it]\u001b[A\n",
      " 47%|█████████████████████████████████████▋                                          | 103/219 [05:17<04:27,  2.31s/it]\u001b[A\n",
      " 47%|█████████████████████████████████████▉                                          | 104/219 [05:20<05:01,  2.62s/it]\u001b[A\n",
      " 48%|██████████████████████████████████████▎                                         | 105/219 [05:23<05:32,  2.91s/it]\u001b[A\n",
      " 48%|██████████████████████████████████████▋                                         | 106/219 [05:24<04:21,  2.31s/it]\u001b[A\n",
      " 49%|███████████████████████████████████████                                         | 107/219 [05:25<03:23,  1.82s/it]\u001b[A\n",
      " 49%|███████████████████████████████████████▍                                        | 108/219 [05:28<04:01,  2.17s/it]\u001b[A\n",
      " 50%|███████████████████████████████████████▊                                        | 109/219 [05:30<04:03,  2.21s/it]\u001b[A\n",
      " 50%|████████████████████████████████████████▏                                       | 110/219 [05:31<03:10,  1.75s/it]\u001b[A\n",
      " 51%|████████████████████████████████████████▌                                       | 111/219 [05:33<03:28,  1.93s/it]\u001b[A\n",
      " 51%|████████████████████████████████████████▉                                       | 112/219 [05:38<04:41,  2.63s/it]\u001b[A\n",
      " 52%|█████████████████████████████████████████▎                                      | 113/219 [05:41<04:56,  2.80s/it]\u001b[A\n",
      " 52%|█████████████████████████████████████████▋                                      | 114/219 [05:46<06:10,  3.53s/it]\u001b[A\n",
      " 53%|██████████████████████████████████████████                                      | 115/219 [05:49<05:53,  3.40s/it]\u001b[A\n",
      " 53%|██████████████████████████████████████████▎                                     | 116/219 [05:50<04:40,  2.72s/it]\u001b[A\n",
      " 53%|██████████████████████████████████████████▋                                     | 117/219 [05:56<06:03,  3.56s/it]\u001b[A\n",
      " 54%|███████████████████████████████████████████                                     | 118/219 [05:59<05:59,  3.56s/it]\u001b[A\n",
      " 54%|███████████████████████████████████████████▍                                    | 119/219 [06:02<05:42,  3.42s/it]\u001b[A\n",
      " 55%|███████████████████████████████████████████▊                                    | 120/219 [06:06<05:32,  3.36s/it]\u001b[A\n",
      " 55%|████████████████████████████████████████████▏                                   | 121/219 [06:08<05:10,  3.17s/it]\u001b[A\n",
      " 56%|████████████████████████████████████████████▌                                   | 122/219 [06:11<04:46,  2.95s/it]\u001b[A\n",
      " 56%|████████████████████████████████████████████▉                                   | 123/219 [06:13<04:28,  2.79s/it]\u001b[A\n",
      " 57%|█████████████████████████████████████████████▎                                  | 124/219 [06:16<04:30,  2.84s/it]\u001b[A\n",
      " 57%|█████████████████████████████████████████████▋                                  | 125/219 [06:21<05:25,  3.47s/it]\u001b[A\n",
      " 58%|██████████████████████████████████████████████                                  | 126/219 [06:25<05:23,  3.48s/it]\u001b[A\n",
      " 58%|██████████████████████████████████████████████▍                                 | 127/219 [06:28<05:17,  3.45s/it]\u001b[A\n",
      " 58%|██████████████████████████████████████████████▊                                 | 128/219 [06:32<05:21,  3.53s/it]\u001b[A\n",
      " 59%|███████████████████████████████████████████████                                 | 129/219 [06:35<05:15,  3.51s/it]\u001b[A\n",
      " 59%|███████████████████████████████████████████████▍                                | 130/219 [06:36<04:01,  2.72s/it]\u001b[A\n",
      " 60%|███████████████████████████████████████████████▊                                | 131/219 [06:40<04:24,  3.01s/it]\u001b[A\n",
      " 60%|████████████████████████████████████████████████▏                               | 132/219 [06:43<04:35,  3.17s/it]\u001b[A\n",
      " 61%|████████████████████████████████████████████████▌                               | 133/219 [06:47<04:57,  3.46s/it]\u001b[A\n",
      " 61%|████████████████████████████████████████████████▉                               | 134/219 [06:50<04:21,  3.08s/it]\u001b[A\n",
      " 62%|█████████████████████████████████████████████████▎                              | 135/219 [06:53<04:37,  3.30s/it]\u001b[A\n",
      " 62%|█████████████████████████████████████████████████▋                              | 136/219 [06:54<03:28,  2.52s/it]\u001b[A\n"
     ]
    },
    {
     "name": "stderr",
     "output_type": "stream",
     "text": [
      " 63%|██████████████████████████████████████████████████                              | 137/219 [06:57<03:23,  2.49s/it]\u001b[A\n",
      " 63%|██████████████████████████████████████████████████▍                             | 138/219 [06:59<03:28,  2.57s/it]\u001b[A\n",
      " 63%|██████████████████████████████████████████████████▊                             | 139/219 [07:02<03:37,  2.71s/it]\u001b[A\n",
      " 64%|███████████████████████████████████████████████████▏                            | 140/219 [07:05<03:26,  2.61s/it]\u001b[A\n",
      " 64%|███████████████████████████████████████████████████▌                            | 141/219 [07:06<02:42,  2.08s/it]\u001b[A\n",
      " 65%|███████████████████████████████████████████████████▊                            | 142/219 [07:06<02:07,  1.66s/it]\u001b[A\n",
      " 65%|████████████████████████████████████████████████████▏                           | 143/219 [07:11<03:09,  2.49s/it]\u001b[A\n",
      " 66%|████████████████████████████████████████████████████▌                           | 144/219 [07:14<03:23,  2.71s/it]\u001b[A\n",
      " 66%|████████████████████████████████████████████████████▉                           | 145/219 [07:15<02:35,  2.10s/it]\u001b[A\n",
      " 67%|█████████████████████████████████████████████████████▎                          | 146/219 [07:16<02:07,  1.75s/it]\u001b[A\n",
      " 67%|█████████████████████████████████████████████████████▋                          | 147/219 [07:16<01:47,  1.49s/it]\u001b[A\n",
      " 68%|██████████████████████████████████████████████████████                          | 148/219 [07:18<01:41,  1.42s/it]\u001b[A\n",
      " 68%|██████████████████████████████████████████████████████▍                         | 149/219 [07:20<01:49,  1.57s/it]\u001b[A\n",
      " 68%|██████████████████████████████████████████████████████▊                         | 150/219 [07:22<02:14,  1.95s/it]\u001b[A\n",
      " 69%|███████████████████████████████████████████████████████▏                        | 151/219 [07:25<02:22,  2.10s/it]\u001b[A\n",
      " 69%|███████████████████████████████████████████████████████▌                        | 152/219 [07:26<01:52,  1.67s/it]\u001b[A\n",
      " 70%|███████████████████████████████████████████████████████▉                        | 153/219 [07:30<02:36,  2.37s/it]\u001b[A\n",
      " 70%|████████████████████████████████████████████████████████▎                       | 154/219 [07:33<02:45,  2.54s/it]\u001b[A\n",
      " 71%|████████████████████████████████████████████████████████▌                       | 155/219 [07:36<02:53,  2.72s/it]\u001b[A\n",
      " 71%|████████████████████████████████████████████████████████▉                       | 156/219 [07:39<03:06,  2.96s/it]\u001b[A\n",
      " 72%|█████████████████████████████████████████████████████████▎                      | 157/219 [07:45<03:47,  3.67s/it]\u001b[A\n",
      " 72%|█████████████████████████████████████████████████████████▋                      | 158/219 [07:47<03:22,  3.33s/it]\u001b[A\n",
      " 73%|██████████████████████████████████████████████████████████                      | 159/219 [07:54<04:17,  4.28s/it]\u001b[A\n",
      " 73%|██████████████████████████████████████████████████████████▍                     | 160/219 [07:56<03:31,  3.59s/it]\u001b[A\n",
      " 74%|██████████████████████████████████████████████████████████▊                     | 161/219 [07:58<03:09,  3.27s/it]\u001b[A\n",
      " 74%|███████████████████████████████████████████████████████████▏                    | 162/219 [07:59<02:22,  2.50s/it]\u001b[A\n",
      " 74%|███████████████████████████████████████████████████████████▌                    | 163/219 [08:04<02:59,  3.21s/it]\u001b[A\n",
      " 75%|███████████████████████████████████████████████████████████▉                    | 164/219 [08:07<02:54,  3.17s/it]\u001b[A\n",
      " 75%|████████████████████████████████████████████████████████████▎                   | 165/219 [08:14<03:56,  4.38s/it]\u001b[A\n",
      " 76%|████████████████████████████████████████████████████████████▋                   | 166/219 [08:14<02:51,  3.24s/it]\u001b[A\n",
      " 76%|█████████████████████████████████████████████████████████████                   | 167/219 [08:18<02:48,  3.23s/it]\u001b[A\n",
      " 77%|█████████████████████████████████████████████████████████████▎                  | 168/219 [08:21<02:46,  3.26s/it]\u001b[A\n",
      " 77%|█████████████████████████████████████████████████████████████▋                  | 169/219 [08:28<03:34,  4.28s/it]\u001b[A\n",
      " 78%|██████████████████████████████████████████████████████████████                  | 170/219 [08:30<03:06,  3.81s/it]\u001b[A\n",
      " 78%|██████████████████████████████████████████████████████████████▍                 | 171/219 [08:32<02:38,  3.30s/it]\u001b[A\n",
      " 79%|██████████████████████████████████████████████████████████████▊                 | 172/219 [08:38<03:02,  3.89s/it]\u001b[A\n",
      " 79%|███████████████████████████████████████████████████████████████▏                | 173/219 [08:41<02:44,  3.57s/it]\u001b[A\n",
      " 79%|███████████████████████████████████████████████████████████████▌                | 174/219 [08:44<02:36,  3.48s/it]\u001b[A\n",
      " 80%|███████████████████████████████████████████████████████████████▉                | 175/219 [08:49<02:58,  4.05s/it]\u001b[A\n",
      " 80%|████████████████████████████████████████████████████████████████▎               | 176/219 [08:52<02:44,  3.82s/it]\u001b[A\n",
      " 81%|████████████████████████████████████████████████████████████████▋               | 177/219 [08:53<02:02,  2.92s/it]\u001b[A\n",
      " 81%|█████████████████████████████████████████████████████████████████               | 178/219 [08:56<01:58,  2.89s/it]\u001b[A\n",
      " 82%|█████████████████████████████████████████████████████████████████▍              | 179/219 [09:00<02:04,  3.11s/it]\u001b[A\n",
      " 82%|█████████████████████████████████████████████████████████████████▊              | 180/219 [09:04<02:12,  3.41s/it]\u001b[A\n",
      " 83%|██████████████████████████████████████████████████████████████████              | 181/219 [09:06<01:56,  3.07s/it]\u001b[A\n",
      " 83%|██████████████████████████████████████████████████████████████████▍             | 182/219 [09:14<02:42,  4.39s/it]\u001b[A\n",
      " 84%|██████████████████████████████████████████████████████████████████▊             | 183/219 [09:18<02:34,  4.28s/it]\u001b[A\n",
      " 84%|███████████████████████████████████████████████████████████████████▏            | 184/219 [09:26<03:11,  5.48s/it]\u001b[A\n",
      " 84%|███████████████████████████████████████████████████████████████████▌            | 185/219 [09:29<02:38,  4.65s/it]\u001b[A\n",
      " 85%|███████████████████████████████████████████████████████████████████▉            | 186/219 [09:31<02:14,  4.09s/it]\u001b[A\n",
      " 85%|████████████████████████████████████████████████████████████████████▎           | 187/219 [09:34<01:59,  3.74s/it]\u001b[A\n",
      " 86%|████████████████████████████████████████████████████████████████████▋           | 188/219 [09:40<02:18,  4.47s/it]\u001b[A\n",
      " 86%|█████████████████████████████████████████████████████████████████████           | 189/219 [09:44<02:04,  4.14s/it]\u001b[A\n",
      " 87%|█████████████████████████████████████████████████████████████████████▍          | 190/219 [09:47<01:55,  3.98s/it]\u001b[A\n",
      " 87%|█████████████████████████████████████████████████████████████████████▊          | 191/219 [09:55<02:24,  5.15s/it]\u001b[A\n",
      " 88%|██████████████████████████████████████████████████████████████████████▏         | 192/219 [09:59<02:07,  4.73s/it]\u001b[A\n",
      " 88%|██████████████████████████████████████████████████████████████████████▌         | 193/219 [10:00<01:36,  3.70s/it]\u001b[A\n",
      " 89%|██████████████████████████████████████████████████████████████████████▊         | 194/219 [10:01<01:11,  2.86s/it]\u001b[A\n",
      " 89%|███████████████████████████████████████████████████████████████████████▏        | 195/219 [10:05<01:11,  2.96s/it]\u001b[A\n",
      " 89%|███████████████████████████████████████████████████████████████████████▌        | 196/219 [10:07<01:05,  2.87s/it]\u001b[A\n",
      " 90%|███████████████████████████████████████████████████████████████████████▉        | 197/219 [10:10<01:02,  2.83s/it]\u001b[A\n",
      " 90%|████████████████████████████████████████████████████████████████████████▎       | 198/219 [10:14<01:07,  3.23s/it]\u001b[A\n",
      " 91%|████████████████████████████████████████████████████████████████████████▋       | 199/219 [10:17<01:02,  3.13s/it]\u001b[A\n",
      " 91%|█████████████████████████████████████████████████████████████████████████       | 200/219 [10:19<00:54,  2.88s/it]\u001b[A\n",
      " 92%|█████████████████████████████████████████████████████████████████████████▍      | 201/219 [10:23<00:55,  3.09s/it]\u001b[A\n",
      " 92%|█████████████████████████████████████████████████████████████████████████▊      | 202/219 [10:25<00:49,  2.89s/it]\u001b[A\n"
     ]
    },
    {
     "name": "stderr",
     "output_type": "stream",
     "text": [
      " 93%|██████████████████████████████████████████████████████████████████████████▏     | 203/219 [10:29<00:51,  3.20s/it]\u001b[A\n",
      " 93%|██████████████████████████████████████████████████████████████████████████▌     | 204/219 [10:30<00:36,  2.45s/it]\u001b[A\n",
      " 94%|██████████████████████████████████████████████████████████████████████████▉     | 205/219 [10:35<00:45,  3.22s/it]\u001b[A\n",
      " 94%|███████████████████████████████████████████████████████████████████████████▎    | 206/219 [10:39<00:43,  3.36s/it]\u001b[A\n",
      " 95%|███████████████████████████████████████████████████████████████████████████▌    | 207/219 [10:42<00:39,  3.29s/it]\u001b[A\n",
      " 95%|███████████████████████████████████████████████████████████████████████████▉    | 208/219 [10:42<00:27,  2.52s/it]\u001b[A\n",
      " 95%|████████████████████████████████████████████████████████████████████████████▎   | 209/219 [10:47<00:31,  3.16s/it]\u001b[A\n",
      " 96%|████████████████████████████████████████████████████████████████████████████▋   | 210/219 [10:48<00:21,  2.38s/it]\u001b[A\n",
      " 96%|█████████████████████████████████████████████████████████████████████████████   | 211/219 [10:51<00:22,  2.76s/it]\u001b[A\n",
      " 97%|█████████████████████████████████████████████████████████████████████████████▍  | 212/219 [10:52<00:15,  2.24s/it]\u001b[A\n",
      " 97%|█████████████████████████████████████████████████████████████████████████████▊  | 213/219 [10:54<00:12,  2.13s/it]\u001b[A\n",
      " 98%|██████████████████████████████████████████████████████████████████████████████▏ | 214/219 [10:58<00:12,  2.48s/it]\u001b[A\n",
      " 98%|██████████████████████████████████████████████████████████████████████████████▌ | 215/219 [11:02<00:12,  3.04s/it]\u001b[A\n",
      " 99%|██████████████████████████████████████████████████████████████████████████████▉ | 216/219 [11:05<00:09,  3.18s/it]\u001b[A\n",
      " 99%|███████████████████████████████████████████████████████████████████████████████▎| 217/219 [11:08<00:05,  2.92s/it]\u001b[A\n",
      "100%|███████████████████████████████████████████████████████████████████████████████▋| 218/219 [11:10<00:02,  2.87s/it]\u001b[A\n",
      "100%|████████████████████████████████████████████████████████████████████████████████| 219/219 [11:13<00:00,  3.08s/it]\u001b[A\n",
      " 71%|█████████████████████████████████████████████████████████▊                       | 5/7 [1:05:12<24:25, 732.84s/it]\n",
      "  0%|                                                                                          | 0/221 [00:00<?, ?it/s]\u001b[A\n",
      "  0%|▎                                                                                 | 1/221 [00:00<03:16,  1.12it/s]\u001b[A\n",
      "  1%|▋                                                                                 | 2/221 [00:04<09:38,  2.64s/it]\u001b[A\n",
      "  1%|█                                                                                 | 3/221 [00:08<11:48,  3.25s/it]\u001b[A\n",
      "  2%|█▍                                                                                | 4/221 [00:10<09:57,  2.75s/it]\u001b[A\n",
      "  2%|█▊                                                                                | 5/221 [00:13<10:24,  2.89s/it]\u001b[A\n",
      "  3%|██▏                                                                               | 6/221 [00:19<13:58,  3.90s/it]\u001b[A\n",
      "  3%|██▌                                                                               | 7/221 [00:20<10:09,  2.85s/it]\u001b[A\n",
      "  4%|██▉                                                                               | 8/221 [00:22<09:10,  2.59s/it]\u001b[A\n",
      "  4%|███▎                                                                              | 9/221 [00:26<10:48,  3.06s/it]\u001b[A\n",
      "  5%|███▋                                                                             | 10/221 [00:28<10:03,  2.86s/it]\u001b[A\n",
      "  5%|████                                                                             | 11/221 [00:30<08:05,  2.31s/it]\u001b[A\n",
      "  5%|████▍                                                                            | 12/221 [00:35<11:55,  3.42s/it]\u001b[A\n",
      "  6%|████▊                                                                            | 13/221 [00:36<09:14,  2.66s/it]\u001b[A\n",
      "  6%|█████▏                                                                           | 14/221 [00:37<07:20,  2.13s/it]\u001b[A\n",
      "  7%|█████▍                                                                           | 15/221 [00:41<08:32,  2.49s/it]\u001b[A\n",
      "  7%|█████▊                                                                           | 16/221 [00:43<08:03,  2.36s/it]\u001b[A\n",
      "  8%|██████▏                                                                          | 17/221 [00:48<10:50,  3.19s/it]\u001b[A\n",
      "  8%|██████▌                                                                          | 18/221 [00:50<10:06,  2.99s/it]\u001b[A\n",
      "  9%|██████▉                                                                          | 19/221 [00:55<11:57,  3.55s/it]\u001b[A\n",
      "  9%|███████▎                                                                         | 20/221 [00:57<10:20,  3.09s/it]\u001b[A\n",
      " 10%|███████▋                                                                         | 21/221 [01:00<09:36,  2.88s/it]\u001b[A\n",
      " 10%|████████                                                                         | 22/221 [01:03<10:22,  3.13s/it]\u001b[A\n",
      " 10%|████████▍                                                                        | 23/221 [01:04<08:20,  2.53s/it]\u001b[A\n",
      " 11%|████████▊                                                                        | 24/221 [01:05<06:42,  2.04s/it]\u001b[A\n",
      " 11%|█████████▏                                                                       | 25/221 [01:06<05:33,  1.70s/it]\u001b[A\n",
      " 12%|█████████▌                                                                       | 26/221 [01:10<07:21,  2.27s/it]\u001b[A\n",
      " 12%|█████████▉                                                                       | 27/221 [01:11<05:59,  1.85s/it]\u001b[A\n",
      " 13%|██████████▎                                                                      | 28/221 [01:14<07:10,  2.23s/it]\u001b[A\n",
      " 13%|██████████▋                                                                      | 29/221 [01:18<09:17,  2.91s/it]\u001b[A\n",
      " 14%|██████████▉                                                                      | 30/221 [01:22<10:19,  3.24s/it]\u001b[A\n",
      " 14%|███████████▎                                                                     | 31/221 [01:27<11:16,  3.56s/it]\u001b[A\n",
      " 14%|███████████▋                                                                     | 32/221 [01:35<15:23,  4.89s/it]\u001b[A\n",
      " 15%|████████████                                                                     | 33/221 [01:38<13:37,  4.35s/it]\u001b[A\n",
      " 15%|████████████▍                                                                    | 34/221 [01:39<10:31,  3.38s/it]\u001b[A\n",
      " 16%|████████████▊                                                                    | 35/221 [01:39<07:58,  2.57s/it]\u001b[A\n",
      " 16%|█████████████▏                                                                   | 36/221 [01:46<11:11,  3.63s/it]\u001b[A\n",
      " 17%|█████████████▌                                                                   | 37/221 [01:47<09:30,  3.10s/it]\u001b[A\n",
      " 17%|█████████████▉                                                                   | 38/221 [01:52<10:59,  3.60s/it]\u001b[A\n",
      " 18%|██████████████▎                                                                  | 39/221 [01:57<12:03,  3.98s/it]\u001b[A\n",
      " 18%|██████████████▋                                                                  | 40/221 [02:00<11:13,  3.72s/it]\u001b[A\n",
      " 19%|███████████████                                                                  | 41/221 [02:05<12:09,  4.05s/it]\u001b[A\n",
      " 19%|███████████████▍                                                                 | 42/221 [02:06<09:14,  3.10s/it]\u001b[A\n",
      " 19%|███████████████▊                                                                 | 43/221 [02:07<07:41,  2.59s/it]\u001b[A\n",
      " 20%|████████████████▏                                                                | 44/221 [02:12<09:19,  3.16s/it]\u001b[A\n",
      " 20%|████████████████▍                                                                | 45/221 [02:14<08:51,  3.02s/it]\u001b[A\n",
      " 21%|████████████████▊                                                                | 46/221 [02:15<06:40,  2.29s/it]\u001b[A\n",
      " 21%|█████████████████▏                                                               | 47/221 [02:16<05:14,  1.81s/it]\u001b[A\n"
     ]
    },
    {
     "name": "stderr",
     "output_type": "stream",
     "text": [
      " 22%|█████████████████▌                                                               | 48/221 [02:20<07:05,  2.46s/it]\u001b[A\n",
      " 22%|█████████████████▉                                                               | 49/221 [02:20<05:31,  1.93s/it]\u001b[A\n",
      " 23%|██████████████████▎                                                              | 50/221 [02:24<06:31,  2.29s/it]\u001b[A\n",
      " 23%|██████████████████▋                                                              | 51/221 [02:29<09:03,  3.20s/it]\u001b[A\n",
      " 24%|███████████████████                                                              | 52/221 [02:33<09:23,  3.34s/it]\u001b[A\n",
      " 24%|███████████████████▍                                                             | 53/221 [02:34<07:42,  2.76s/it]\u001b[A\n",
      " 24%|███████████████████▊                                                             | 54/221 [02:41<11:36,  4.17s/it]\u001b[A\n",
      " 25%|████████████████████▏                                                            | 55/221 [02:43<09:36,  3.47s/it]\u001b[A\n",
      " 25%|████████████████████▌                                                            | 56/221 [02:48<10:12,  3.71s/it]\u001b[A\n",
      " 26%|████████████████████▉                                                            | 57/221 [02:56<14:22,  5.26s/it]\u001b[A\n",
      " 26%|█████████████████████▎                                                           | 58/221 [02:57<10:43,  3.95s/it]\u001b[A\n",
      " 27%|█████████████████████▌                                                           | 59/221 [03:03<12:09,  4.51s/it]\u001b[A\n",
      " 27%|█████████████████████▉                                                           | 60/221 [03:06<10:27,  3.90s/it]\u001b[A\n",
      " 28%|██████████████████████▎                                                          | 61/221 [03:06<07:50,  2.94s/it]\u001b[A\n",
      " 28%|██████████████████████▋                                                          | 62/221 [03:09<07:42,  2.91s/it]\u001b[A\n",
      " 29%|███████████████████████                                                          | 63/221 [03:10<06:08,  2.33s/it]\u001b[A\n",
      " 29%|███████████████████████▍                                                         | 64/221 [03:12<05:26,  2.08s/it]\u001b[A\n",
      " 29%|███████████████████████▊                                                         | 65/221 [03:15<06:45,  2.60s/it]\u001b[A\n",
      " 30%|████████████████████████▏                                                        | 66/221 [03:16<05:12,  2.02s/it]\u001b[A\n",
      " 30%|████████████████████████▌                                                        | 67/221 [03:20<06:49,  2.66s/it]\u001b[A\n",
      " 31%|████████████████████████▉                                                        | 68/221 [03:32<13:44,  5.39s/it]\u001b[A\n",
      " 31%|█████████████████████████▎                                                       | 69/221 [03:33<10:10,  4.02s/it]\u001b[A\n",
      " 32%|█████████████████████████▋                                                       | 70/221 [03:38<11:14,  4.46s/it]\u001b[A\n",
      " 32%|██████████████████████████                                                       | 71/221 [03:39<08:15,  3.30s/it]\u001b[A\n",
      " 33%|██████████████████████████▍                                                      | 72/221 [03:44<09:30,  3.83s/it]\u001b[A\n",
      " 33%|██████████████████████████▊                                                      | 73/221 [03:45<07:03,  2.86s/it]\u001b[A\n",
      " 33%|███████████████████████████                                                      | 74/221 [03:49<07:55,  3.23s/it]\u001b[A\n",
      " 34%|███████████████████████████▍                                                     | 75/221 [03:51<07:09,  2.94s/it]\u001b[A\n",
      " 34%|███████████████████████████▊                                                     | 76/221 [03:52<05:27,  2.26s/it]\u001b[A\n",
      " 35%|████████████████████████████▏                                                    | 77/221 [03:54<05:53,  2.45s/it]\u001b[A\n",
      " 35%|████████████████████████████▌                                                    | 78/221 [03:55<04:31,  1.90s/it]\u001b[A\n",
      " 36%|████████████████████████████▉                                                    | 79/221 [03:56<03:57,  1.68s/it]\u001b[A\n",
      " 36%|█████████████████████████████▎                                                   | 80/221 [03:58<04:01,  1.71s/it]\u001b[A\n",
      " 37%|█████████████████████████████▋                                                   | 81/221 [03:59<03:26,  1.47s/it]\u001b[A\n",
      " 37%|██████████████████████████████                                                   | 82/221 [04:03<04:59,  2.16s/it]\u001b[A\n",
      " 38%|██████████████████████████████▍                                                  | 83/221 [04:06<05:27,  2.37s/it]\u001b[A\n",
      " 38%|██████████████████████████████▊                                                  | 84/221 [04:06<04:24,  1.93s/it]\u001b[A\n",
      " 38%|███████████████████████████████▏                                                 | 85/221 [04:11<06:25,  2.83s/it]\u001b[A\n",
      " 39%|███████████████████████████████▌                                                 | 86/221 [04:12<05:04,  2.25s/it]\u001b[A\n",
      " 39%|███████████████████████████████▉                                                 | 87/221 [04:13<03:54,  1.75s/it]\u001b[A\n",
      " 40%|████████████████████████████████▎                                                | 88/221 [04:16<04:38,  2.10s/it]\u001b[A\n",
      " 40%|████████████████████████████████▌                                                | 89/221 [04:20<06:05,  2.77s/it]\u001b[A\n",
      " 41%|████████████████████████████████▉                                                | 90/221 [04:21<04:46,  2.19s/it]\u001b[A\n",
      " 41%|█████████████████████████████████▎                                               | 91/221 [04:28<08:07,  3.75s/it]\u001b[A\n",
      " 42%|█████████████████████████████████▋                                               | 92/221 [04:32<07:49,  3.64s/it]\u001b[A\n",
      " 42%|██████████████████████████████████                                               | 93/221 [04:35<07:31,  3.52s/it]\u001b[A\n",
      " 43%|██████████████████████████████████▍                                              | 94/221 [04:37<06:36,  3.12s/it]\u001b[A\n",
      " 43%|██████████████████████████████████▊                                              | 95/221 [04:38<05:09,  2.45s/it]\u001b[A\n",
      " 43%|███████████████████████████████████▏                                             | 96/221 [04:42<05:55,  2.85s/it]\u001b[A\n",
      " 44%|███████████████████████████████████▌                                             | 97/221 [04:47<07:01,  3.40s/it]\u001b[A\n",
      " 44%|███████████████████████████████████▉                                             | 98/221 [04:49<06:05,  2.97s/it]\u001b[A\n",
      " 45%|████████████████████████████████████▎                                            | 99/221 [04:50<04:52,  2.40s/it]\u001b[A\n",
      " 45%|████████████████████████████████████▏                                           | 100/221 [04:54<06:01,  2.99s/it]\u001b[A\n",
      " 46%|████████████████████████████████████▌                                           | 101/221 [04:58<06:42,  3.36s/it]\u001b[A\n",
      " 46%|████████████████████████████████████▉                                           | 102/221 [05:01<06:21,  3.21s/it]\u001b[A\n",
      " 47%|█████████████████████████████████████▎                                          | 103/221 [05:03<05:46,  2.94s/it]\u001b[A\n",
      " 47%|█████████████████████████████████████▋                                          | 104/221 [05:04<04:30,  2.31s/it]\u001b[A\n",
      " 48%|██████████████████████████████████████                                          | 105/221 [05:06<04:26,  2.30s/it]\u001b[A\n",
      " 48%|██████████████████████████████████████▎                                         | 106/221 [05:09<04:41,  2.45s/it]\u001b[A\n",
      " 48%|██████████████████████████████████████▋                                         | 107/221 [05:12<04:35,  2.41s/it]\u001b[A\n",
      " 49%|███████████████████████████████████████                                         | 108/221 [05:15<05:19,  2.83s/it]\u001b[A\n",
      " 49%|███████████████████████████████████████▍                                        | 109/221 [05:20<06:19,  3.39s/it]\u001b[A\n",
      " 50%|███████████████████████████████████████▊                                        | 110/221 [05:21<04:43,  2.55s/it]\u001b[A\n",
      " 50%|████████████████████████████████████████▏                                       | 111/221 [05:21<03:43,  2.03s/it]\u001b[A\n",
      " 51%|████████████████████████████████████████▌                                       | 112/221 [05:25<04:18,  2.37s/it]\u001b[A\n",
      " 51%|████████████████████████████████████████▉                                       | 113/221 [05:26<03:54,  2.17s/it]\u001b[A\n"
     ]
    },
    {
     "name": "stderr",
     "output_type": "stream",
     "text": [
      " 52%|█████████████████████████████████████████▎                                      | 114/221 [05:27<03:11,  1.79s/it]\u001b[A\n",
      " 52%|█████████████████████████████████████████▋                                      | 115/221 [05:28<02:38,  1.50s/it]\u001b[A\n",
      " 52%|█████████████████████████████████████████▉                                      | 116/221 [05:37<06:22,  3.64s/it]\u001b[A\n",
      " 53%|██████████████████████████████████████████▎                                     | 117/221 [05:37<04:46,  2.75s/it]\u001b[A\n",
      " 53%|██████████████████████████████████████████▋                                     | 118/221 [05:40<04:52,  2.84s/it]\u001b[A\n",
      " 54%|███████████████████████████████████████████                                     | 119/221 [05:45<05:41,  3.35s/it]\u001b[A\n",
      " 54%|███████████████████████████████████████████▍                                    | 120/221 [05:46<04:14,  2.52s/it]\u001b[A\n",
      " 55%|███████████████████████████████████████████▊                                    | 121/221 [05:48<04:07,  2.47s/it]\u001b[A\n",
      " 55%|████████████████████████████████████████████▏                                   | 122/221 [05:49<03:31,  2.13s/it]\u001b[A\n",
      " 56%|████████████████████████████████████████████▌                                   | 123/221 [05:55<05:16,  3.23s/it]\u001b[A\n",
      " 56%|████████████████████████████████████████████▉                                   | 124/221 [06:01<06:26,  3.98s/it]\u001b[A\n",
      " 57%|█████████████████████████████████████████████▏                                  | 125/221 [06:04<06:10,  3.86s/it]\u001b[A\n",
      " 57%|█████████████████████████████████████████████▌                                  | 126/221 [06:07<05:45,  3.64s/it]\u001b[A\n",
      " 57%|█████████████████████████████████████████████▉                                  | 127/221 [06:09<04:47,  3.06s/it]\u001b[A\n",
      " 58%|██████████████████████████████████████████████▎                                 | 128/221 [06:13<05:09,  3.33s/it]\u001b[A\n",
      " 58%|██████████████████████████████████████████████▋                                 | 129/221 [06:17<05:19,  3.47s/it]\u001b[A\n",
      " 59%|███████████████████████████████████████████████                                 | 130/221 [06:21<05:42,  3.76s/it]\u001b[A\n",
      " 59%|███████████████████████████████████████████████▍                                | 131/221 [06:29<07:16,  4.85s/it]\u001b[A\n",
      " 60%|███████████████████████████████████████████████▊                                | 132/221 [06:32<06:23,  4.31s/it]\u001b[A\n",
      " 60%|████████████████████████████████████████████████▏                               | 133/221 [06:37<06:37,  4.52s/it]\u001b[A\n",
      " 61%|████████████████████████████████████████████████▌                               | 134/221 [06:38<05:03,  3.49s/it]\u001b[A\n",
      " 61%|████████████████████████████████████████████████▊                               | 135/221 [06:39<03:59,  2.78s/it]\u001b[A\n",
      " 62%|█████████████████████████████████████████████████▏                              | 136/221 [06:42<04:04,  2.88s/it]\u001b[A\n",
      " 62%|█████████████████████████████████████████████████▌                              | 137/221 [06:47<04:55,  3.52s/it]\u001b[A\n",
      " 62%|█████████████████████████████████████████████████▉                              | 138/221 [06:48<03:44,  2.71s/it]\u001b[A\n",
      " 63%|██████████████████████████████████████████████████▎                             | 139/221 [06:49<02:57,  2.17s/it]\u001b[A\n",
      " 63%|██████████████████████████████████████████████████▋                             | 140/221 [06:50<02:19,  1.72s/it]\u001b[A\n",
      " 64%|███████████████████████████████████████████████████                             | 141/221 [06:50<01:52,  1.41s/it]\u001b[A\n",
      " 64%|███████████████████████████████████████████████████▍                            | 142/221 [06:54<02:56,  2.24s/it]\u001b[A\n",
      " 65%|███████████████████████████████████████████████████▊                            | 143/221 [06:55<02:21,  1.81s/it]\u001b[A\n",
      " 65%|████████████████████████████████████████████████████▏                           | 144/221 [06:57<02:23,  1.87s/it]\u001b[A\n",
      " 66%|████████████████████████████████████████████████████▍                           | 145/221 [07:02<03:20,  2.64s/it]\u001b[A\n",
      " 66%|████████████████████████████████████████████████████▊                           | 146/221 [07:06<03:55,  3.15s/it]\u001b[A\n",
      " 67%|█████████████████████████████████████████████████████▏                          | 147/221 [07:07<03:10,  2.58s/it]\u001b[A\n",
      " 67%|█████████████████████████████████████████████████████▌                          | 148/221 [07:12<03:45,  3.09s/it]\u001b[A\n",
      " 67%|█████████████████████████████████████████████████████▉                          | 149/221 [07:15<03:46,  3.14s/it]\u001b[A\n",
      " 68%|██████████████████████████████████████████████████████▎                         | 150/221 [07:18<03:46,  3.19s/it]\u001b[A\n",
      " 68%|██████████████████████████████████████████████████████▋                         | 151/221 [07:19<02:48,  2.41s/it]\u001b[A\n",
      " 69%|███████████████████████████████████████████████████████                         | 152/221 [07:20<02:15,  1.97s/it]\u001b[A\n",
      " 69%|███████████████████████████████████████████████████████▍                        | 153/221 [07:24<02:53,  2.55s/it]\u001b[A\n",
      " 70%|███████████████████████████████████████████████████████▋                        | 154/221 [07:27<02:59,  2.68s/it]\u001b[A\n",
      " 70%|████████████████████████████████████████████████████████                        | 155/221 [07:29<02:53,  2.64s/it]\u001b[A\n",
      " 71%|████████████████████████████████████████████████████████▍                       | 156/221 [07:30<02:13,  2.05s/it]\u001b[A\n",
      " 71%|████████████████████████████████████████████████████████▊                       | 157/221 [07:31<01:58,  1.85s/it]\u001b[A\n",
      " 71%|█████████████████████████████████████████████████████████▏                      | 158/221 [07:34<02:20,  2.23s/it]\u001b[A\n",
      " 72%|█████████████████████████████████████████████████████████▌                      | 159/221 [07:36<02:10,  2.11s/it]\u001b[A\n",
      " 72%|█████████████████████████████████████████████████████████▉                      | 160/221 [07:41<03:01,  2.98s/it]\u001b[A\n",
      " 73%|██████████████████████████████████████████████████████████▎                     | 161/221 [07:42<02:18,  2.31s/it]\u001b[A\n",
      " 73%|██████████████████████████████████████████████████████████▋                     | 162/221 [07:42<01:47,  1.82s/it]\u001b[A\n",
      " 74%|███████████████████████████████████████████████████████████                     | 163/221 [07:44<01:44,  1.81s/it]\u001b[A\n",
      " 74%|███████████████████████████████████████████████████████████▎                    | 164/221 [07:48<02:20,  2.46s/it]\u001b[A\n",
      " 75%|███████████████████████████████████████████████████████████▋                    | 165/221 [07:51<02:19,  2.48s/it]\u001b[A\n",
      " 75%|████████████████████████████████████████████████████████████                    | 166/221 [07:54<02:28,  2.70s/it]\u001b[A\n",
      " 76%|████████████████████████████████████████████████████████████▍                   | 167/221 [07:57<02:36,  2.90s/it]\u001b[A\n",
      " 76%|████████████████████████████████████████████████████████████▊                   | 168/221 [08:05<03:44,  4.23s/it]\u001b[A\n",
      " 76%|█████████████████████████████████████████████████████████████▏                  | 169/221 [08:08<03:26,  3.97s/it]\u001b[A\n",
      " 77%|█████████████████████████████████████████████████████████████▌                  | 170/221 [08:13<03:36,  4.25s/it]\u001b[A\n",
      " 77%|█████████████████████████████████████████████████████████████▉                  | 171/221 [08:15<02:53,  3.46s/it]\u001b[A\n",
      " 78%|██████████████████████████████████████████████████████████████▎                 | 172/221 [08:22<03:46,  4.62s/it]\u001b[A\n",
      " 78%|██████████████████████████████████████████████████████████████▌                 | 173/221 [08:27<03:42,  4.64s/it]\u001b[A\n",
      " 79%|██████████████████████████████████████████████████████████████▉                 | 174/221 [08:30<03:18,  4.23s/it]\u001b[A\n",
      " 79%|███████████████████████████████████████████████████████████████▎                | 175/221 [08:36<03:36,  4.70s/it]\u001b[A\n",
      " 80%|███████████████████████████████████████████████████████████████▋                | 176/221 [08:38<02:55,  3.90s/it]\u001b[A\n",
      " 80%|████████████████████████████████████████████████████████████████                | 177/221 [08:40<02:33,  3.50s/it]\u001b[A\n",
      " 81%|████████████████████████████████████████████████████████████████▍               | 178/221 [08:41<01:54,  2.65s/it]\u001b[A\n",
      " 81%|████████████████████████████████████████████████████████████████▊               | 179/221 [08:45<02:11,  3.13s/it]\u001b[A\n"
     ]
    },
    {
     "name": "stderr",
     "output_type": "stream",
     "text": [
      " 81%|█████████████████████████████████████████████████████████████████▏              | 180/221 [08:50<02:24,  3.53s/it]\u001b[A\n",
      " 82%|█████████████████████████████████████████████████████████████████▌              | 181/221 [08:53<02:17,  3.44s/it]\u001b[A\n",
      " 82%|█████████████████████████████████████████████████████████████████▉              | 182/221 [08:55<01:55,  2.96s/it]\u001b[A\n",
      " 83%|██████████████████████████████████████████████████████████████████▏             | 183/221 [08:58<01:58,  3.12s/it]\u001b[A\n",
      " 83%|██████████████████████████████████████████████████████████████████▌             | 184/221 [09:06<02:51,  4.63s/it]\u001b[A\n",
      " 84%|██████████████████████████████████████████████████████████████████▉             | 185/221 [09:07<02:08,  3.57s/it]\u001b[A\n",
      " 84%|███████████████████████████████████████████████████████████████████▎            | 186/221 [09:09<01:41,  2.90s/it]\u001b[A\n",
      " 85%|███████████████████████████████████████████████████████████████████▋            | 187/221 [09:14<02:05,  3.70s/it]\u001b[A\n",
      " 85%|████████████████████████████████████████████████████████████████████            | 188/221 [09:16<01:39,  3.00s/it]\u001b[A\n",
      " 86%|████████████████████████████████████████████████████████████████████▍           | 189/221 [09:18<01:31,  2.85s/it]\u001b[A\n",
      " 86%|████████████████████████████████████████████████████████████████████▊           | 190/221 [09:21<01:27,  2.82s/it]\u001b[A\n",
      " 86%|█████████████████████████████████████████████████████████████████████▏          | 191/221 [09:26<01:43,  3.45s/it]\u001b[A\n",
      " 87%|█████████████████████████████████████████████████████████████████████▌          | 192/221 [09:28<01:25,  2.94s/it]\u001b[A\n",
      " 87%|█████████████████████████████████████████████████████████████████████▊          | 193/221 [09:30<01:17,  2.78s/it]\u001b[A\n",
      " 88%|██████████████████████████████████████████████████████████████████████▏         | 194/221 [09:33<01:19,  2.95s/it]\u001b[A\n",
      " 88%|██████████████████████████████████████████████████████████████████████▌         | 195/221 [09:35<01:04,  2.48s/it]\u001b[A\n",
      " 89%|██████████████████████████████████████████████████████████████████████▉         | 196/221 [09:35<00:47,  1.92s/it]\u001b[A\n",
      " 89%|███████████████████████████████████████████████████████████████████████▎        | 197/221 [09:36<00:37,  1.55s/it]\u001b[A\n",
      " 90%|███████████████████████████████████████████████████████████████████████▋        | 198/221 [09:42<01:06,  2.88s/it]\u001b[A\n",
      " 90%|████████████████████████████████████████████████████████████████████████        | 199/221 [09:47<01:13,  3.36s/it]\u001b[A\n",
      " 90%|████████████████████████████████████████████████████████████████████████▍       | 200/221 [09:49<01:07,  3.23s/it]\u001b[A\n",
      " 91%|████████████████████████████████████████████████████████████████████████▊       | 201/221 [09:50<00:48,  2.44s/it]\u001b[A\n",
      " 91%|█████████████████████████████████████████████████████████████████████████       | 202/221 [09:54<00:57,  3.03s/it]\u001b[A\n",
      " 92%|█████████████████████████████████████████████████████████████████████████▍      | 203/221 [09:55<00:42,  2.38s/it]\u001b[A\n",
      " 92%|█████████████████████████████████████████████████████████████████████████▊      | 204/221 [09:57<00:35,  2.09s/it]\u001b[A\n",
      " 93%|██████████████████████████████████████████████████████████████████████████▏     | 205/221 [10:03<00:55,  3.48s/it]\u001b[A\n",
      " 93%|██████████████████████████████████████████████████████████████████████████▌     | 206/221 [10:06<00:50,  3.35s/it]\u001b[A\n",
      " 94%|██████████████████████████████████████████████████████████████████████████▉     | 207/221 [10:09<00:42,  3.06s/it]\u001b[A\n",
      " 94%|███████████████████████████████████████████████████████████████████████████▎    | 208/221 [10:11<00:37,  2.91s/it]\u001b[A\n",
      " 95%|███████████████████████████████████████████████████████████████████████████▋    | 209/221 [10:15<00:37,  3.15s/it]\u001b[A\n",
      " 95%|████████████████████████████████████████████████████████████████████████████    | 210/221 [10:18<00:32,  2.91s/it]\u001b[A\n",
      " 95%|████████████████████████████████████████████████████████████████████████████▍   | 211/221 [10:20<00:29,  2.91s/it]\u001b[A\n",
      " 96%|████████████████████████████████████████████████████████████████████████████▋   | 212/221 [10:23<00:25,  2.83s/it]\u001b[A\n",
      " 96%|█████████████████████████████████████████████████████████████████████████████   | 213/221 [10:28<00:28,  3.58s/it]\u001b[A\n",
      " 97%|█████████████████████████████████████████████████████████████████████████████▍  | 214/221 [10:31<00:23,  3.30s/it]\u001b[A\n",
      " 97%|█████████████████████████████████████████████████████████████████████████████▊  | 215/221 [10:35<00:21,  3.53s/it]\u001b[A\n",
      " 98%|██████████████████████████████████████████████████████████████████████████████▏ | 216/221 [10:36<00:13,  2.64s/it]\u001b[A\n",
      " 98%|██████████████████████████████████████████████████████████████████████████████▌ | 217/221 [10:38<00:10,  2.54s/it]\u001b[A\n",
      " 99%|██████████████████████████████████████████████████████████████████████████████▉ | 218/221 [10:41<00:08,  2.79s/it]\u001b[A\n",
      " 99%|███████████████████████████████████████████████████████████████████████████████▎| 219/221 [10:44<00:05,  2.62s/it]\u001b[A\n",
      "100%|███████████████████████████████████████████████████████████████████████████████▋| 220/221 [10:45<00:02,  2.16s/it]\u001b[A\n",
      "100%|████████████████████████████████████████████████████████████████████████████████| 221/221 [10:48<00:00,  2.93s/it]\u001b[A\n",
      " 86%|█████████████████████████████████████████████████████████████████████▍           | 6/7 [1:16:01<11:44, 704.18s/it]\n",
      "  0%|                                                                                          | 0/211 [00:00<?, ?it/s]\u001b[A\n",
      "  0%|▍                                                                                 | 1/211 [00:05<19:50,  5.67s/it]\u001b[A\n",
      "  1%|▊                                                                                 | 2/211 [00:15<27:15,  7.82s/it]\u001b[A\n",
      "  1%|█▏                                                                                | 3/211 [00:20<23:07,  6.67s/it]\u001b[A\n",
      "  2%|█▌                                                                                | 4/211 [00:24<19:19,  5.60s/it]\u001b[A\n",
      "  2%|█▉                                                                                | 5/211 [00:28<17:39,  5.14s/it]\u001b[A\n",
      "  3%|██▎                                                                               | 6/211 [00:30<13:58,  4.09s/it]\u001b[A\n",
      "  3%|██▋                                                                               | 7/211 [00:33<12:39,  3.72s/it]\u001b[A\n",
      "  4%|███                                                                               | 8/211 [00:35<10:35,  3.13s/it]\u001b[A\n",
      "  4%|███▍                                                                              | 9/211 [00:41<13:05,  3.89s/it]\u001b[A\n",
      "  5%|███▊                                                                             | 10/211 [00:41<09:41,  2.89s/it]\u001b[A\n",
      "  5%|████▏                                                                            | 11/211 [00:44<09:10,  2.75s/it]\u001b[A\n",
      "  6%|████▌                                                                            | 12/211 [00:44<07:05,  2.14s/it]\u001b[A\n",
      "  6%|████▉                                                                            | 13/211 [00:46<06:15,  1.90s/it]\u001b[A\n",
      "  7%|█████▎                                                                           | 14/211 [00:46<05:02,  1.53s/it]\u001b[A\n",
      "  7%|█████▊                                                                           | 15/211 [00:54<10:43,  3.28s/it]\u001b[A\n",
      "  8%|██████▏                                                                          | 16/211 [00:57<10:25,  3.21s/it]\u001b[A\n",
      "  8%|██████▌                                                                          | 17/211 [01:00<10:43,  3.32s/it]\u001b[A\n",
      "  9%|██████▉                                                                          | 18/211 [01:03<09:39,  3.00s/it]\u001b[A\n",
      "  9%|███████▎                                                                         | 19/211 [01:09<12:33,  3.92s/it]\u001b[A\n",
      "  9%|███████▋                                                                         | 20/211 [01:14<13:33,  4.26s/it]\u001b[A\n",
      " 10%|████████                                                                         | 21/211 [01:19<14:44,  4.66s/it]\u001b[A\n",
      " 10%|████████▍                                                                        | 22/211 [01:23<14:13,  4.52s/it]\u001b[A\n"
     ]
    },
    {
     "name": "stderr",
     "output_type": "stream",
     "text": [
      " 11%|████████▊                                                                        | 23/211 [01:27<13:14,  4.23s/it]\u001b[A\n",
      " 11%|█████████▏                                                                       | 24/211 [01:31<12:39,  4.06s/it]\u001b[A\n",
      " 12%|█████████▌                                                                       | 25/211 [01:34<12:06,  3.91s/it]\u001b[A\n",
      " 12%|█████████▉                                                                       | 26/211 [01:35<08:59,  2.92s/it]\u001b[A\n",
      " 13%|██████████▎                                                                      | 27/211 [01:46<16:45,  5.47s/it]\u001b[A\n",
      " 13%|██████████▋                                                                      | 28/211 [01:51<16:03,  5.26s/it]\u001b[A\n",
      " 14%|███████████▏                                                                     | 29/211 [01:55<15:05,  4.98s/it]\u001b[A\n",
      " 14%|███████████▌                                                                     | 30/211 [02:00<14:36,  4.84s/it]\u001b[A\n",
      " 15%|███████████▉                                                                     | 31/211 [02:03<13:13,  4.41s/it]\u001b[A\n",
      " 15%|████████████▎                                                                    | 32/211 [02:07<12:12,  4.09s/it]\u001b[A\n",
      " 16%|████████████▋                                                                    | 33/211 [02:11<12:40,  4.27s/it]\u001b[A\n",
      " 16%|█████████████                                                                    | 34/211 [02:12<09:23,  3.18s/it]\u001b[A\n",
      " 17%|█████████████▍                                                                   | 35/211 [02:13<07:08,  2.43s/it]\u001b[A\n",
      " 17%|█████████████▊                                                                   | 36/211 [02:15<06:43,  2.31s/it]\u001b[A\n",
      " 18%|██████████████▏                                                                  | 37/211 [02:18<07:31,  2.59s/it]\u001b[A\n",
      " 18%|██████████████▌                                                                  | 38/211 [02:21<07:43,  2.68s/it]\u001b[A\n",
      " 18%|██████████████▉                                                                  | 39/211 [02:22<06:09,  2.15s/it]\u001b[A\n",
      " 19%|███████████████▎                                                                 | 40/211 [02:25<06:54,  2.42s/it]\u001b[A\n",
      " 19%|███████████████▋                                                                 | 41/211 [02:29<08:16,  2.92s/it]\u001b[A\n",
      " 20%|████████████████                                                                 | 42/211 [02:30<06:31,  2.32s/it]\u001b[A\n",
      " 20%|████████████████▌                                                                | 43/211 [02:35<08:45,  3.13s/it]\u001b[A\n",
      " 21%|████████████████▉                                                                | 44/211 [02:36<06:50,  2.46s/it]\u001b[A\n",
      " 21%|█████████████████▎                                                               | 45/211 [02:36<05:18,  1.92s/it]\u001b[A\n",
      " 22%|█████████████████▋                                                               | 46/211 [02:39<06:01,  2.19s/it]\u001b[A\n",
      " 22%|██████████████████                                                               | 47/211 [02:41<05:35,  2.04s/it]\u001b[A\n",
      " 23%|██████████████████▍                                                              | 48/211 [02:42<04:32,  1.67s/it]\u001b[A\n",
      " 23%|██████████████████▊                                                              | 49/211 [02:43<04:23,  1.62s/it]\u001b[A\n",
      " 24%|███████████████████▏                                                             | 50/211 [02:44<03:30,  1.31s/it]\u001b[A\n",
      " 24%|███████████████████▌                                                             | 51/211 [02:45<03:47,  1.42s/it]\u001b[A\n",
      " 25%|███████████████████▉                                                             | 52/211 [02:51<07:22,  2.78s/it]\u001b[A\n",
      " 25%|████████████████████▎                                                            | 53/211 [02:54<07:25,  2.82s/it]\u001b[A\n",
      " 26%|████████████████████▋                                                            | 54/211 [02:55<05:36,  2.15s/it]\u001b[A\n",
      " 26%|█████████████████████                                                            | 55/211 [02:59<07:22,  2.83s/it]\u001b[A\n",
      " 27%|█████████████████████▍                                                           | 56/211 [03:00<05:34,  2.16s/it]\u001b[A\n",
      " 27%|█████████████████████▉                                                           | 57/211 [03:01<04:31,  1.76s/it]\u001b[A\n",
      " 27%|██████████████████████▎                                                          | 58/211 [03:03<04:49,  1.89s/it]\u001b[A\n",
      " 28%|██████████████████████▋                                                          | 59/211 [03:05<04:47,  1.89s/it]\u001b[A\n",
      " 28%|███████████████████████                                                          | 60/211 [03:05<03:49,  1.52s/it]\u001b[A\n",
      " 29%|███████████████████████▍                                                         | 61/211 [03:08<04:37,  1.85s/it]\u001b[A\n",
      " 29%|███████████████████████▊                                                         | 62/211 [03:11<05:01,  2.03s/it]\u001b[A\n",
      " 30%|████████████████████████▏                                                        | 63/211 [03:15<06:25,  2.61s/it]\u001b[A\n",
      " 30%|████████████████████████▌                                                        | 64/211 [03:20<08:32,  3.48s/it]\u001b[A\n",
      " 31%|████████████████████████▉                                                        | 65/211 [03:21<06:23,  2.62s/it]\u001b[A\n",
      " 31%|█████████████████████████▎                                                       | 66/211 [03:24<07:02,  2.91s/it]\u001b[A\n",
      " 32%|█████████████████████████▋                                                       | 67/211 [03:27<07:07,  2.97s/it]\u001b[A\n",
      " 32%|██████████████████████████                                                       | 68/211 [03:30<06:57,  2.92s/it]\u001b[A\n",
      " 33%|██████████████████████████▍                                                      | 69/211 [03:31<05:17,  2.24s/it]\u001b[A\n",
      " 33%|██████████████████████████▊                                                      | 70/211 [03:34<06:00,  2.56s/it]\u001b[A\n",
      " 34%|███████████████████████████▎                                                     | 71/211 [03:38<06:45,  2.89s/it]\u001b[A\n",
      " 34%|███████████████████████████▋                                                     | 72/211 [03:38<05:08,  2.22s/it]\u001b[A\n",
      " 35%|████████████████████████████                                                     | 73/211 [03:39<04:02,  1.76s/it]\u001b[A\n",
      " 35%|████████████████████████████▍                                                    | 74/211 [03:41<04:22,  1.92s/it]\u001b[A\n",
      " 36%|████████████████████████████▊                                                    | 75/211 [03:42<03:25,  1.51s/it]\u001b[A\n",
      " 36%|█████████████████████████████▏                                                   | 76/211 [03:46<05:00,  2.22s/it]\u001b[A\n",
      " 36%|█████████████████████████████▌                                                   | 77/211 [03:50<06:33,  2.94s/it]\u001b[A\n",
      " 37%|█████████████████████████████▉                                                   | 78/211 [03:54<07:05,  3.20s/it]\u001b[A\n",
      " 37%|██████████████████████████████▎                                                  | 79/211 [03:55<05:44,  2.61s/it]\u001b[A\n",
      " 38%|██████████████████████████████▋                                                  | 80/211 [03:56<04:34,  2.10s/it]\u001b[A\n",
      " 38%|███████████████████████████████                                                  | 81/211 [04:02<06:35,  3.04s/it]\u001b[A\n",
      " 39%|███████████████████████████████▍                                                 | 82/211 [04:03<05:11,  2.42s/it]\u001b[A\n",
      " 39%|███████████████████████████████▊                                                 | 83/211 [04:07<06:08,  2.88s/it]\u001b[A\n",
      " 40%|████████████████████████████████▏                                                | 84/211 [04:08<04:54,  2.32s/it]\u001b[A\n",
      " 40%|████████████████████████████████▋                                                | 85/211 [04:12<05:56,  2.83s/it]\u001b[A\n",
      " 41%|█████████████████████████████████                                                | 86/211 [04:15<06:09,  2.96s/it]\u001b[A\n",
      " 41%|█████████████████████████████████▍                                               | 87/211 [04:18<06:18,  3.05s/it]\u001b[A\n",
      " 42%|█████████████████████████████████▊                                               | 88/211 [04:20<05:15,  2.56s/it]\u001b[A\n"
     ]
    },
    {
     "name": "stderr",
     "output_type": "stream",
     "text": [
      " 42%|██████████████████████████████████▏                                              | 89/211 [04:23<05:35,  2.75s/it]\u001b[A\n",
      " 43%|██████████████████████████████████▌                                              | 90/211 [04:24<04:28,  2.22s/it]\u001b[A\n",
      " 43%|██████████████████████████████████▉                                              | 91/211 [04:29<06:01,  3.01s/it]\u001b[A\n",
      " 44%|███████████████████████████████████▎                                             | 92/211 [04:33<06:46,  3.42s/it]\u001b[A\n",
      " 44%|███████████████████████████████████▋                                             | 93/211 [04:36<06:19,  3.22s/it]\u001b[A\n",
      " 45%|████████████████████████████████████                                             | 94/211 [04:37<05:19,  2.74s/it]\u001b[A\n",
      " 45%|████████████████████████████████████▍                                            | 95/211 [04:42<06:36,  3.42s/it]\u001b[A\n",
      " 45%|████████████████████████████████████▊                                            | 96/211 [04:46<06:39,  3.47s/it]\u001b[A\n",
      " 46%|█████████████████████████████████████▏                                           | 97/211 [04:49<06:36,  3.48s/it]\u001b[A\n",
      " 46%|█████████████████████████████████████▌                                           | 98/211 [04:53<06:20,  3.37s/it]\u001b[A\n",
      " 47%|██████████████████████████████████████                                           | 99/211 [04:55<06:00,  3.22s/it]\u001b[A\n",
      " 47%|█████████████████████████████████████▉                                          | 100/211 [04:56<04:27,  2.41s/it]\u001b[A\n",
      " 48%|██████████████████████████████████████▎                                         | 101/211 [04:59<04:47,  2.61s/it]\u001b[A\n",
      " 48%|██████████████████████████████████████▋                                         | 102/211 [05:02<04:47,  2.64s/it]\u001b[A\n",
      " 49%|███████████████████████████████████████                                         | 103/211 [05:06<05:22,  2.99s/it]\u001b[A\n",
      " 49%|███████████████████████████████████████▍                                        | 104/211 [05:09<05:24,  3.03s/it]\u001b[A\n",
      " 50%|███████████████████████████████████████▊                                        | 105/211 [05:11<05:08,  2.92s/it]\u001b[A\n",
      " 50%|████████████████████████████████████████▏                                       | 106/211 [05:14<05:13,  2.99s/it]\u001b[A\n",
      " 51%|████████████████████████████████████████▌                                       | 107/211 [05:20<06:17,  3.63s/it]\u001b[A\n",
      " 51%|████████████████████████████████████████▉                                       | 108/211 [05:20<04:48,  2.80s/it]\u001b[A\n",
      " 52%|█████████████████████████████████████████▎                                      | 109/211 [05:21<03:49,  2.25s/it]\u001b[A\n",
      " 52%|█████████████████████████████████████████▋                                      | 110/211 [05:24<03:50,  2.28s/it]\u001b[A\n",
      " 53%|██████████████████████████████████████████                                      | 111/211 [05:25<03:04,  1.84s/it]\u001b[A\n",
      " 53%|██████████████████████████████████████████▍                                     | 112/211 [05:27<03:33,  2.15s/it]\u001b[A\n",
      " 54%|██████████████████████████████████████████▊                                     | 113/211 [05:28<02:45,  1.69s/it]\u001b[A\n",
      " 54%|███████████████████████████████████████████▏                                    | 114/211 [05:31<03:07,  1.93s/it]\u001b[A\n",
      " 55%|███████████████████████████████████████████▌                                    | 115/211 [05:34<03:56,  2.46s/it]\u001b[A\n",
      " 55%|███████████████████████████████████████████▉                                    | 116/211 [05:37<04:03,  2.56s/it]\u001b[A\n",
      " 55%|████████████████████████████████████████████▎                                   | 117/211 [05:41<04:36,  2.94s/it]\u001b[A\n",
      " 56%|████████████████████████████████████████████▋                                   | 118/211 [05:44<04:43,  3.05s/it]\u001b[A\n",
      " 56%|█████████████████████████████████████████████                                   | 119/211 [05:45<03:39,  2.38s/it]\u001b[A\n",
      " 57%|█████████████████████████████████████████████▍                                  | 120/211 [05:47<03:27,  2.28s/it]\u001b[A\n",
      " 57%|█████████████████████████████████████████████▉                                  | 121/211 [05:55<05:47,  3.87s/it]\u001b[A\n",
      " 58%|██████████████████████████████████████████████▎                                 | 122/211 [05:55<04:17,  2.89s/it]\u001b[A\n",
      " 58%|██████████████████████████████████████████████▋                                 | 123/211 [05:58<04:18,  2.94s/it]\u001b[A\n",
      " 59%|███████████████████████████████████████████████                                 | 124/211 [06:01<04:08,  2.86s/it]\u001b[A\n",
      " 59%|███████████████████████████████████████████████▍                                | 125/211 [06:02<03:08,  2.20s/it]\u001b[A\n",
      " 60%|███████████████████████████████████████████████▊                                | 126/211 [06:07<04:17,  3.03s/it]\u001b[A\n",
      " 60%|████████████████████████████████████████████████▏                               | 127/211 [06:10<04:13,  3.01s/it]\u001b[A\n",
      " 61%|████████████████████████████████████████████████▌                               | 128/211 [06:12<03:44,  2.71s/it]\u001b[A\n",
      " 61%|████████████████████████████████████████████████▉                               | 129/211 [06:15<03:48,  2.79s/it]\u001b[A\n",
      " 62%|█████████████████████████████████████████████████▎                              | 130/211 [06:18<04:03,  3.01s/it]\u001b[A\n",
      " 62%|█████████████████████████████████████████████████▋                              | 131/211 [06:21<03:55,  2.94s/it]\u001b[A\n",
      " 63%|██████████████████████████████████████████████████                              | 132/211 [06:24<04:08,  3.15s/it]\u001b[A\n",
      " 63%|██████████████████████████████████████████████████▍                             | 133/211 [06:30<05:00,  3.85s/it]\u001b[A\n",
      " 64%|██████████████████████████████████████████████████▊                             | 134/211 [06:33<04:33,  3.56s/it]\u001b[A\n",
      " 64%|███████████████████████████████████████████████████▏                            | 135/211 [06:33<03:22,  2.66s/it]\u001b[A\n",
      " 64%|███████████████████████████████████████████████████▌                            | 136/211 [06:37<03:42,  2.97s/it]\u001b[A\n",
      " 65%|███████████████████████████████████████████████████▉                            | 137/211 [06:41<03:57,  3.21s/it]\u001b[A\n",
      " 65%|████████████████████████████████████████████████████▎                           | 138/211 [06:50<06:02,  4.96s/it]\u001b[A\n",
      " 66%|████████████████████████████████████████████████████▋                           | 139/211 [06:54<05:45,  4.79s/it]\u001b[A\n",
      " 66%|█████████████████████████████████████████████████████                           | 140/211 [06:56<04:38,  3.92s/it]\u001b[A\n",
      " 67%|█████████████████████████████████████████████████████▍                          | 141/211 [06:57<03:24,  2.93s/it]\u001b[A\n",
      " 67%|█████████████████████████████████████████████████████▊                          | 142/211 [07:07<05:45,  5.00s/it]\u001b[A\n",
      " 68%|██████████████████████████████████████████████████████▏                         | 143/211 [07:09<04:55,  4.34s/it]\u001b[A\n",
      " 68%|██████████████████████████████████████████████████████▌                         | 144/211 [07:11<04:02,  3.61s/it]\u001b[A\n",
      " 69%|██████████████████████████████████████████████████████▉                         | 145/211 [07:14<03:41,  3.35s/it]\u001b[A\n",
      " 69%|███████████████████████████████████████████████████████▎                        | 146/211 [07:17<03:35,  3.32s/it]\u001b[A\n",
      " 70%|███████████████████████████████████████████████████████▋                        | 147/211 [07:18<02:41,  2.52s/it]\u001b[A\n",
      " 70%|████████████████████████████████████████████████████████                        | 148/211 [07:21<02:41,  2.56s/it]\u001b[A\n",
      " 71%|████████████████████████████████████████████████████████▍                       | 149/211 [07:23<02:39,  2.57s/it]\u001b[A\n",
      " 71%|████████████████████████████████████████████████████████▊                       | 150/211 [07:28<03:18,  3.25s/it]\u001b[A\n",
      " 72%|█████████████████████████████████████████████████████████▎                      | 151/211 [07:31<03:01,  3.02s/it]\u001b[A\n",
      " 72%|█████████████████████████████████████████████████████████▋                      | 152/211 [07:33<02:53,  2.95s/it]\u001b[A\n",
      " 73%|██████████████████████████████████████████████████████████                      | 153/211 [07:37<03:00,  3.11s/it]\u001b[A\n",
      " 73%|██████████████████████████████████████████████████████████▍                     | 154/211 [07:38<02:24,  2.53s/it]\u001b[A\n"
     ]
    },
    {
     "name": "stderr",
     "output_type": "stream",
     "text": [
      " 73%|██████████████████████████████████████████████████████████▊                     | 155/211 [07:39<01:55,  2.07s/it]\u001b[A\n",
      " 74%|███████████████████████████████████████████████████████████▏                    | 156/211 [07:43<02:18,  2.52s/it]\u001b[A\n",
      " 74%|███████████████████████████████████████████████████████████▌                    | 157/211 [07:45<02:15,  2.50s/it]\u001b[A\n",
      " 75%|███████████████████████████████████████████████████████████▉                    | 158/211 [07:46<01:46,  2.01s/it]\u001b[A\n",
      " 75%|████████████████████████████████████████████████████████████▎                   | 159/211 [07:49<02:03,  2.38s/it]\u001b[A\n",
      " 76%|████████████████████████████████████████████████████████████▋                   | 160/211 [07:50<01:38,  1.93s/it]\u001b[A\n",
      " 76%|█████████████████████████████████████████████████████████████                   | 161/211 [07:51<01:27,  1.74s/it]\u001b[A\n",
      " 77%|█████████████████████████████████████████████████████████████▍                  | 162/211 [07:55<01:56,  2.37s/it]\u001b[A\n",
      " 77%|█████████████████████████████████████████████████████████████▊                  | 163/211 [07:59<02:14,  2.80s/it]\u001b[A\n",
      " 78%|██████████████████████████████████████████████████████████████▏                 | 164/211 [08:05<03:02,  3.87s/it]\u001b[A\n",
      " 78%|██████████████████████████████████████████████████████████████▌                 | 165/211 [08:06<02:16,  2.97s/it]\u001b[A\n",
      " 79%|██████████████████████████████████████████████████████████████▉                 | 166/211 [08:09<02:06,  2.80s/it]\u001b[A\n",
      " 79%|███████████████████████████████████████████████████████████████▎                | 167/211 [08:12<02:13,  3.03s/it]\u001b[A\n",
      " 80%|███████████████████████████████████████████████████████████████▋                | 168/211 [08:15<02:14,  3.12s/it]\u001b[A\n",
      " 80%|████████████████████████████████████████████████████████████████                | 169/211 [08:17<01:51,  2.65s/it]\u001b[A\n",
      " 81%|████████████████████████████████████████████████████████████████▍               | 170/211 [08:21<01:58,  2.89s/it]\u001b[A\n",
      " 81%|████████████████████████████████████████████████████████████████▊               | 171/211 [08:22<01:33,  2.33s/it]\u001b[A\n",
      " 82%|█████████████████████████████████████████████████████████████████▏              | 172/211 [08:24<01:28,  2.28s/it]\u001b[A\n",
      " 82%|█████████████████████████████████████████████████████████████████▌              | 173/211 [08:29<01:55,  3.05s/it]\u001b[A\n",
      " 82%|█████████████████████████████████████████████████████████████████▉              | 174/211 [08:30<01:39,  2.69s/it]\u001b[A\n",
      " 83%|██████████████████████████████████████████████████████████████████▎             | 175/211 [08:33<01:33,  2.61s/it]\u001b[A\n",
      " 83%|██████████████████████████████████████████████████████████████████▋             | 176/211 [08:35<01:30,  2.58s/it]\u001b[A\n",
      " 84%|███████████████████████████████████████████████████████████████████             | 177/211 [08:37<01:19,  2.35s/it]\u001b[A\n",
      " 84%|███████████████████████████████████████████████████████████████████▍            | 178/211 [08:44<01:59,  3.61s/it]\u001b[A\n",
      " 85%|███████████████████████████████████████████████████████████████████▊            | 179/211 [08:47<01:56,  3.63s/it]\u001b[A\n",
      " 85%|████████████████████████████████████████████████████████████████████▏           | 180/211 [08:50<01:47,  3.46s/it]\u001b[A\n",
      " 86%|████████████████████████████████████████████████████████████████████▋           | 181/211 [08:53<01:36,  3.20s/it]\u001b[A\n",
      " 86%|█████████████████████████████████████████████████████████████████████           | 182/211 [08:57<01:42,  3.55s/it]\u001b[A\n",
      " 87%|█████████████████████████████████████████████████████████████████████▍          | 183/211 [09:00<01:29,  3.21s/it]\u001b[A\n",
      " 87%|█████████████████████████████████████████████████████████████████████▊          | 184/211 [09:02<01:20,  2.98s/it]\u001b[A\n",
      " 88%|██████████████████████████████████████████████████████████████████████▏         | 185/211 [09:03<00:59,  2.29s/it]\u001b[A\n",
      " 88%|██████████████████████████████████████████████████████████████████████▌         | 186/211 [09:07<01:09,  2.78s/it]\u001b[A\n",
      " 89%|██████████████████████████████████████████████████████████████████████▉         | 187/211 [09:08<00:52,  2.20s/it]\u001b[A\n",
      " 89%|███████████████████████████████████████████████████████████████████████▎        | 188/211 [09:11<00:59,  2.61s/it]\u001b[A\n",
      " 90%|███████████████████████████████████████████████████████████████████████▋        | 189/211 [09:15<01:02,  2.82s/it]\u001b[A\n",
      " 90%|████████████████████████████████████████████████████████████████████████        | 190/211 [09:15<00:44,  2.14s/it]\u001b[A\n",
      " 91%|████████████████████████████████████████████████████████████████████████▍       | 191/211 [09:18<00:46,  2.32s/it]\u001b[A\n",
      " 91%|████████████████████████████████████████████████████████████████████████▊       | 192/211 [09:21<00:50,  2.67s/it]\u001b[A\n",
      " 91%|█████████████████████████████████████████████████████████████████████████▏      | 193/211 [09:24<00:47,  2.66s/it]\u001b[A\n",
      " 92%|█████████████████████████████████████████████████████████████████████████▌      | 194/211 [09:31<01:05,  3.84s/it]\u001b[A\n",
      " 92%|█████████████████████████████████████████████████████████████████████████▉      | 195/211 [09:33<00:55,  3.49s/it]\u001b[A\n",
      " 93%|██████████████████████████████████████████████████████████████████████████▎     | 196/211 [09:35<00:45,  3.05s/it]\u001b[A\n",
      " 93%|██████████████████████████████████████████████████████████████████████████▋     | 197/211 [09:39<00:47,  3.39s/it]\u001b[A\n",
      " 94%|███████████████████████████████████████████████████████████████████████████     | 198/211 [09:43<00:43,  3.33s/it]\u001b[A\n",
      " 94%|███████████████████████████████████████████████████████████████████████████▍    | 199/211 [09:46<00:40,  3.38s/it]\u001b[A\n",
      " 95%|███████████████████████████████████████████████████████████████████████████▊    | 200/211 [09:47<00:29,  2.67s/it]\u001b[A\n",
      " 95%|████████████████████████████████████████████████████████████████████████████▏   | 201/211 [09:50<00:26,  2.68s/it]\u001b[A\n",
      " 96%|████████████████████████████████████████████████████████████████████████████▌   | 202/211 [09:53<00:25,  2.87s/it]\u001b[A\n",
      " 96%|████████████████████████████████████████████████████████████████████████████▉   | 203/211 [09:55<00:19,  2.42s/it]\u001b[A\n",
      " 97%|█████████████████████████████████████████████████████████████████████████████▎  | 204/211 [10:01<00:24,  3.50s/it]\u001b[A\n",
      " 97%|█████████████████████████████████████████████████████████████████████████████▋  | 205/211 [10:03<00:18,  3.11s/it]\u001b[A\n",
      " 98%|██████████████████████████████████████████████████████████████████████████████  | 206/211 [10:06<00:15,  3.09s/it]\u001b[A\n",
      " 98%|██████████████████████████████████████████████████████████████████████████████▍ | 207/211 [10:10<00:13,  3.34s/it]\u001b[A\n",
      " 99%|██████████████████████████████████████████████████████████████████████████████▊ | 208/211 [10:13<00:09,  3.32s/it]\u001b[A\n",
      " 99%|███████████████████████████████████████████████████████████████████████████████▏| 209/211 [10:16<00:06,  3.13s/it]\u001b[A\n",
      "100%|███████████████████████████████████████████████████████████████████████████████▌| 210/211 [10:17<00:02,  2.44s/it]\u001b[A\n",
      "100%|████████████████████████████████████████████████████████████████████████████████| 211/211 [10:21<00:00,  2.95s/it]\u001b[A\n",
      "100%|█████████████████████████████████████████████████████████████████████████████████| 7/7 [1:26:23<00:00, 740.45s/it]\n"
     ]
    }
   ],
   "source": [
    "# 키워드 추출\n",
    "kwd_list = makeKeywordLsit(data, nn_jj = True)"
   ]
  },
  {
   "cell_type": "code",
   "execution_count": 13,
   "id": "1df0e020",
   "metadata": {
    "scrolled": true
   },
   "outputs": [],
   "source": [
    "# 데이터 추가\n",
    "data['키워드'] = kwd_list"
   ]
  },
  {
   "cell_type": "code",
   "execution_count": 14,
   "id": "1fcbdf4d",
   "metadata": {},
   "outputs": [],
   "source": [
    "# 저장\n",
    "name = \"Keyword{}-{}.pickle\".format(from_date,to_date)\n",
    "name = name.replace('/','.')\n",
    "with open(main_path + '/' + 'keyword/' + name,'wb') as f:\n",
    "    pickle.dump(data,f)"
   ]
  }
 ],
 "metadata": {
  "kernelspec": {
   "display_name": "Python 3 (ipykernel)",
   "language": "python",
   "name": "python3"
  },
  "language_info": {
   "codemirror_mode": {
    "name": "ipython",
    "version": 3
   },
   "file_extension": ".py",
   "mimetype": "text/x-python",
   "name": "python",
   "nbconvert_exporter": "python",
   "pygments_lexer": "ipython3",
   "version": "3.9.13"
  }
 },
 "nbformat": 4,
 "nbformat_minor": 5
}
