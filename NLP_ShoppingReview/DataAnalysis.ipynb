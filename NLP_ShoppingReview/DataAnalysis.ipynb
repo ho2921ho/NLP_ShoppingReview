{
 "cells": [
  {
   "cell_type": "code",
   "execution_count": 6,
   "id": "813be8f7",
   "metadata": {},
   "outputs": [],
   "source": [
    "import os\n",
    "import pickle\n"
   ]
  },
  {
   "cell_type": "code",
   "execution_count": 7,
   "id": "3ff2d125",
   "metadata": {},
   "outputs": [],
   "source": [
    "path = os.getcwd()"
   ]
  },
  {
   "cell_type": "code",
   "execution_count": 8,
   "id": "cebc9c28",
   "metadata": {},
   "outputs": [],
   "source": [
    "with open(path + '/data/raw.pickle', 'rb') as f:\n",
    "    data = pickle.load(f)"
   ]
  },
  {
   "cell_type": "code",
   "execution_count": 10,
   "id": "0cfa7208",
   "metadata": {},
   "outputs": [],
   "source": [
    "df = data[data['star'] != str(0.0)]"
   ]
  },
  {
   "cell_type": "code",
   "execution_count": 11,
   "id": "88812c96",
   "metadata": {},
   "outputs": [],
   "source": [
    "idxs = []\n",
    "for title in df['title']:\n",
    "    idx = '친환경' in title or '유기농' in title or '무농약' in title\n",
    "    idxs.append(idx)\n",
    "    \n",
    "eco_df = df[idxs].reset_index(drop=True)\n",
    "\n",
    "idxs = [not x for x in idxs]\n",
    "\n",
    "ord_df = df[idxs].reset_index(drop=True)"
   ]
  },
  {
   "cell_type": "code",
   "execution_count": 12,
   "id": "85c08648",
   "metadata": {},
   "outputs": [],
   "source": [
    "#  평점 비교\n",
    "import numpy as np"
   ]
  },
  {
   "cell_type": "code",
   "execution_count": 16,
   "id": "33f5e9f7",
   "metadata": {},
   "outputs": [
    {
     "data": {
      "text/plain": [
       "8.44"
      ]
     },
     "execution_count": 16,
     "metadata": {},
     "output_type": "execute_result"
    }
   ],
   "source": [
    "round(np.mean([float(x) for x in eco_df['star']]),2) # 친환경 관련 작물 평점 평균"
   ]
  },
  {
   "cell_type": "code",
   "execution_count": 15,
   "id": "1674f3be",
   "metadata": {},
   "outputs": [
    {
     "data": {
      "text/plain": [
       "7.07"
      ]
     },
     "execution_count": 15,
     "metadata": {},
     "output_type": "execute_result"
    }
   ],
   "source": [
    "round(np.mean([float(x) for x in ord_df['star']]),2) # 일반 작물 평점 평균"
   ]
  },
  {
   "cell_type": "code",
   "execution_count": 17,
   "id": "693e9d36",
   "metadata": {},
   "outputs": [],
   "source": [
    "# 리뷰 감성분석\n",
    "from sentence_transformers import SentenceTransformer\n",
    "from sklearn.metrics.pairwise import cosine_similarity\n",
    "import plotly.express as px"
   ]
  },
  {
   "cell_type": "code",
   "execution_count": 18,
   "id": "95e34e6a",
   "metadata": {},
   "outputs": [],
   "source": [
    "def corpusToSentimentScore(corpus,sentiment,model):\n",
    "    corpus_embeddings = model.encode([corpus])\n",
    "    corpus_embeddings_2 = model.encode([sentiment])\n",
    "    return cosine_similarity(corpus_embeddings, corpus_embeddings_2)[0][0]"
   ]
  },
  {
   "cell_type": "code",
   "execution_count": 19,
   "id": "ce3696a6",
   "metadata": {},
   "outputs": [],
   "source": [
    "def corpusToSentimentScoreList(corpus,SentimentList,model):\n",
    "    sentimentScoreList = []\n",
    "    for sentiment in sentimentList:\n",
    "        sentimentScore = corpusToSentimentScore(corpus,sentiment,model)\n",
    "        sentimentScoreList.append(sentimentScore)\n",
    "    return sentimentScoreList"
   ]
  },
  {
   "cell_type": "code",
   "execution_count": 20,
   "id": "2ff554d5",
   "metadata": {},
   "outputs": [],
   "source": [
    "def corpusListToMeanScoreList(corpusList,sentimentList,model):\n",
    "    agg = np.zeros(len(sentimentList))\n",
    "    for corpus in corpusList:\n",
    "        agg += np.array(corpusToSentimentScoreList(corpus,sentimentList,model))\n",
    "    return agg / len(corpusList)"
   ]
  },
  {
   "cell_type": "code",
   "execution_count": 21,
   "id": "2dc399cd",
   "metadata": {},
   "outputs": [],
   "source": [
    "model = SentenceTransformer(\"snunlp/KR-SBERT-V40K-klueNLI-augSTS\")\n",
    "sentimentList = ['맛있다','크다','비싸다','건강하다','빠르다']"
   ]
  },
  {
   "cell_type": "code",
   "execution_count": 22,
   "id": "2d1460b5",
   "metadata": {},
   "outputs": [],
   "source": [
    "eco_df_reviews = [x for x in eco_df['review'].explode()]\n",
    "ord_df_reviews = [x for x in ord_df['review'].explode()]"
   ]
  },
  {
   "cell_type": "code",
   "execution_count": 23,
   "id": "14d60399",
   "metadata": {},
   "outputs": [],
   "source": [
    "MeanScoreList_eco = corpusListToMeanScoreList(eco_df_reviews,sentimentList,model) "
   ]
  },
  {
   "cell_type": "code",
   "execution_count": 24,
   "id": "da50f4df",
   "metadata": {},
   "outputs": [],
   "source": [
    "MeanScoreList_ord = corpusListToMeanScoreList(ord_df_reviews,sentimentList,model) "
   ]
  },
  {
   "cell_type": "code",
   "execution_count": 25,
   "id": "63900271",
   "metadata": {},
   "outputs": [],
   "source": [
    "corpus = eco_df_reviews[0]\n",
    "sentimentScoreList = corpusToSentimentScoreList(corpus,sentimentList,model)"
   ]
  },
  {
   "cell_type": "code",
   "execution_count": 26,
   "id": "2f048015",
   "metadata": {},
   "outputs": [
    {
     "ename": "NameError",
     "evalue": "name 'pd' is not defined",
     "output_type": "error",
     "traceback": [
      "\u001b[1;31m---------------------------------------------------------------------------\u001b[0m",
      "\u001b[1;31mNameError\u001b[0m                                 Traceback (most recent call last)",
      "\u001b[1;32m~\\AppData\\Local\\Temp\\ipykernel_12096\\2615443766.py\u001b[0m in \u001b[0;36m<module>\u001b[1;34m\u001b[0m\n\u001b[0;32m      1\u001b[0m \u001b[1;31m# 데이터 생성\u001b[0m\u001b[1;33m\u001b[0m\u001b[1;33m\u001b[0m\u001b[0m\n\u001b[1;32m----> 2\u001b[1;33m df = pd.DataFrame(dict(\n\u001b[0m\u001b[0;32m      3\u001b[0m     \u001b[0mr\u001b[0m\u001b[1;33m=\u001b[0m \u001b[0msentimentScoreList\u001b[0m \u001b[1;33m,\u001b[0m\u001b[1;33m\u001b[0m\u001b[1;33m\u001b[0m\u001b[0m\n\u001b[0;32m      4\u001b[0m     theta=sentimentList))\n\u001b[0;32m      5\u001b[0m \u001b[1;33m\u001b[0m\u001b[0m\n",
      "\u001b[1;31mNameError\u001b[0m: name 'pd' is not defined"
     ]
    }
   ],
   "source": [
    "df = pd.DataFrame(dict(r= sentimentScoreList ,theta=sentimentList))\n",
    "\n",
    "fig = px.line_polar(df, r='r', theta='theta', line_close=True)\n",
    "\n",
    "fig.update_traces(fill='toself')\n",
    "\n",
    "fig.show()"
   ]
  },
  {
   "cell_type": "code",
   "execution_count": null,
   "id": "0fc1a931",
   "metadata": {},
   "outputs": [],
   "source": [
    "ord_df = pd.DataFrame({'score':MeanScoreList_ord,'sentiment':sentimentList})\n",
    "ord_df['type'] = 'ord' "
   ]
  },
  {
   "cell_type": "code",
   "execution_count": null,
   "id": "04a9138b",
   "metadata": {},
   "outputs": [],
   "source": [
    "eco_df = pd.DataFrame({'score':MeanScoreList_eco,'sentiment':sentimentList})\n",
    "eco_df['type'] = 'eco' "
   ]
  },
  {
   "cell_type": "code",
   "execution_count": null,
   "id": "694a0d9d",
   "metadata": {},
   "outputs": [],
   "source": [
    "df2 = pd.concat([ord_df,eco_df])"
   ]
  },
  {
   "cell_type": "code",
   "execution_count": null,
   "id": "474820c5",
   "metadata": {},
   "outputs": [],
   "source": [
    "#그래프 그리기\n",
    "fig = px.line_polar(df2, r=\"score\", theta=\"sentiment\", color=\"type\", line_close=True)\n",
    "\n",
    "# 내부 색칠하기\n",
    "fig.update_traces(fill='toself')\n",
    "\n",
    "fig.show()"
   ]
  }
 ],
 "metadata": {
  "kernelspec": {
   "display_name": "Python 3 (ipykernel)",
   "language": "python",
   "name": "python3"
  },
  "language_info": {
   "codemirror_mode": {
    "name": "ipython",
    "version": 3
   },
   "file_extension": ".py",
   "mimetype": "text/x-python",
   "name": "python",
   "nbconvert_exporter": "python",
   "pygments_lexer": "ipython3",
   "version": "3.9.13"
  }
 },
 "nbformat": 4,
 "nbformat_minor": 5
}
