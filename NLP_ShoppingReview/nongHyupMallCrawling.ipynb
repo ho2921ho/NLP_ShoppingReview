{
 "cells": [
  {
   "cell_type": "code",
   "execution_count": 1,
   "id": "093e0860",
   "metadata": {},
   "outputs": [],
   "source": [
    "from bs4 import BeautifulSoup\n",
    "from selenium.webdriver.chrome.options import Options\n",
    "import chromedriver_autoinstaller\n",
    "import subprocess\n",
    "import shutil\n",
    "from selenium import webdriver\n",
    "from selenium.webdriver.common.by import By\n",
    "from tqdm import tqdm\n",
    "import time\n",
    "import pandas as pd"
   ]
  },
  {
   "cell_type": "code",
   "execution_count": 2,
   "id": "32c866e5",
   "metadata": {},
   "outputs": [
    {
     "name": "stdout",
     "output_type": "stream",
     "text": [
      "Mozilla/5.0 (Windows NT 6.2; WOW64) AppleWebKit/537.36 (KHTML, like Gecko) Chrome/84.0.4147.111 Safari/537.36\n"
     ]
    }
   ],
   "source": [
    "from user_agent import generate_user_agent\n",
    "\n",
    "user_agent = generate_user_agent(navigator='chrome')\n",
    "print(user_agent)"
   ]
  },
  {
   "cell_type": "code",
   "execution_count": 176,
   "id": "b6d63ba7",
   "metadata": {
    "scrolled": true
   },
   "outputs": [
    {
     "name": "stderr",
     "output_type": "stream",
     "text": [
      "C:\\Users\\NH\\AppData\\Local\\Temp\\ipykernel_17436\\1235294787.py:14: DeprecationWarning:\n",
      "\n",
      "executable_path has been deprecated, please pass in a Service object\n",
      "\n"
     ]
    }
   ],
   "source": [
    "# 0. 환경설정 및 세팅\n",
    "try:\n",
    "    shutil.rmtree(r\"c:\\chrometemp\")  #쿠키 / 캐쉬파일 삭제\n",
    "except FileNotFoundError:\n",
    "    pass\n",
    "\n",
    "subprocess.Popen(r'C:\\Program Files\\Google\\Chrome\\Application\\chrome.exe --remote-debugging-port=9222 --user-data-dir=\"C:\\chrometemp\"') # 디버거 크롬 구동\n",
    "chrome_ver = chromedriver_autoinstaller.get_chrome_version().split('.')[0]\n",
    "option = Options()\n",
    "option.add_experimental_option(\"debuggerAddress\", \"127.0.0.1:9222\")\n",
    "option.add_argument('user-agent='+user_agent)\n",
    "\n",
    "try:\n",
    "    driver = webdriver.Chrome(f'./{chrome_ver}/chromedriver.exe', options=option)\n",
    "except:\n",
    "    chromedriver_autoinstaller.install(True)\n",
    "    driver = webdriver.Chrome(f'./{chrome_ver}/chromedriver.exe', options=option)\n",
    "driver.implicitly_wait(10)"
   ]
  },
  {
   "cell_type": "code",
   "execution_count": 177,
   "id": "4a257eb2",
   "metadata": {},
   "outputs": [],
   "source": [
    "from selenium import webdriver"
   ]
  },
  {
   "cell_type": "code",
   "execution_count": 178,
   "id": "dc815ee0",
   "metadata": {},
   "outputs": [],
   "source": [
    "def detailPagePaser():\n",
    "    product_title = driver.find_element(By.CLASS_NAME, \"product-top-info-title\")\n",
    "    product_reviews = driver.find_elements(By.CLASS_NAME, \"product-review-content\")\n",
    "    star = driver.find_element(By.CLASS_NAME, \"product-detail-satisfaction-score\")\n",
    "\n",
    "    product_title = product_title.text\n",
    "    star = star.text\n",
    "    product_reviews = [x.text for x in product_reviews]\n",
    "    \n",
    "    return product_title, star, product_reviews"
   ]
  },
  {
   "cell_type": "code",
   "execution_count": 179,
   "id": "55278f1a",
   "metadata": {},
   "outputs": [],
   "source": [
    "detail_urls = []"
   ]
  },
  {
   "cell_type": "code",
   "execution_count": 180,
   "id": "770bf841",
   "metadata": {
    "scrolled": false
   },
   "outputs": [
    {
     "ename": "WebDriverException",
     "evalue": "Message: unknown error: net::ERR_INTERNET_DISCONNECTED\n  (Session info: chrome=113.0.5672.126)\nStacktrace:\nBacktrace:\n\tGetHandleVerifier [0x00478893+48451]\n\t(No symbol) [0x0040B8A1]\n\t(No symbol) [0x00315058]\n\t(No symbol) [0x00311843]\n\t(No symbol) [0x00308AC5]\n\t(No symbol) [0x00309B2A]\n\t(No symbol) [0x00308E23]\n\t(No symbol) [0x00308175]\n\t(No symbol) [0x0030810C]\n\t(No symbol) [0x00306D46]\n\t(No symbol) [0x003074A8]\n\t(No symbol) [0x003167F2]\n\t(No symbol) [0x0036CA61]\n\t(No symbol) [0x0035A2BC]\n\t(No symbol) [0x0036C482]\n\t(No symbol) [0x0035A0B6]\n\t(No symbol) [0x00337E08]\n\t(No symbol) [0x00338F2D]\n\tGetHandleVerifier [0x006D8E3A+2540266]\n\tGetHandleVerifier [0x00718959+2801161]\n\tGetHandleVerifier [0x0071295C+2776588]\n\tGetHandleVerifier [0x00502280+612144]\n\t(No symbol) [0x00414F6C]\n\t(No symbol) [0x004111D8]\n\t(No symbol) [0x004112BB]\n\t(No symbol) [0x00404857]\n\tBaseThreadInitThunk [0x76247D59+25]\n\tRtlInitializeExceptionChain [0x7720B74B+107]\n\tRtlClearBits [0x7720B6CF+191]\n",
     "output_type": "error",
     "traceback": [
      "\u001b[1;31m---------------------------------------------------------------------------\u001b[0m",
      "\u001b[1;31mWebDriverException\u001b[0m                        Traceback (most recent call last)",
      "\u001b[1;32m~\\AppData\\Local\\Temp\\ipykernel_17436\\3798824886.py\u001b[0m in \u001b[0;36m<module>\u001b[1;34m\u001b[0m\n\u001b[0;32m      1\u001b[0m \u001b[0mpage_num\u001b[0m \u001b[1;33m=\u001b[0m \u001b[1;36m1\u001b[0m\u001b[1;33m\u001b[0m\u001b[1;33m\u001b[0m\u001b[0m\n\u001b[0;32m      2\u001b[0m \u001b[0mmain_url\u001b[0m \u001b[1;33m=\u001b[0m \u001b[1;34m'https://www.nonghyupmall.com/BC1F010M/srchTotalList.nh?userLogin=false&searchTerm=%EA%B3%A0%EA%B5%AC%EB%A7%88&smartTerm=&totalSearchTerm=&chanC=1101&CHAN_C=1101&brncfc=%2C0001%2C7001%2C6005&page={}&listDiv=60&order=%EC%A0%95%ED%99%95%EB%8F%84%EC%88%9C&selectCat=1101%40%40110100%40%40003%24%24%EC%B1%84%EC%86%8C%2F%EB%B2%84%EC%84%AF%2C&selectMk=&selectBene=&sCtgrCArr=&listType=&cateGroup=1101%40%40110100%40%40003%24%24%EC%B1%84%EC%86%8C%2F%EB%B2%84%EC%84%AF&minCost=&maxCost=&reSearchTerm='\u001b[0m\u001b[1;33m.\u001b[0m\u001b[0mformat\u001b[0m\u001b[1;33m(\u001b[0m\u001b[0mpage_num\u001b[0m\u001b[1;33m)\u001b[0m\u001b[1;33m\u001b[0m\u001b[1;33m\u001b[0m\u001b[0m\n\u001b[1;32m----> 3\u001b[1;33m \u001b[0mdriver\u001b[0m\u001b[1;33m.\u001b[0m\u001b[0mget\u001b[0m\u001b[1;33m(\u001b[0m\u001b[0mmain_url\u001b[0m\u001b[1;33m)\u001b[0m\u001b[1;33m\u001b[0m\u001b[1;33m\u001b[0m\u001b[0m\n\u001b[0m\u001b[0;32m      4\u001b[0m \u001b[0mdriver\u001b[0m\u001b[1;33m.\u001b[0m\u001b[0mget\u001b[0m\u001b[1;33m(\u001b[0m\u001b[0mmain_url\u001b[0m\u001b[1;33m)\u001b[0m\u001b[1;33m\u001b[0m\u001b[1;33m\u001b[0m\u001b[0m\n\u001b[0;32m      5\u001b[0m \u001b[1;33m\u001b[0m\u001b[0m\n",
      "\u001b[1;32m~\\anaconda3\\lib\\site-packages\\selenium\\webdriver\\remote\\webdriver.py\u001b[0m in \u001b[0;36mget\u001b[1;34m(self, url)\u001b[0m\n\u001b[0;32m    453\u001b[0m         \u001b[0mLoads\u001b[0m \u001b[0ma\u001b[0m \u001b[0mweb\u001b[0m \u001b[0mpage\u001b[0m \u001b[1;32min\u001b[0m \u001b[0mthe\u001b[0m \u001b[0mcurrent\u001b[0m \u001b[0mbrowser\u001b[0m \u001b[0msession\u001b[0m\u001b[1;33m.\u001b[0m\u001b[1;33m\u001b[0m\u001b[1;33m\u001b[0m\u001b[0m\n\u001b[0;32m    454\u001b[0m         \"\"\"\n\u001b[1;32m--> 455\u001b[1;33m         \u001b[0mself\u001b[0m\u001b[1;33m.\u001b[0m\u001b[0mexecute\u001b[0m\u001b[1;33m(\u001b[0m\u001b[0mCommand\u001b[0m\u001b[1;33m.\u001b[0m\u001b[0mGET\u001b[0m\u001b[1;33m,\u001b[0m \u001b[1;33m{\u001b[0m\u001b[1;34m\"url\"\u001b[0m\u001b[1;33m:\u001b[0m \u001b[0murl\u001b[0m\u001b[1;33m}\u001b[0m\u001b[1;33m)\u001b[0m\u001b[1;33m\u001b[0m\u001b[1;33m\u001b[0m\u001b[0m\n\u001b[0m\u001b[0;32m    456\u001b[0m \u001b[1;33m\u001b[0m\u001b[0m\n\u001b[0;32m    457\u001b[0m     \u001b[1;33m@\u001b[0m\u001b[0mproperty\u001b[0m\u001b[1;33m\u001b[0m\u001b[1;33m\u001b[0m\u001b[0m\n",
      "\u001b[1;32m~\\anaconda3\\lib\\site-packages\\selenium\\webdriver\\remote\\webdriver.py\u001b[0m in \u001b[0;36mexecute\u001b[1;34m(self, driver_command, params)\u001b[0m\n\u001b[0;32m    442\u001b[0m         \u001b[0mresponse\u001b[0m \u001b[1;33m=\u001b[0m \u001b[0mself\u001b[0m\u001b[1;33m.\u001b[0m\u001b[0mcommand_executor\u001b[0m\u001b[1;33m.\u001b[0m\u001b[0mexecute\u001b[0m\u001b[1;33m(\u001b[0m\u001b[0mdriver_command\u001b[0m\u001b[1;33m,\u001b[0m \u001b[0mparams\u001b[0m\u001b[1;33m)\u001b[0m\u001b[1;33m\u001b[0m\u001b[1;33m\u001b[0m\u001b[0m\n\u001b[0;32m    443\u001b[0m         \u001b[1;32mif\u001b[0m \u001b[0mresponse\u001b[0m\u001b[1;33m:\u001b[0m\u001b[1;33m\u001b[0m\u001b[1;33m\u001b[0m\u001b[0m\n\u001b[1;32m--> 444\u001b[1;33m             \u001b[0mself\u001b[0m\u001b[1;33m.\u001b[0m\u001b[0merror_handler\u001b[0m\u001b[1;33m.\u001b[0m\u001b[0mcheck_response\u001b[0m\u001b[1;33m(\u001b[0m\u001b[0mresponse\u001b[0m\u001b[1;33m)\u001b[0m\u001b[1;33m\u001b[0m\u001b[1;33m\u001b[0m\u001b[0m\n\u001b[0m\u001b[0;32m    445\u001b[0m             \u001b[0mresponse\u001b[0m\u001b[1;33m[\u001b[0m\u001b[1;34m\"value\"\u001b[0m\u001b[1;33m]\u001b[0m \u001b[1;33m=\u001b[0m \u001b[0mself\u001b[0m\u001b[1;33m.\u001b[0m\u001b[0m_unwrap_value\u001b[0m\u001b[1;33m(\u001b[0m\u001b[0mresponse\u001b[0m\u001b[1;33m.\u001b[0m\u001b[0mget\u001b[0m\u001b[1;33m(\u001b[0m\u001b[1;34m\"value\"\u001b[0m\u001b[1;33m,\u001b[0m \u001b[1;32mNone\u001b[0m\u001b[1;33m)\u001b[0m\u001b[1;33m)\u001b[0m\u001b[1;33m\u001b[0m\u001b[1;33m\u001b[0m\u001b[0m\n\u001b[0;32m    446\u001b[0m             \u001b[1;32mreturn\u001b[0m \u001b[0mresponse\u001b[0m\u001b[1;33m\u001b[0m\u001b[1;33m\u001b[0m\u001b[0m\n",
      "\u001b[1;32m~\\anaconda3\\lib\\site-packages\\selenium\\webdriver\\remote\\errorhandler.py\u001b[0m in \u001b[0;36mcheck_response\u001b[1;34m(self, response)\u001b[0m\n\u001b[0;32m    247\u001b[0m                 \u001b[0malert_text\u001b[0m \u001b[1;33m=\u001b[0m \u001b[0mvalue\u001b[0m\u001b[1;33m[\u001b[0m\u001b[1;34m\"alert\"\u001b[0m\u001b[1;33m]\u001b[0m\u001b[1;33m.\u001b[0m\u001b[0mget\u001b[0m\u001b[1;33m(\u001b[0m\u001b[1;34m\"text\"\u001b[0m\u001b[1;33m)\u001b[0m\u001b[1;33m\u001b[0m\u001b[1;33m\u001b[0m\u001b[0m\n\u001b[0;32m    248\u001b[0m             \u001b[1;32mraise\u001b[0m \u001b[0mexception_class\u001b[0m\u001b[1;33m(\u001b[0m\u001b[0mmessage\u001b[0m\u001b[1;33m,\u001b[0m \u001b[0mscreen\u001b[0m\u001b[1;33m,\u001b[0m \u001b[0mstacktrace\u001b[0m\u001b[1;33m,\u001b[0m \u001b[0malert_text\u001b[0m\u001b[1;33m)\u001b[0m  \u001b[1;31m# type: ignore[call-arg]  # mypy is not smart enough here\u001b[0m\u001b[1;33m\u001b[0m\u001b[1;33m\u001b[0m\u001b[0m\n\u001b[1;32m--> 249\u001b[1;33m         \u001b[1;32mraise\u001b[0m \u001b[0mexception_class\u001b[0m\u001b[1;33m(\u001b[0m\u001b[0mmessage\u001b[0m\u001b[1;33m,\u001b[0m \u001b[0mscreen\u001b[0m\u001b[1;33m,\u001b[0m \u001b[0mstacktrace\u001b[0m\u001b[1;33m)\u001b[0m\u001b[1;33m\u001b[0m\u001b[1;33m\u001b[0m\u001b[0m\n\u001b[0m",
      "\u001b[1;31mWebDriverException\u001b[0m: Message: unknown error: net::ERR_INTERNET_DISCONNECTED\n  (Session info: chrome=113.0.5672.126)\nStacktrace:\nBacktrace:\n\tGetHandleVerifier [0x00478893+48451]\n\t(No symbol) [0x0040B8A1]\n\t(No symbol) [0x00315058]\n\t(No symbol) [0x00311843]\n\t(No symbol) [0x00308AC5]\n\t(No symbol) [0x00309B2A]\n\t(No symbol) [0x00308E23]\n\t(No symbol) [0x00308175]\n\t(No symbol) [0x0030810C]\n\t(No symbol) [0x00306D46]\n\t(No symbol) [0x003074A8]\n\t(No symbol) [0x003167F2]\n\t(No symbol) [0x0036CA61]\n\t(No symbol) [0x0035A2BC]\n\t(No symbol) [0x0036C482]\n\t(No symbol) [0x0035A0B6]\n\t(No symbol) [0x00337E08]\n\t(No symbol) [0x00338F2D]\n\tGetHandleVerifier [0x006D8E3A+2540266]\n\tGetHandleVerifier [0x00718959+2801161]\n\tGetHandleVerifier [0x0071295C+2776588]\n\tGetHandleVerifier [0x00502280+612144]\n\t(No symbol) [0x00414F6C]\n\t(No symbol) [0x004111D8]\n\t(No symbol) [0x004112BB]\n\t(No symbol) [0x00404857]\n\tBaseThreadInitThunk [0x76247D59+25]\n\tRtlInitializeExceptionChain [0x7720B74B+107]\n\tRtlClearBits [0x7720B6CF+191]\n"
     ]
    }
   ],
   "source": [
    "page_num = 1\n",
    "main_url = ''.format(page_num)\n",
    "driver.get(main_url)\n",
    "driver.get(main_url)\n",
    "\n",
    "elements = driver.find_elements(By.CLASS_NAME,\"product-item\")\n",
    "\n",
    "for idx, _ in enumerate(elements):\n",
    "    driver.get(main_url) # 이거 할때마다 elements가 바뀜 element 순서로 코드 짜야함.\n",
    "    driver.get(main_url)\n",
    "    elements = driver.find_elements(By.CLASS_NAME,\"product-item\")\n",
    "    time.sleep(2)\n",
    "    elements[idx].click() # 브라우저 크기에 따라 클릭이 안되는 이슈가 있음.\n",
    "    time.sleep(2)\n",
    "    detail_url = driver.current_url\n",
    "    detail_urls.append(detail_url)\n",
    "    time.sleep(2)\n",
    "    "
   ]
  },
  {
   "cell_type": "code",
   "execution_count": 106,
   "id": "059baa81",
   "metadata": {
    "scrolled": false
   },
   "outputs": [
    {
     "name": "stderr",
     "output_type": "stream",
     "text": [
      "100%|██████████████████████████████████████████████████████████████████████████████████| 60/60 [09:27<00:00,  9.45s/it]\n"
     ]
    }
   ],
   "source": [
    "titles = []\n",
    "reviews = []\n",
    "stars = []\n",
    "for url in tqdm(detail_urls):\n",
    "    driver.get(url)\n",
    "    driver.get(url)\n",
    "    time.sleep(3)\n",
    "    title, star ,review = detailPagePaser()\n",
    "    titles.append(title)\n",
    "    reviews.append(review)\n",
    "    stars.append(star)"
   ]
  },
  {
   "cell_type": "code",
   "execution_count": 182,
   "id": "0f9752ca",
   "metadata": {},
   "outputs": [],
   "source": [
    "df = pd.DataFrame({'title':titles,'review':reviews,'star':stars})"
   ]
  },
  {
   "cell_type": "code",
   "execution_count": 202,
   "id": "3c95699c",
   "metadata": {},
   "outputs": [],
   "source": [
    "import os\n",
    "import pickle"
   ]
  },
  {
   "cell_type": "code",
   "execution_count": 203,
   "id": "77669585",
   "metadata": {},
   "outputs": [],
   "source": [
    "path = os.getcwd()"
   ]
  },
  {
   "cell_type": "code",
   "execution_count": 206,
   "id": "dfaa7eb1",
   "metadata": {
    "scrolled": true
   },
   "outputs": [],
   "source": [
    "with open(path + '/data/raw.pickle','wb') as f:\n",
    "    pickle.dump(df,f)"
   ]
  },
  {
   "cell_type": "code",
   "execution_count": 207,
   "id": "3fc976bb",
   "metadata": {},
   "outputs": [],
   "source": [
    "df.to_csv(path + '/data/raw.csv')"
   ]
  }
 ],
 "metadata": {
  "kernelspec": {
   "display_name": "Python 3 (ipykernel)",
   "language": "python",
   "name": "python3"
  },
  "language_info": {
   "codemirror_mode": {
    "name": "ipython",
    "version": 3
   },
   "file_extension": ".py",
   "mimetype": "text/x-python",
   "name": "python",
   "nbconvert_exporter": "python",
   "pygments_lexer": "ipython3",
   "version": "3.9.13"
  }
 },
 "nbformat": 4,
 "nbformat_minor": 5
}
